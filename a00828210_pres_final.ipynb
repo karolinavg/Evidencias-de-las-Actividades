{
  "nbformat": 4,
  "nbformat_minor": 0,
  "metadata": {
    "colab": {
      "provenance": [],
      "mount_file_id": "19YjqFDuPLH4k_dVCCM8-MRuYPiyF-_S8",
      "authorship_tag": "ABX9TyOdRSdjiccq+25LFxJcNvOw",
      "include_colab_link": true
    },
    "kernelspec": {
      "name": "python3",
      "display_name": "Python 3"
    },
    "language_info": {
      "name": "python"
    }
  },
  "cells": [
    {
      "cell_type": "markdown",
      "metadata": {
        "id": "view-in-github",
        "colab_type": "text"
      },
      "source": [
        "<a href=\"https://colab.research.google.com/github/karolinavg/Evidencias-de-las-Actividades/blob/main/a00828210_pres_final.ipynb\" target=\"_parent\"><img src=\"https://colab.research.google.com/assets/colab-badge.svg\" alt=\"Open In Colab\"/></a>"
      ]
    },
    {
      "cell_type": "markdown",
      "source": [
        "# **Singapore Property Prices from 2017 to 2021**"
      ],
      "metadata": {
        "id": "eik2D1Y_Yx4D"
      }
    },
    {
      "cell_type": "markdown",
      "source": [
        "**Description of Databaset**\n",
        "\n",
        "---\n",
        "Singapur is a city-state located in Asia, these past years it has become one of the 10 most expensive cities to live in. In average 1 square meter is worth 14,373 dollars. The database, which has a total of 92,270 rows, 11 columns, contains information of properties prices from a variety of towns from 2017 to 2021 in Singapore. "
      ],
      "metadata": {
        "id": "zVc9hmkPk6tJ"
      }
    },
    {
      "cell_type": "markdown",
      "source": [
        "##**Variables description**\n",
        "---\n",
        "\n"
      ],
      "metadata": {
        "id": "E3jP95hVrg53"
      }
    },
    {
      "cell_type": "markdown",
      "source": [
        "The database has 11 variables which are:\n",
        "* **month** (numerical) --> date of when was the data collected, includes monthe and year\n",
        "* **town** (categorical) --> in which Singapore's town the house/apartment is located.\n",
        "* **flat_type** (categorical) --> the type of flat \n",
        "* block (categorical) --> the number of block where the housing is located\n",
        "* **street_name** (categorical) --> what is the name of the street where the housing is located\n",
        "* storey_range (categorical) --> the range of floors inside the building from where the housing is located \n",
        "* **floor_area_sqm** (numerical) --> the floor area square meter (m^2)\n",
        "* **flat_model** (categorical) --> the model of the flat\n",
        "* lease_commence_date (numerical) --> year of when the lease began\n",
        "* remaining_lease (numerical) --> it shows the reamaining years and months of the lease\n",
        "* **resale_price** (numerical) --> the price in singapore dollar of the housing, 1 Singapore Dollar == 14.05 Mexican Peso\n"
      ],
      "metadata": {
        "id": "q9bMKSdUoG_f"
      }
    },
    {
      "cell_type": "code",
      "execution_count": null,
      "metadata": {
        "id": "JUi-Un5JStcU"
      },
      "outputs": [],
      "source": [
        "import pandas as pd\n",
        "import numpy as np\n",
        "import seaborn as sns\n",
        "import altair as alt\n",
        "import matplotlib.pyplot as plt\n",
        "import statsmodels.api as sample_data\n",
        "from sklearn import linear_model as LM\n",
        "import statsmodels.api as sm\n",
        "from sklearn.model_selection import train_test_split \n",
        "from sklearn.linear_model import LinearRegression "
      ]
    },
    {
      "cell_type": "code",
      "execution_count": null,
      "metadata": {
        "id": "imeeH8XPO4eF"
      },
      "outputs": [],
      "source": [
        "data='/content/drive/MyDrive/5 SEMESTRE/Visualization of Data for Decision Making/Flat prices.csv'"
      ]
    },
    {
      "cell_type": "code",
      "source": [
        "df=pd.read_csv(data)\n",
        "df.head()"
      ],
      "metadata": {
        "colab": {
          "base_uri": "https://localhost:8080/",
          "height": 337
        },
        "id": "xsgw4gbxRlx_",
        "outputId": "1239ac82-70a9-4d06-866a-fd184be54c6e"
      },
      "execution_count": null,
      "outputs": [
        {
          "output_type": "execute_result",
          "data": {
            "text/plain": [
              "     month        town flat_type block        street_name storey_range  \\\n",
              "0  2017-01  ANG MO KIO    2 ROOM   406  ANG MO KIO AVE 10     10 TO 12   \n",
              "1  2017-01  ANG MO KIO    3 ROOM   108   ANG MO KIO AVE 4     01 TO 03   \n",
              "2  2017-01  ANG MO KIO    3 ROOM   602   ANG MO KIO AVE 5     01 TO 03   \n",
              "3  2017-01  ANG MO KIO    3 ROOM   465  ANG MO KIO AVE 10     04 TO 06   \n",
              "4  2017-01  ANG MO KIO    3 ROOM   601   ANG MO KIO AVE 5     01 TO 03   \n",
              "\n",
              "   floor_area_sqm      flat_model  lease_commence_date     remaining_lease  \\\n",
              "0            44.0        Improved                 1979  61 years 04 months   \n",
              "1            67.0  New Generation                 1978  60 years 07 months   \n",
              "2            67.0  New Generation                 1980  62 years 05 months   \n",
              "3            68.0  New Generation                 1980   62 years 01 month   \n",
              "4            67.0  New Generation                 1980  62 years 05 months   \n",
              "\n",
              "   resale_price  \n",
              "0      232000.0  \n",
              "1      250000.0  \n",
              "2      262000.0  \n",
              "3      265000.0  \n",
              "4      265000.0  "
            ],
            "text/html": [
              "\n",
              "  <div id=\"df-ae1a31d1-f9e7-4948-bda6-8aef96a883a1\">\n",
              "    <div class=\"colab-df-container\">\n",
              "      <div>\n",
              "<style scoped>\n",
              "    .dataframe tbody tr th:only-of-type {\n",
              "        vertical-align: middle;\n",
              "    }\n",
              "\n",
              "    .dataframe tbody tr th {\n",
              "        vertical-align: top;\n",
              "    }\n",
              "\n",
              "    .dataframe thead th {\n",
              "        text-align: right;\n",
              "    }\n",
              "</style>\n",
              "<table border=\"1\" class=\"dataframe\">\n",
              "  <thead>\n",
              "    <tr style=\"text-align: right;\">\n",
              "      <th></th>\n",
              "      <th>month</th>\n",
              "      <th>town</th>\n",
              "      <th>flat_type</th>\n",
              "      <th>block</th>\n",
              "      <th>street_name</th>\n",
              "      <th>storey_range</th>\n",
              "      <th>floor_area_sqm</th>\n",
              "      <th>flat_model</th>\n",
              "      <th>lease_commence_date</th>\n",
              "      <th>remaining_lease</th>\n",
              "      <th>resale_price</th>\n",
              "    </tr>\n",
              "  </thead>\n",
              "  <tbody>\n",
              "    <tr>\n",
              "      <th>0</th>\n",
              "      <td>2017-01</td>\n",
              "      <td>ANG MO KIO</td>\n",
              "      <td>2 ROOM</td>\n",
              "      <td>406</td>\n",
              "      <td>ANG MO KIO AVE 10</td>\n",
              "      <td>10 TO 12</td>\n",
              "      <td>44.0</td>\n",
              "      <td>Improved</td>\n",
              "      <td>1979</td>\n",
              "      <td>61 years 04 months</td>\n",
              "      <td>232000.0</td>\n",
              "    </tr>\n",
              "    <tr>\n",
              "      <th>1</th>\n",
              "      <td>2017-01</td>\n",
              "      <td>ANG MO KIO</td>\n",
              "      <td>3 ROOM</td>\n",
              "      <td>108</td>\n",
              "      <td>ANG MO KIO AVE 4</td>\n",
              "      <td>01 TO 03</td>\n",
              "      <td>67.0</td>\n",
              "      <td>New Generation</td>\n",
              "      <td>1978</td>\n",
              "      <td>60 years 07 months</td>\n",
              "      <td>250000.0</td>\n",
              "    </tr>\n",
              "    <tr>\n",
              "      <th>2</th>\n",
              "      <td>2017-01</td>\n",
              "      <td>ANG MO KIO</td>\n",
              "      <td>3 ROOM</td>\n",
              "      <td>602</td>\n",
              "      <td>ANG MO KIO AVE 5</td>\n",
              "      <td>01 TO 03</td>\n",
              "      <td>67.0</td>\n",
              "      <td>New Generation</td>\n",
              "      <td>1980</td>\n",
              "      <td>62 years 05 months</td>\n",
              "      <td>262000.0</td>\n",
              "    </tr>\n",
              "    <tr>\n",
              "      <th>3</th>\n",
              "      <td>2017-01</td>\n",
              "      <td>ANG MO KIO</td>\n",
              "      <td>3 ROOM</td>\n",
              "      <td>465</td>\n",
              "      <td>ANG MO KIO AVE 10</td>\n",
              "      <td>04 TO 06</td>\n",
              "      <td>68.0</td>\n",
              "      <td>New Generation</td>\n",
              "      <td>1980</td>\n",
              "      <td>62 years 01 month</td>\n",
              "      <td>265000.0</td>\n",
              "    </tr>\n",
              "    <tr>\n",
              "      <th>4</th>\n",
              "      <td>2017-01</td>\n",
              "      <td>ANG MO KIO</td>\n",
              "      <td>3 ROOM</td>\n",
              "      <td>601</td>\n",
              "      <td>ANG MO KIO AVE 5</td>\n",
              "      <td>01 TO 03</td>\n",
              "      <td>67.0</td>\n",
              "      <td>New Generation</td>\n",
              "      <td>1980</td>\n",
              "      <td>62 years 05 months</td>\n",
              "      <td>265000.0</td>\n",
              "    </tr>\n",
              "  </tbody>\n",
              "</table>\n",
              "</div>\n",
              "      <button class=\"colab-df-convert\" onclick=\"convertToInteractive('df-ae1a31d1-f9e7-4948-bda6-8aef96a883a1')\"\n",
              "              title=\"Convert this dataframe to an interactive table.\"\n",
              "              style=\"display:none;\">\n",
              "        \n",
              "  <svg xmlns=\"http://www.w3.org/2000/svg\" height=\"24px\"viewBox=\"0 0 24 24\"\n",
              "       width=\"24px\">\n",
              "    <path d=\"M0 0h24v24H0V0z\" fill=\"none\"/>\n",
              "    <path d=\"M18.56 5.44l.94 2.06.94-2.06 2.06-.94-2.06-.94-.94-2.06-.94 2.06-2.06.94zm-11 1L8.5 8.5l.94-2.06 2.06-.94-2.06-.94L8.5 2.5l-.94 2.06-2.06.94zm10 10l.94 2.06.94-2.06 2.06-.94-2.06-.94-.94-2.06-.94 2.06-2.06.94z\"/><path d=\"M17.41 7.96l-1.37-1.37c-.4-.4-.92-.59-1.43-.59-.52 0-1.04.2-1.43.59L10.3 9.45l-7.72 7.72c-.78.78-.78 2.05 0 2.83L4 21.41c.39.39.9.59 1.41.59.51 0 1.02-.2 1.41-.59l7.78-7.78 2.81-2.81c.8-.78.8-2.07 0-2.86zM5.41 20L4 18.59l7.72-7.72 1.47 1.35L5.41 20z\"/>\n",
              "  </svg>\n",
              "      </button>\n",
              "      \n",
              "  <style>\n",
              "    .colab-df-container {\n",
              "      display:flex;\n",
              "      flex-wrap:wrap;\n",
              "      gap: 12px;\n",
              "    }\n",
              "\n",
              "    .colab-df-convert {\n",
              "      background-color: #E8F0FE;\n",
              "      border: none;\n",
              "      border-radius: 50%;\n",
              "      cursor: pointer;\n",
              "      display: none;\n",
              "      fill: #1967D2;\n",
              "      height: 32px;\n",
              "      padding: 0 0 0 0;\n",
              "      width: 32px;\n",
              "    }\n",
              "\n",
              "    .colab-df-convert:hover {\n",
              "      background-color: #E2EBFA;\n",
              "      box-shadow: 0px 1px 2px rgba(60, 64, 67, 0.3), 0px 1px 3px 1px rgba(60, 64, 67, 0.15);\n",
              "      fill: #174EA6;\n",
              "    }\n",
              "\n",
              "    [theme=dark] .colab-df-convert {\n",
              "      background-color: #3B4455;\n",
              "      fill: #D2E3FC;\n",
              "    }\n",
              "\n",
              "    [theme=dark] .colab-df-convert:hover {\n",
              "      background-color: #434B5C;\n",
              "      box-shadow: 0px 1px 3px 1px rgba(0, 0, 0, 0.15);\n",
              "      filter: drop-shadow(0px 1px 2px rgba(0, 0, 0, 0.3));\n",
              "      fill: #FFFFFF;\n",
              "    }\n",
              "  </style>\n",
              "\n",
              "      <script>\n",
              "        const buttonEl =\n",
              "          document.querySelector('#df-ae1a31d1-f9e7-4948-bda6-8aef96a883a1 button.colab-df-convert');\n",
              "        buttonEl.style.display =\n",
              "          google.colab.kernel.accessAllowed ? 'block' : 'none';\n",
              "\n",
              "        async function convertToInteractive(key) {\n",
              "          const element = document.querySelector('#df-ae1a31d1-f9e7-4948-bda6-8aef96a883a1');\n",
              "          const dataTable =\n",
              "            await google.colab.kernel.invokeFunction('convertToInteractive',\n",
              "                                                     [key], {});\n",
              "          if (!dataTable) return;\n",
              "\n",
              "          const docLinkHtml = 'Like what you see? Visit the ' +\n",
              "            '<a target=\"_blank\" href=https://colab.research.google.com/notebooks/data_table.ipynb>data table notebook</a>'\n",
              "            + ' to learn more about interactive tables.';\n",
              "          element.innerHTML = '';\n",
              "          dataTable['output_type'] = 'display_data';\n",
              "          await google.colab.output.renderOutput(dataTable, element);\n",
              "          const docLink = document.createElement('div');\n",
              "          docLink.innerHTML = docLinkHtml;\n",
              "          element.appendChild(docLink);\n",
              "        }\n",
              "      </script>\n",
              "    </div>\n",
              "  </div>\n",
              "  "
            ]
          },
          "metadata": {},
          "execution_count": 4
        }
      ]
    },
    {
      "cell_type": "code",
      "source": [
        "type(data)"
      ],
      "metadata": {
        "id": "3qIX-au5YMmJ",
        "colab": {
          "base_uri": "https://localhost:8080/"
        },
        "outputId": "39c028cf-171a-4d8f-dafb-3d217d127857"
      },
      "execution_count": null,
      "outputs": [
        {
          "output_type": "execute_result",
          "data": {
            "text/plain": [
              "str"
            ]
          },
          "metadata": {},
          "execution_count": 5
        }
      ]
    },
    {
      "cell_type": "markdown",
      "source": [
        "## 1. Has the price increased or decreased through the years?\n",
        "The pademic made de price of housing decrease, but as soon as the economy started getting  better the prices are getting higher in a greater rate than before."
      ],
      "metadata": {
        "id": "K5DDgECq1kO9"
      }
    },
    {
      "cell_type": "code",
      "source": [
        "sns.lineplot(data=df,\n",
        "             x='month',\n",
        "             y='resale_price',\n",
        "             color='magenta',\n",
        "             ci=None)\n",
        "plt.xticks([0,10,20,30,40,49])\n",
        "plt.title('The average cost of housing from 2017 to 2021',size=15)"
      ],
      "metadata": {
        "colab": {
          "base_uri": "https://localhost:8080/",
          "height": 314
        },
        "id": "VteS_4H4_G1t",
        "outputId": "7903415c-532a-449f-f442-035d31603449"
      },
      "execution_count": null,
      "outputs": [
        {
          "output_type": "execute_result",
          "data": {
            "text/plain": [
              "Text(0.5, 1.0, 'The average cost of housing from 2017 to 2021')"
            ]
          },
          "metadata": {},
          "execution_count": 90
        },
        {
          "output_type": "display_data",
          "data": {
            "text/plain": [
              "<Figure size 432x288 with 1 Axes>"
            ],
            "image/png": "[encoded data removed]"
          },
          "metadata": {
            "needs_background": "light"
          }
        }
      ]
    },
    {
      "cell_type": "markdown",
      "source": [
        "## 2. Which are the 5 most expensive towns to live in? "
      ],
      "metadata": {
        "id": "eRCYeDWa2FEN"
      }
    },
    {
      "cell_type": "code",
      "source": [
        "df1 =df.copy()"
      ],
      "metadata": {
        "id": "ia0D2d2ILt5M"
      },
      "execution_count": null,
      "outputs": []
    },
    {
      "cell_type": "code",
      "source": [
        "df1.columns"
      ],
      "metadata": {
        "colab": {
          "base_uri": "https://localhost:8080/"
        },
        "id": "QNFBZV51L15j",
        "outputId": "bddf5fe5-2125-4445-9e2c-24f4fdc6f045"
      },
      "execution_count": null,
      "outputs": [
        {
          "output_type": "execute_result",
          "data": {
            "text/plain": [
              "Index(['month', 'town', 'flat_type', 'block', 'street_name', 'storey_range',\n",
              "       'floor_area_sqm', 'flat_model', 'lease_commence_date',\n",
              "       'remaining_lease', 'resale_price'],\n",
              "      dtype='object')"
            ]
          },
          "metadata": {},
          "execution_count": 8
        }
      ]
    },
    {
      "cell_type": "code",
      "source": [
        "pt_price_town=df1.pivot_table(index=['town'],\n",
        "                  values=['resale_price'],\n",
        "                  aggfunc='mean').sort_values(by=['resale_price'],ascending=False)\n",
        "top5 = pt_price_town.head()\n",
        "top5"
      ],
      "metadata": {
        "colab": {
          "base_uri": "https://localhost:8080/",
          "height": 238
        },
        "id": "E9g7MaxtL7jK",
        "outputId": "d5aece0c-2737-448e-8c94-43e5495f23f7"
      },
      "execution_count": null,
      "outputs": [
        {
          "output_type": "execute_result",
          "data": {
            "text/plain": [
              "               resale_price\n",
              "town                       \n",
              "BUKIT TIMAH   712396.243137\n",
              "BISHAN        639652.640857\n",
              "CENTRAL AREA  620021.011921\n",
              "QUEENSTOWN    570809.994369\n",
              "BUKIT MERAH   564240.003343"
            ],
            "text/html": [
              "\n",
              "  <div id=\"df-745a22ba-f09c-48e4-bfc0-04920bff452f\">\n",
              "    <div class=\"colab-df-container\">\n",
              "      <div>\n",
              "<style scoped>\n",
              "    .dataframe tbody tr th:only-of-type {\n",
              "        vertical-align: middle;\n",
              "    }\n",
              "\n",
              "    .dataframe tbody tr th {\n",
              "        vertical-align: top;\n",
              "    }\n",
              "\n",
              "    .dataframe thead th {\n",
              "        text-align: right;\n",
              "    }\n",
              "</style>\n",
              "<table border=\"1\" class=\"dataframe\">\n",
              "  <thead>\n",
              "    <tr style=\"text-align: right;\">\n",
              "      <th></th>\n",
              "      <th>resale_price</th>\n",
              "    </tr>\n",
              "    <tr>\n",
              "      <th>town</th>\n",
              "      <th></th>\n",
              "    </tr>\n",
              "  </thead>\n",
              "  <tbody>\n",
              "    <tr>\n",
              "      <th>BUKIT TIMAH</th>\n",
              "      <td>712396.243137</td>\n",
              "    </tr>\n",
              "    <tr>\n",
              "      <th>BISHAN</th>\n",
              "      <td>639652.640857</td>\n",
              "    </tr>\n",
              "    <tr>\n",
              "      <th>CENTRAL AREA</th>\n",
              "      <td>620021.011921</td>\n",
              "    </tr>\n",
              "    <tr>\n",
              "      <th>QUEENSTOWN</th>\n",
              "      <td>570809.994369</td>\n",
              "    </tr>\n",
              "    <tr>\n",
              "      <th>BUKIT MERAH</th>\n",
              "      <td>564240.003343</td>\n",
              "    </tr>\n",
              "  </tbody>\n",
              "</table>\n",
              "</div>\n",
              "      <button class=\"colab-df-convert\" onclick=\"convertToInteractive('df-745a22ba-f09c-48e4-bfc0-04920bff452f')\"\n",
              "              title=\"Convert this dataframe to an interactive table.\"\n",
              "              style=\"display:none;\">\n",
              "        \n",
              "  <svg xmlns=\"http://www.w3.org/2000/svg\" height=\"24px\"viewBox=\"0 0 24 24\"\n",
              "       width=\"24px\">\n",
              "    <path d=\"M0 0h24v24H0V0z\" fill=\"none\"/>\n",
              "    <path d=\"M18.56 5.44l.94 2.06.94-2.06 2.06-.94-2.06-.94-.94-2.06-.94 2.06-2.06.94zm-11 1L8.5 8.5l.94-2.06 2.06-.94-2.06-.94L8.5 2.5l-.94 2.06-2.06.94zm10 10l.94 2.06.94-2.06 2.06-.94-2.06-.94-.94-2.06-.94 2.06-2.06.94z\"/><path d=\"M17.41 7.96l-1.37-1.37c-.4-.4-.92-.59-1.43-.59-.52 0-1.04.2-1.43.59L10.3 9.45l-7.72 7.72c-.78.78-.78 2.05 0 2.83L4 21.41c.39.39.9.59 1.41.59.51 0 1.02-.2 1.41-.59l7.78-7.78 2.81-2.81c.8-.78.8-2.07 0-2.86zM5.41 20L4 18.59l7.72-7.72 1.47 1.35L5.41 20z\"/>\n",
              "  </svg>\n",
              "      </button>\n",
              "      \n",
              "  <style>\n",
              "    .colab-df-container {\n",
              "      display:flex;\n",
              "      flex-wrap:wrap;\n",
              "      gap: 12px;\n",
              "    }\n",
              "\n",
              "    .colab-df-convert {\n",
              "      background-color: #E8F0FE;\n",
              "      border: none;\n",
              "      border-radius: 50%;\n",
              "      cursor: pointer;\n",
              "      display: none;\n",
              "      fill: #1967D2;\n",
              "      height: 32px;\n",
              "      padding: 0 0 0 0;\n",
              "      width: 32px;\n",
              "    }\n",
              "\n",
              "    .colab-df-convert:hover {\n",
              "      background-color: #E2EBFA;\n",
              "      box-shadow: 0px 1px 2px rgba(60, 64, 67, 0.3), 0px 1px 3px 1px rgba(60, 64, 67, 0.15);\n",
              "      fill: #174EA6;\n",
              "    }\n",
              "\n",
              "    [theme=dark] .colab-df-convert {\n",
              "      background-color: #3B4455;\n",
              "      fill: #D2E3FC;\n",
              "    }\n",
              "\n",
              "    [theme=dark] .colab-df-convert:hover {\n",
              "      background-color: #434B5C;\n",
              "      box-shadow: 0px 1px 3px 1px rgba(0, 0, 0, 0.15);\n",
              "      filter: drop-shadow(0px 1px 2px rgba(0, 0, 0, 0.3));\n",
              "      fill: #FFFFFF;\n",
              "    }\n",
              "  </style>\n",
              "\n",
              "      <script>\n",
              "        const buttonEl =\n",
              "          document.querySelector('#df-745a22ba-f09c-48e4-bfc0-04920bff452f button.colab-df-convert');\n",
              "        buttonEl.style.display =\n",
              "          google.colab.kernel.accessAllowed ? 'block' : 'none';\n",
              "\n",
              "        async function convertToInteractive(key) {\n",
              "          const element = document.querySelector('#df-745a22ba-f09c-48e4-bfc0-04920bff452f');\n",
              "          const dataTable =\n",
              "            await google.colab.kernel.invokeFunction('convertToInteractive',\n",
              "                                                     [key], {});\n",
              "          if (!dataTable) return;\n",
              "\n",
              "          const docLinkHtml = 'Like what you see? Visit the ' +\n",
              "            '<a target=\"_blank\" href=https://colab.research.google.com/notebooks/data_table.ipynb>data table notebook</a>'\n",
              "            + ' to learn more about interactive tables.';\n",
              "          element.innerHTML = '';\n",
              "          dataTable['output_type'] = 'display_data';\n",
              "          await google.colab.output.renderOutput(dataTable, element);\n",
              "          const docLink = document.createElement('div');\n",
              "          docLink.innerHTML = docLinkHtml;\n",
              "          element.appendChild(docLink);\n",
              "        }\n",
              "      </script>\n",
              "    </div>\n",
              "  </div>\n",
              "  "
            ]
          },
          "metadata": {},
          "execution_count": 9
        }
      ]
    },
    {
      "cell_type": "code",
      "source": [
        "type(pt_price_town)"
      ],
      "metadata": {
        "colab": {
          "base_uri": "https://localhost:8080/"
        },
        "id": "RGuPeHuRcfMO",
        "outputId": "9f39989b-7da8-449e-fc2a-5d55b019711f"
      },
      "execution_count": null,
      "outputs": [
        {
          "output_type": "execute_result",
          "data": {
            "text/plain": [
              "pandas.core.frame.DataFrame"
            ]
          },
          "metadata": {},
          "execution_count": 10
        }
      ]
    },
    {
      "cell_type": "code",
      "source": [
        "type(df1)"
      ],
      "metadata": {
        "id": "plxhmqzRB7fo",
        "colab": {
          "base_uri": "https://localhost:8080/"
        },
        "outputId": "a4775ae9-e84e-4c7a-8a22-490c9c9738ff"
      },
      "execution_count": null,
      "outputs": [
        {
          "output_type": "execute_result",
          "data": {
            "text/plain": [
              "pandas.core.frame.DataFrame"
            ]
          },
          "metadata": {},
          "execution_count": 11
        }
      ]
    },
    {
      "cell_type": "markdown",
      "source": [
        "## 3. How has the prices changed in the 3 most expensive towns?"
      ],
      "metadata": {
        "id": "4StR6bSh4g4N"
      }
    },
    {
      "cell_type": "code",
      "source": [
        "top3_list=['BUKIT TIMAH','BISHAN','CENTRAL AREA']"
      ],
      "metadata": {
        "id": "aNKEjyRiiZMK"
      },
      "execution_count": null,
      "outputs": []
    },
    {
      "cell_type": "code",
      "source": [
        "top3_filter=df[df['town'].isin(top3_list)]\n",
        "top3_filter"
      ],
      "metadata": {
        "colab": {
          "base_uri": "https://localhost:8080/",
          "height": 641
        },
        "id": "9_XdcDf0_qBz",
        "outputId": "c1c91640-3b7a-42f0-c440-271cea3f0eb6"
      },
      "execution_count": null,
      "outputs": [
        {
          "output_type": "execute_result",
          "data": {
            "text/plain": [
              "         month          town flat_type block    street_name storey_range  \\\n",
              "126    2017-01        BISHAN    3 ROOM    22    SIN MING RD     10 TO 12   \n",
              "127    2017-01        BISHAN    3 ROOM   407   SIN MING AVE     10 TO 12   \n",
              "128    2017-01        BISHAN    3 ROOM   105   BISHAN ST 12     04 TO 06   \n",
              "129    2017-01        BISHAN    4 ROOM   167   BISHAN ST 13     04 TO 06   \n",
              "130    2017-01        BISHAN    4 ROOM   167   BISHAN ST 13     04 TO 06   \n",
              "...        ...           ...       ...   ...            ...          ...   \n",
              "90609  2021-02  CENTRAL AREA    4 ROOM    1B  CANTONMENT RD     37 TO 39   \n",
              "90610  2021-02  CENTRAL AREA    4 ROOM    10      JLN KUKOH     10 TO 12   \n",
              "90611  2021-02  CENTRAL AREA    5 ROOM    1B  CANTONMENT RD     34 TO 36   \n",
              "90612  2021-02  CENTRAL AREA    5 ROOM    1G  CANTONMENT RD     16 TO 18   \n",
              "90613  2021-02  CENTRAL AREA    5 ROOM    1C  CANTONMENT RD     13 TO 15   \n",
              "\n",
              "       floor_area_sqm     flat_model  lease_commence_date     remaining_lease  \\\n",
              "126              68.0       Improved                 1973  55 years 09 months   \n",
              "127              64.0     Simplified                 1986  68 years 07 months   \n",
              "128              64.0     Simplified                 1985  67 years 11 months   \n",
              "129              84.0     Simplified                 1988  70 years 08 months   \n",
              "130              84.0     Simplified                 1988  70 years 08 months   \n",
              "...               ...            ...                  ...                 ...   \n",
              "90609            95.0        Type S1                 2011  88 years 11 months   \n",
              "90610           107.0  Adjoined flat                 1971  49 years 05 months   \n",
              "90611           108.0        Type S2                 2011            89 years   \n",
              "90612           105.0        Type S2                 2011  88 years 11 months   \n",
              "90613           106.0        Type S2                 2011  88 years 11 months   \n",
              "\n",
              "       resale_price  \n",
              "126        275000.0  \n",
              "127        320000.0  \n",
              "128        395000.0  \n",
              "129        380000.0  \n",
              "130        475000.0  \n",
              "...             ...  \n",
              "90609     1000000.0  \n",
              "90610      538000.0  \n",
              "90611     1138000.0  \n",
              "90612     1015000.0  \n",
              "90613     1010000.0  \n",
              "\n",
              "[2831 rows x 11 columns]"
            ],
            "text/html": [
              "\n",
              "  <div id=\"df-98e2bd6d-29a9-4491-8d13-80687de45f79\">\n",
              "    <div class=\"colab-df-container\">\n",
              "      <div>\n",
              "<style scoped>\n",
              "    .dataframe tbody tr th:only-of-type {\n",
              "        vertical-align: middle;\n",
              "    }\n",
              "\n",
              "    .dataframe tbody tr th {\n",
              "        vertical-align: top;\n",
              "    }\n",
              "\n",
              "    .dataframe thead th {\n",
              "        text-align: right;\n",
              "    }\n",
              "</style>\n",
              "<table border=\"1\" class=\"dataframe\">\n",
              "  <thead>\n",
              "    <tr style=\"text-align: right;\">\n",
              "      <th></th>\n",
              "      <th>month</th>\n",
              "      <th>town</th>\n",
              "      <th>flat_type</th>\n",
              "      <th>block</th>\n",
              "      <th>street_name</th>\n",
              "      <th>storey_range</th>\n",
              "      <th>floor_area_sqm</th>\n",
              "      <th>flat_model</th>\n",
              "      <th>lease_commence_date</th>\n",
              "      <th>remaining_lease</th>\n",
              "      <th>resale_price</th>\n",
              "    </tr>\n",
              "  </thead>\n",
              "  <tbody>\n",
              "    <tr>\n",
              "      <th>126</th>\n",
              "      <td>2017-01</td>\n",
              "      <td>BISHAN</td>\n",
              "      <td>3 ROOM</td>\n",
              "      <td>22</td>\n",
              "      <td>SIN MING RD</td>\n",
              "      <td>10 TO 12</td>\n",
              "      <td>68.0</td>\n",
              "      <td>Improved</td>\n",
              "      <td>1973</td>\n",
              "      <td>55 years 09 months</td>\n",
              "      <td>275000.0</td>\n",
              "    </tr>\n",
              "    <tr>\n",
              "      <th>127</th>\n",
              "      <td>2017-01</td>\n",
              "      <td>BISHAN</td>\n",
              "      <td>3 ROOM</td>\n",
              "      <td>407</td>\n",
              "      <td>SIN MING AVE</td>\n",
              "      <td>10 TO 12</td>\n",
              "      <td>64.0</td>\n",
              "      <td>Simplified</td>\n",
              "      <td>1986</td>\n",
              "      <td>68 years 07 months</td>\n",
              "      <td>320000.0</td>\n",
              "    </tr>\n",
              "    <tr>\n",
              "      <th>128</th>\n",
              "      <td>2017-01</td>\n",
              "      <td>BISHAN</td>\n",
              "      <td>3 ROOM</td>\n",
              "      <td>105</td>\n",
              "      <td>BISHAN ST 12</td>\n",
              "      <td>04 TO 06</td>\n",
              "      <td>64.0</td>\n",
              "      <td>Simplified</td>\n",
              "      <td>1985</td>\n",
              "      <td>67 years 11 months</td>\n",
              "      <td>395000.0</td>\n",
              "    </tr>\n",
              "    <tr>\n",
              "      <th>129</th>\n",
              "      <td>2017-01</td>\n",
              "      <td>BISHAN</td>\n",
              "      <td>4 ROOM</td>\n",
              "      <td>167</td>\n",
              "      <td>BISHAN ST 13</td>\n",
              "      <td>04 TO 06</td>\n",
              "      <td>84.0</td>\n",
              "      <td>Simplified</td>\n",
              "      <td>1988</td>\n",
              "      <td>70 years 08 months</td>\n",
              "      <td>380000.0</td>\n",
              "    </tr>\n",
              "    <tr>\n",
              "      <th>130</th>\n",
              "      <td>2017-01</td>\n",
              "      <td>BISHAN</td>\n",
              "      <td>4 ROOM</td>\n",
              "      <td>167</td>\n",
              "      <td>BISHAN ST 13</td>\n",
              "      <td>04 TO 06</td>\n",
              "      <td>84.0</td>\n",
              "      <td>Simplified</td>\n",
              "      <td>1988</td>\n",
              "      <td>70 years 08 months</td>\n",
              "      <td>475000.0</td>\n",
              "    </tr>\n",
              "    <tr>\n",
              "      <th>...</th>\n",
              "      <td>...</td>\n",
              "      <td>...</td>\n",
              "      <td>...</td>\n",
              "      <td>...</td>\n",
              "      <td>...</td>\n",
              "      <td>...</td>\n",
              "      <td>...</td>\n",
              "      <td>...</td>\n",
              "      <td>...</td>\n",
              "      <td>...</td>\n",
              "      <td>...</td>\n",
              "    </tr>\n",
              "    <tr>\n",
              "      <th>90609</th>\n",
              "      <td>2021-02</td>\n",
              "      <td>CENTRAL AREA</td>\n",
              "      <td>4 ROOM</td>\n",
              "      <td>1B</td>\n",
              "      <td>CANTONMENT RD</td>\n",
              "      <td>37 TO 39</td>\n",
              "      <td>95.0</td>\n",
              "      <td>Type S1</td>\n",
              "      <td>2011</td>\n",
              "      <td>88 years 11 months</td>\n",
              "      <td>1000000.0</td>\n",
              "    </tr>\n",
              "    <tr>\n",
              "      <th>90610</th>\n",
              "      <td>2021-02</td>\n",
              "      <td>CENTRAL AREA</td>\n",
              "      <td>4 ROOM</td>\n",
              "      <td>10</td>\n",
              "      <td>JLN KUKOH</td>\n",
              "      <td>10 TO 12</td>\n",
              "      <td>107.0</td>\n",
              "      <td>Adjoined flat</td>\n",
              "      <td>1971</td>\n",
              "      <td>49 years 05 months</td>\n",
              "      <td>538000.0</td>\n",
              "    </tr>\n",
              "    <tr>\n",
              "      <th>90611</th>\n",
              "      <td>2021-02</td>\n",
              "      <td>CENTRAL AREA</td>\n",
              "      <td>5 ROOM</td>\n",
              "      <td>1B</td>\n",
              "      <td>CANTONMENT RD</td>\n",
              "      <td>34 TO 36</td>\n",
              "      <td>108.0</td>\n",
              "      <td>Type S2</td>\n",
              "      <td>2011</td>\n",
              "      <td>89 years</td>\n",
              "      <td>1138000.0</td>\n",
              "    </tr>\n",
              "    <tr>\n",
              "      <th>90612</th>\n",
              "      <td>2021-02</td>\n",
              "      <td>CENTRAL AREA</td>\n",
              "      <td>5 ROOM</td>\n",
              "      <td>1G</td>\n",
              "      <td>CANTONMENT RD</td>\n",
              "      <td>16 TO 18</td>\n",
              "      <td>105.0</td>\n",
              "      <td>Type S2</td>\n",
              "      <td>2011</td>\n",
              "      <td>88 years 11 months</td>\n",
              "      <td>1015000.0</td>\n",
              "    </tr>\n",
              "    <tr>\n",
              "      <th>90613</th>\n",
              "      <td>2021-02</td>\n",
              "      <td>CENTRAL AREA</td>\n",
              "      <td>5 ROOM</td>\n",
              "      <td>1C</td>\n",
              "      <td>CANTONMENT RD</td>\n",
              "      <td>13 TO 15</td>\n",
              "      <td>106.0</td>\n",
              "      <td>Type S2</td>\n",
              "      <td>2011</td>\n",
              "      <td>88 years 11 months</td>\n",
              "      <td>1010000.0</td>\n",
              "    </tr>\n",
              "  </tbody>\n",
              "</table>\n",
              "<p>2831 rows × 11 columns</p>\n",
              "</div>\n",
              "      <button class=\"colab-df-convert\" onclick=\"convertToInteractive('df-98e2bd6d-29a9-4491-8d13-80687de45f79')\"\n",
              "              title=\"Convert this dataframe to an interactive table.\"\n",
              "              style=\"display:none;\">\n",
              "        \n",
              "  <svg xmlns=\"http://www.w3.org/2000/svg\" height=\"24px\"viewBox=\"0 0 24 24\"\n",
              "       width=\"24px\">\n",
              "    <path d=\"M0 0h24v24H0V0z\" fill=\"none\"/>\n",
              "    <path d=\"M18.56 5.44l.94 2.06.94-2.06 2.06-.94-2.06-.94-.94-2.06-.94 2.06-2.06.94zm-11 1L8.5 8.5l.94-2.06 2.06-.94-2.06-.94L8.5 2.5l-.94 2.06-2.06.94zm10 10l.94 2.06.94-2.06 2.06-.94-2.06-.94-.94-2.06-.94 2.06-2.06.94z\"/><path d=\"M17.41 7.96l-1.37-1.37c-.4-.4-.92-.59-1.43-.59-.52 0-1.04.2-1.43.59L10.3 9.45l-7.72 7.72c-.78.78-.78 2.05 0 2.83L4 21.41c.39.39.9.59 1.41.59.51 0 1.02-.2 1.41-.59l7.78-7.78 2.81-2.81c.8-.78.8-2.07 0-2.86zM5.41 20L4 18.59l7.72-7.72 1.47 1.35L5.41 20z\"/>\n",
              "  </svg>\n",
              "      </button>\n",
              "      \n",
              "  <style>\n",
              "    .colab-df-container {\n",
              "      display:flex;\n",
              "      flex-wrap:wrap;\n",
              "      gap: 12px;\n",
              "    }\n",
              "\n",
              "    .colab-df-convert {\n",
              "      background-color: #E8F0FE;\n",
              "      border: none;\n",
              "      border-radius: 50%;\n",
              "      cursor: pointer;\n",
              "      display: none;\n",
              "      fill: #1967D2;\n",
              "      height: 32px;\n",
              "      padding: 0 0 0 0;\n",
              "      width: 32px;\n",
              "    }\n",
              "\n",
              "    .colab-df-convert:hover {\n",
              "      background-color: #E2EBFA;\n",
              "      box-shadow: 0px 1px 2px rgba(60, 64, 67, 0.3), 0px 1px 3px 1px rgba(60, 64, 67, 0.15);\n",
              "      fill: #174EA6;\n",
              "    }\n",
              "\n",
              "    [theme=dark] .colab-df-convert {\n",
              "      background-color: #3B4455;\n",
              "      fill: #D2E3FC;\n",
              "    }\n",
              "\n",
              "    [theme=dark] .colab-df-convert:hover {\n",
              "      background-color: #434B5C;\n",
              "      box-shadow: 0px 1px 3px 1px rgba(0, 0, 0, 0.15);\n",
              "      filter: drop-shadow(0px 1px 2px rgba(0, 0, 0, 0.3));\n",
              "      fill: #FFFFFF;\n",
              "    }\n",
              "  </style>\n",
              "\n",
              "      <script>\n",
              "        const buttonEl =\n",
              "          document.querySelector('#df-98e2bd6d-29a9-4491-8d13-80687de45f79 button.colab-df-convert');\n",
              "        buttonEl.style.display =\n",
              "          google.colab.kernel.accessAllowed ? 'block' : 'none';\n",
              "\n",
              "        async function convertToInteractive(key) {\n",
              "          const element = document.querySelector('#df-98e2bd6d-29a9-4491-8d13-80687de45f79');\n",
              "          const dataTable =\n",
              "            await google.colab.kernel.invokeFunction('convertToInteractive',\n",
              "                                                     [key], {});\n",
              "          if (!dataTable) return;\n",
              "\n",
              "          const docLinkHtml = 'Like what you see? Visit the ' +\n",
              "            '<a target=\"_blank\" href=https://colab.research.google.com/notebooks/data_table.ipynb>data table notebook</a>'\n",
              "            + ' to learn more about interactive tables.';\n",
              "          element.innerHTML = '';\n",
              "          dataTable['output_type'] = 'display_data';\n",
              "          await google.colab.output.renderOutput(dataTable, element);\n",
              "          const docLink = document.createElement('div');\n",
              "          docLink.innerHTML = docLinkHtml;\n",
              "          element.appendChild(docLink);\n",
              "        }\n",
              "      </script>\n",
              "    </div>\n",
              "  </div>\n",
              "  "
            ]
          },
          "metadata": {},
          "execution_count": 80
        }
      ]
    },
    {
      "cell_type": "code",
      "source": [
        "sns.lineplot(data=top3_filter, \n",
        "             x=\"month\", \n",
        "             y=\"resale_price\", \n",
        "             hue=\"town\",\n",
        "             ci=None,\n",
        "             style=\"town\")\n",
        "\n",
        "plt.xticks([0,10,20,30,40,49])\n",
        "plt.title('The price of housing of the 3 most costly towns through the years',size=15)"
      ],
      "metadata": {
        "colab": {
          "base_uri": "https://localhost:8080/",
          "height": 314
        },
        "id": "z8jnnL4GlTBp",
        "outputId": "68190d69-864d-4402-c584-92a8add2c1e2"
      },
      "execution_count": null,
      "outputs": [
        {
          "output_type": "execute_result",
          "data": {
            "text/plain": [
              "Text(0.5, 1.0, 'The price of housing of the 3 most costly towns through the years')"
            ]
          },
          "metadata": {},
          "execution_count": 91
        },
        {
          "output_type": "display_data",
          "data": {
            "text/plain": [
              "<Figure size 432x288 with 1 Axes>"
            ],
            "image/png": "[encoded data removed]"
          },
          "metadata": {
            "needs_background": "light"
          }
        }
      ]
    },
    {
      "cell_type": "markdown",
      "source": [
        "## 4.Which town can be infered to have the most housing?"
      ],
      "metadata": {
        "id": "MgY4hFsHVADn"
      }
    },
    {
      "cell_type": "code",
      "source": [
        "sns.countplot(data=df,\n",
        "                 y=\"town\")\n",
        "plt.yticks(fontsize=7)\n",
        "plt.grid()\n",
        "plt.title('The amount of data recollected by town',size=15)"
      ],
      "metadata": {
        "colab": {
          "base_uri": "https://localhost:8080/",
          "height": 314
        },
        "id": "buZuHHrQFFcZ",
        "outputId": "071c4440-cb22-449a-b05c-c28a72cab98d"
      },
      "execution_count": null,
      "outputs": [
        {
          "output_type": "execute_result",
          "data": {
            "text/plain": [
              "Text(0.5, 1.0, 'The amount of data recollected by town')"
            ]
          },
          "metadata": {},
          "execution_count": 92
        },
        {
          "output_type": "display_data",
          "data": {
            "text/plain": [
              "<Figure size 432x288 with 1 Axes>"
            ],
            "image/png": "[encoded data removed]"
          },
          "metadata": {
            "needs_background": "light"
          }
        }
      ]
    },
    {
      "cell_type": "markdown",
      "source": [
        "## 5. What is the impact of the floor area on the price?\n",
        "There is a small correlation between the floor area and the price, when the floor area increases the price increases aswell. "
      ],
      "metadata": {
        "id": "AcQZrFCx-beG"
      }
    },
    {
      "cell_type": "code",
      "source": [
        "sns.scatterplot(data=df, \n",
        "                x=\"floor_area_sqm\", \n",
        "                y=\"resale_price\",\n",
        "                marker=\"*\",\n",
        "                color=\"b\")\n",
        "plt.title('The correlation between the price and the floor area',size=15)"
      ],
      "metadata": {
        "colab": {
          "base_uri": "https://localhost:8080/",
          "height": 315
        },
        "id": "6faLhRkN-njb",
        "outputId": "9b8df4d2-84d1-4026-ee26-30bf86eb2f8f"
      },
      "execution_count": null,
      "outputs": [
        {
          "output_type": "execute_result",
          "data": {
            "text/plain": [
              "Text(0.5, 1.0, 'The correlation between the price and the floor area')"
            ]
          },
          "metadata": {},
          "execution_count": 93
        },
        {
          "output_type": "display_data",
          "data": {
            "text/plain": [
              "<Figure size 432x288 with 1 Axes>"
            ],
            "image/png": "[encoded data removed]"
          },
          "metadata": {
            "needs_background": "light"
          }
        }
      ]
    },
    {
      "cell_type": "markdown",
      "source": [
        "## 6. Create a linear model for the correlation between the price and the floor area.\n",
        "With this model we can predict the price of the housing depending on the floor area."
      ],
      "metadata": {
        "id": "dzSiP4S48I58"
      }
    },
    {
      "cell_type": "code",
      "source": [
        "x=pd.DataFrame(df1.floor_area_sqm)\n",
        "y=pd.DataFrame(df1.resale_price)"
      ],
      "metadata": {
        "id": "8ixs5pP9x973"
      },
      "execution_count": null,
      "outputs": []
    },
    {
      "cell_type": "code",
      "source": [
        "lm=LM.LinearRegression()\n",
        "model_lm=lm.fit(x,y)\n",
        "model_lm"
      ],
      "metadata": {
        "colab": {
          "base_uri": "https://localhost:8080/"
        },
        "id": "mkl7eW04yKA3",
        "outputId": "d74b1e02-9865-4f4e-b17c-cae049f0b2d0"
      },
      "execution_count": null,
      "outputs": [
        {
          "output_type": "execute_result",
          "data": {
            "text/plain": [
              "LinearRegression()"
            ]
          },
          "metadata": {},
          "execution_count": 15
        }
      ]
    },
    {
      "cell_type": "code",
      "source": [
        "print('Model intercept is: ',model_lm.intercept_)\n",
        "print('Model coefficient is: ',model_lm.coef_)\n",
        "model_lm.score(x,y)"
      ],
      "metadata": {
        "colab": {
          "base_uri": "https://localhost:8080/"
        },
        "id": "NRZ9rZnDyMuu",
        "outputId": "8e7382a4-40ff-48a2-8cb4-69f78fab7827"
      },
      "execution_count": null,
      "outputs": [
        {
          "output_type": "stream",
          "name": "stdout",
          "text": [
            "Model intercept is:  [51910.42126529]\n",
            "Model coefficient is:  [[4019.46467721]]\n"
          ]
        },
        {
          "output_type": "execute_result",
          "data": {
            "text/plain": [
              "0.3967966359213685"
            ]
          },
          "metadata": {},
          "execution_count": 16
        }
      ]
    },
    {
      "cell_type": "code",
      "source": [
        "x_train, x_test, y_train, y_test = train_test_split(x, y, test_size=0.2, random_state=0) "
      ],
      "metadata": {
        "id": "sd06NHMiyPjG"
      },
      "execution_count": null,
      "outputs": []
    },
    {
      "cell_type": "code",
      "source": [
        "regressor = LinearRegression() "
      ],
      "metadata": {
        "id": "Mfn10-6wyRDO"
      },
      "execution_count": null,
      "outputs": []
    },
    {
      "cell_type": "code",
      "source": [
        "regressor.fit(x_train, y_train) "
      ],
      "metadata": {
        "colab": {
          "base_uri": "https://localhost:8080/"
        },
        "id": "yWELrxWpyTFO",
        "outputId": "932c4799-b78c-41fb-c113-cc684d518633"
      },
      "execution_count": null,
      "outputs": [
        {
          "output_type": "execute_result",
          "data": {
            "text/plain": [
              "LinearRegression()"
            ]
          },
          "metadata": {},
          "execution_count": 19
        }
      ]
    },
    {
      "cell_type": "code",
      "source": [
        "y_pred = regressor.predict(x_test)"
      ],
      "metadata": {
        "id": "9fotCipCybwu"
      },
      "execution_count": null,
      "outputs": []
    },
    {
      "cell_type": "code",
      "source": [
        "plt.plot(x_test, y_pred,color='k') \n",
        "plt.scatter(x_train, y_train,color='b',marker='*') \n",
        "plt.title('The correlation between price and floor area and the linear model',size=15)"
      ],
      "metadata": {
        "colab": {
          "base_uri": "https://localhost:8080/",
          "height": 300
        },
        "id": "kFfV6ozPyd__",
        "outputId": "c5eff61c-5845-497a-a581-9ac65515ca89"
      },
      "execution_count": null,
      "outputs": [
        {
          "output_type": "execute_result",
          "data": {
            "text/plain": [
              "Text(0.5, 1.0, 'The correlation between price and floor area and the linear model')"
            ]
          },
          "metadata": {},
          "execution_count": 94
        },
        {
          "output_type": "display_data",
          "data": {
            "text/plain": [
              "<Figure size 432x288 with 1 Axes>"
            ],
            "image/png": "[encoded data removed]"
          },
          "metadata": {
            "needs_background": "light"
          }
        }
      ]
    },
    {
      "cell_type": "markdown",
      "source": [
        "## 7. Does the flat type has any correlation with the flat model?\n",
        "\n"
      ],
      "metadata": {
        "id": "ltvJAo0w8-Cg"
      }
    },
    {
      "cell_type": "code",
      "source": [
        "c = sns.catplot(\n",
        "    data=df, x=\"flat_model\", y=\"resale_price\", col=\"flat_type\",\n",
        "    kind=\"bar\",aspect=1.5) #height=15\n",
        "\n",
        "c.set_axis_labels(\"Flat Model\", \"Price\",size=40)\n",
        "c.set_xticklabels([\"Im\", \"NG\", \"DBSS \",'St','Apt','S','MA','PA','Adj','MAM','Mai','TS1','TS2','MA2','Te','Im M','PM','MG','PAL','2R'],size=11)\n",
        "#Im= Improved\n",
        "#NG= New Generation\n",
        "#DBSS= DBSS\n",
        "#St= Standard\n",
        "#Apt= Apartment\n",
        "#S= Simplified\n",
        "#MA= Model A\n",
        "#PA= Premium Apartment\n",
        "#Adj= Adjoined flat\n",
        "#MAM= Model A-Maisonette\n",
        "#Mai= Maisonette\n",
        "#TS1= Type S1 \n",
        "#TS2= Type S2\n",
        "#MA2= Model A2\n",
        "#Te= Terrace\n",
        "#Im M= Improved-Maisonette\n",
        "#PM= Premium Maisonette\n",
        "#MG= Multi Generation\n",
        "#PAL= Premium Apartment Loft\n",
        "#2R= 2 Room\n",
        "\n",
        "c.set_titles(\"{col_name}\",size=45)"
      ],
      "metadata": {
        "colab": {
          "base_uri": "https://localhost:8080/",
          "height": 160
        },
        "id": "95DTNrrDAqTd",
        "outputId": "da743ddd-613b-4b5f-d785-7dd28e6fa5fa"
      },
      "execution_count": null,
      "outputs": [
        {
          "output_type": "execute_result",
          "data": {
            "text/plain": [
              "<seaborn.axisgrid.FacetGrid at 0x7f004a4e6850>"
            ]
          },
          "metadata": {},
          "execution_count": 22
        },
        {
          "output_type": "display_data",
          "data": {
            "text/plain": [
              "<Figure size 3780x360 with 7 Axes>"
            ],
            "image/png": "[encoded data removed]"
          },
          "metadata": {
            "needs_background": "light"
          }
        }
      ]
    },
    {
      "cell_type": "markdown",
      "source": [
        "## 8.Whic type of flat tends to be more expensive?"
      ],
      "metadata": {
        "id": "ipsdDYM7BzTz"
      }
    },
    {
      "cell_type": "code",
      "source": [
        "sns.stripplot(data=df, y=\"flat_type\",\n",
        "              x='resale_price',\n",
        "              size=1.5)\n",
        "plt.title('The average cost of housing depending on the flat type',size=15)"
      ],
      "metadata": {
        "colab": {
          "base_uri": "https://localhost:8080/",
          "height": 315
        },
        "id": "unNGugEOAxH-",
        "outputId": "912f441d-199a-4483-d2ad-9935e5e2cf1e"
      },
      "execution_count": null,
      "outputs": [
        {
          "output_type": "execute_result",
          "data": {
            "text/plain": [
              "Text(0.5, 1.0, 'The average cost of housing depending on the flat type')"
            ]
          },
          "metadata": {},
          "execution_count": 96
        },
        {
          "output_type": "display_data",
          "data": {
            "text/plain": [
              "<Figure size 432x288 with 1 Axes>"
            ],
            "image/png": "[encoded data removed]"
          },
          "metadata": {
            "needs_background": "light"
          }
        }
      ]
    },
    {
      "cell_type": "markdown",
      "source": [
        "## 9.How are the housing prices in the most expensive town in Singapore?"
      ],
      "metadata": {
        "id": "zAELnlpDgRWZ"
      }
    },
    {
      "cell_type": "code",
      "source": [
        "bt_price=df[df['town']=='BUKIT TIMAH']\n",
        "bt_price.head()"
      ],
      "metadata": {
        "colab": {
          "base_uri": "https://localhost:8080/",
          "height": 337
        },
        "id": "kIAnJVBqdyna",
        "outputId": "82449dff-5af2-4ea3-c35a-ce1a456ec9d7"
      },
      "execution_count": null,
      "outputs": [
        {
          "output_type": "execute_result",
          "data": {
            "text/plain": [
              "        month         town  flat_type block street_name storey_range  \\\n",
              "296   2017-01  BUKIT TIMAH     4 ROOM     4   TOH YI DR     07 TO 09   \n",
              "297   2017-01  BUKIT TIMAH     5 ROOM     5   FARRER RD     10 TO 12   \n",
              "298   2017-01  BUKIT TIMAH  EXECUTIVE    15   TOH YI DR     01 TO 03   \n",
              "1427  2017-02  BUKIT TIMAH     3 ROOM     4  QUEEN'S RD     07 TO 09   \n",
              "1428  2017-02  BUKIT TIMAH     5 ROOM    17   TOH YI DR     01 TO 03   \n",
              "\n",
              "      floor_area_sqm  flat_model  lease_commence_date     remaining_lease  \\\n",
              "296            104.0     Model A                 1988  70 years 07 months   \n",
              "297            120.0    Standard                 1974  56 years 03 months   \n",
              "298            146.0  Maisonette                 1988  70 years 06 months   \n",
              "1427            74.0    Improved                 1974  56 years 02 months   \n",
              "1428           122.0    Improved                 1988  70 years 05 months   \n",
              "\n",
              "      resale_price  \n",
              "296       670000.0  \n",
              "297       890000.0  \n",
              "298       876888.0  \n",
              "1427      425000.0  \n",
              "1428      710000.0  "
            ],
            "text/html": [
              "\n",
              "  <div id=\"df-49c9519c-e098-4cfa-9740-1919d3cc5e74\">\n",
              "    <div class=\"colab-df-container\">\n",
              "      <div>\n",
              "<style scoped>\n",
              "    .dataframe tbody tr th:only-of-type {\n",
              "        vertical-align: middle;\n",
              "    }\n",
              "\n",
              "    .dataframe tbody tr th {\n",
              "        vertical-align: top;\n",
              "    }\n",
              "\n",
              "    .dataframe thead th {\n",
              "        text-align: right;\n",
              "    }\n",
              "</style>\n",
              "<table border=\"1\" class=\"dataframe\">\n",
              "  <thead>\n",
              "    <tr style=\"text-align: right;\">\n",
              "      <th></th>\n",
              "      <th>month</th>\n",
              "      <th>town</th>\n",
              "      <th>flat_type</th>\n",
              "      <th>block</th>\n",
              "      <th>street_name</th>\n",
              "      <th>storey_range</th>\n",
              "      <th>floor_area_sqm</th>\n",
              "      <th>flat_model</th>\n",
              "      <th>lease_commence_date</th>\n",
              "      <th>remaining_lease</th>\n",
              "      <th>resale_price</th>\n",
              "    </tr>\n",
              "  </thead>\n",
              "  <tbody>\n",
              "    <tr>\n",
              "      <th>296</th>\n",
              "      <td>2017-01</td>\n",
              "      <td>BUKIT TIMAH</td>\n",
              "      <td>4 ROOM</td>\n",
              "      <td>4</td>\n",
              "      <td>TOH YI DR</td>\n",
              "      <td>07 TO 09</td>\n",
              "      <td>104.0</td>\n",
              "      <td>Model A</td>\n",
              "      <td>1988</td>\n",
              "      <td>70 years 07 months</td>\n",
              "      <td>670000.0</td>\n",
              "    </tr>\n",
              "    <tr>\n",
              "      <th>297</th>\n",
              "      <td>2017-01</td>\n",
              "      <td>BUKIT TIMAH</td>\n",
              "      <td>5 ROOM</td>\n",
              "      <td>5</td>\n",
              "      <td>FARRER RD</td>\n",
              "      <td>10 TO 12</td>\n",
              "      <td>120.0</td>\n",
              "      <td>Standard</td>\n",
              "      <td>1974</td>\n",
              "      <td>56 years 03 months</td>\n",
              "      <td>890000.0</td>\n",
              "    </tr>\n",
              "    <tr>\n",
              "      <th>298</th>\n",
              "      <td>2017-01</td>\n",
              "      <td>BUKIT TIMAH</td>\n",
              "      <td>EXECUTIVE</td>\n",
              "      <td>15</td>\n",
              "      <td>TOH YI DR</td>\n",
              "      <td>01 TO 03</td>\n",
              "      <td>146.0</td>\n",
              "      <td>Maisonette</td>\n",
              "      <td>1988</td>\n",
              "      <td>70 years 06 months</td>\n",
              "      <td>876888.0</td>\n",
              "    </tr>\n",
              "    <tr>\n",
              "      <th>1427</th>\n",
              "      <td>2017-02</td>\n",
              "      <td>BUKIT TIMAH</td>\n",
              "      <td>3 ROOM</td>\n",
              "      <td>4</td>\n",
              "      <td>QUEEN'S RD</td>\n",
              "      <td>07 TO 09</td>\n",
              "      <td>74.0</td>\n",
              "      <td>Improved</td>\n",
              "      <td>1974</td>\n",
              "      <td>56 years 02 months</td>\n",
              "      <td>425000.0</td>\n",
              "    </tr>\n",
              "    <tr>\n",
              "      <th>1428</th>\n",
              "      <td>2017-02</td>\n",
              "      <td>BUKIT TIMAH</td>\n",
              "      <td>5 ROOM</td>\n",
              "      <td>17</td>\n",
              "      <td>TOH YI DR</td>\n",
              "      <td>01 TO 03</td>\n",
              "      <td>122.0</td>\n",
              "      <td>Improved</td>\n",
              "      <td>1988</td>\n",
              "      <td>70 years 05 months</td>\n",
              "      <td>710000.0</td>\n",
              "    </tr>\n",
              "  </tbody>\n",
              "</table>\n",
              "</div>\n",
              "      <button class=\"colab-df-convert\" onclick=\"convertToInteractive('df-49c9519c-e098-4cfa-9740-1919d3cc5e74')\"\n",
              "              title=\"Convert this dataframe to an interactive table.\"\n",
              "              style=\"display:none;\">\n",
              "        \n",
              "  <svg xmlns=\"http://www.w3.org/2000/svg\" height=\"24px\"viewBox=\"0 0 24 24\"\n",
              "       width=\"24px\">\n",
              "    <path d=\"M0 0h24v24H0V0z\" fill=\"none\"/>\n",
              "    <path d=\"M18.56 5.44l.94 2.06.94-2.06 2.06-.94-2.06-.94-.94-2.06-.94 2.06-2.06.94zm-11 1L8.5 8.5l.94-2.06 2.06-.94-2.06-.94L8.5 2.5l-.94 2.06-2.06.94zm10 10l.94 2.06.94-2.06 2.06-.94-2.06-.94-.94-2.06-.94 2.06-2.06.94z\"/><path d=\"M17.41 7.96l-1.37-1.37c-.4-.4-.92-.59-1.43-.59-.52 0-1.04.2-1.43.59L10.3 9.45l-7.72 7.72c-.78.78-.78 2.05 0 2.83L4 21.41c.39.39.9.59 1.41.59.51 0 1.02-.2 1.41-.59l7.78-7.78 2.81-2.81c.8-.78.8-2.07 0-2.86zM5.41 20L4 18.59l7.72-7.72 1.47 1.35L5.41 20z\"/>\n",
              "  </svg>\n",
              "      </button>\n",
              "      \n",
              "  <style>\n",
              "    .colab-df-container {\n",
              "      display:flex;\n",
              "      flex-wrap:wrap;\n",
              "      gap: 12px;\n",
              "    }\n",
              "\n",
              "    .colab-df-convert {\n",
              "      background-color: #E8F0FE;\n",
              "      border: none;\n",
              "      border-radius: 50%;\n",
              "      cursor: pointer;\n",
              "      display: none;\n",
              "      fill: #1967D2;\n",
              "      height: 32px;\n",
              "      padding: 0 0 0 0;\n",
              "      width: 32px;\n",
              "    }\n",
              "\n",
              "    .colab-df-convert:hover {\n",
              "      background-color: #E2EBFA;\n",
              "      box-shadow: 0px 1px 2px rgba(60, 64, 67, 0.3), 0px 1px 3px 1px rgba(60, 64, 67, 0.15);\n",
              "      fill: #174EA6;\n",
              "    }\n",
              "\n",
              "    [theme=dark] .colab-df-convert {\n",
              "      background-color: #3B4455;\n",
              "      fill: #D2E3FC;\n",
              "    }\n",
              "\n",
              "    [theme=dark] .colab-df-convert:hover {\n",
              "      background-color: #434B5C;\n",
              "      box-shadow: 0px 1px 3px 1px rgba(0, 0, 0, 0.15);\n",
              "      filter: drop-shadow(0px 1px 2px rgba(0, 0, 0, 0.3));\n",
              "      fill: #FFFFFF;\n",
              "    }\n",
              "  </style>\n",
              "\n",
              "      <script>\n",
              "        const buttonEl =\n",
              "          document.querySelector('#df-49c9519c-e098-4cfa-9740-1919d3cc5e74 button.colab-df-convert');\n",
              "        buttonEl.style.display =\n",
              "          google.colab.kernel.accessAllowed ? 'block' : 'none';\n",
              "\n",
              "        async function convertToInteractive(key) {\n",
              "          const element = document.querySelector('#df-49c9519c-e098-4cfa-9740-1919d3cc5e74');\n",
              "          const dataTable =\n",
              "            await google.colab.kernel.invokeFunction('convertToInteractive',\n",
              "                                                     [key], {});\n",
              "          if (!dataTable) return;\n",
              "\n",
              "          const docLinkHtml = 'Like what you see? Visit the ' +\n",
              "            '<a target=\"_blank\" href=https://colab.research.google.com/notebooks/data_table.ipynb>data table notebook</a>'\n",
              "            + ' to learn more about interactive tables.';\n",
              "          element.innerHTML = '';\n",
              "          dataTable['output_type'] = 'display_data';\n",
              "          await google.colab.output.renderOutput(dataTable, element);\n",
              "          const docLink = document.createElement('div');\n",
              "          docLink.innerHTML = docLinkHtml;\n",
              "          element.appendChild(docLink);\n",
              "        }\n",
              "      </script>\n",
              "    </div>\n",
              "  </div>\n",
              "  "
            ]
          },
          "metadata": {},
          "execution_count": 56
        }
      ]
    },
    {
      "cell_type": "code",
      "source": [
        "sns.histplot(data=bt_price,\n",
        "            x='resale_price',\n",
        "             bins=25)\n",
        "plt.title('Histogram of the prices in BUKIT TIMAH',size=15)"
      ],
      "metadata": {
        "colab": {
          "base_uri": "https://localhost:8080/",
          "height": 315
        },
        "id": "LU_LrBME4pai",
        "outputId": "33ae7b95-0c55-49b5-9644-0c68b9aed77a"
      },
      "execution_count": null,
      "outputs": [
        {
          "output_type": "execute_result",
          "data": {
            "text/plain": [
              "Text(0.5, 1.0, 'Histogram of the prices in BUKIT TIMAH')"
            ]
          },
          "metadata": {},
          "execution_count": 99
        },
        {
          "output_type": "display_data",
          "data": {
            "text/plain": [
              "<Figure size 432x288 with 1 Axes>"
            ],
            "image/png": "[encoded data removed]"
          },
          "metadata": {
            "needs_background": "light"
          }
        }
      ]
    },
    {
      "cell_type": "markdown",
      "source": [
        "## 10. How is price of housing in 'ADMIRALTY DR' street?"
      ],
      "metadata": {
        "id": "Qyq5aUyDhBzI"
      }
    },
    {
      "cell_type": "code",
      "source": [
        "admdr_price=df[df['street_name']=='ADMIRALTY DR']\n",
        "admdr_price.head()"
      ],
      "metadata": {
        "colab": {
          "base_uri": "https://localhost:8080/",
          "height": 337
        },
        "id": "OQIB2rx9hF-o",
        "outputId": "785950ea-d683-422a-fc63-657d4dd7947b"
      },
      "execution_count": null,
      "outputs": [
        {
          "output_type": "execute_result",
          "data": {
            "text/plain": [
              "        month       town flat_type block   street_name storey_range  \\\n",
              "798   2017-01  SEMBAWANG    4 ROOM   467  ADMIRALTY DR     10 TO 12   \n",
              "800   2017-01  SEMBAWANG    4 ROOM   357  ADMIRALTY DR     04 TO 06   \n",
              "806   2017-01  SEMBAWANG    5 ROOM  357A  ADMIRALTY DR     10 TO 12   \n",
              "807   2017-01  SEMBAWANG    5 ROOM  353B  ADMIRALTY DR     04 TO 06   \n",
              "1875  2017-02  SEMBAWANG    5 ROOM  357B  ADMIRALTY DR     04 TO 06   \n",
              "\n",
              "      floor_area_sqm         flat_model  lease_commence_date  \\\n",
              "798            102.0  Premium Apartment                 2001   \n",
              "800             96.0  Premium Apartment                 2001   \n",
              "806            110.0  Premium Apartment                 2001   \n",
              "807            110.0           Improved                 2002   \n",
              "1875           110.0  Premium Apartment                 2001   \n",
              "\n",
              "         remaining_lease  resale_price  \n",
              "798   83 years 06 months      365000.0  \n",
              "800   83 years 05 months      380000.0  \n",
              "806   83 years 05 months      415000.0  \n",
              "807             84 years      428000.0  \n",
              "1875  83 years 04 months      410000.0  "
            ],
            "text/html": [
              "\n",
              "  <div id=\"df-1bf86002-0fe1-4862-b495-0cc2792a5ac7\">\n",
              "    <div class=\"colab-df-container\">\n",
              "      <div>\n",
              "<style scoped>\n",
              "    .dataframe tbody tr th:only-of-type {\n",
              "        vertical-align: middle;\n",
              "    }\n",
              "\n",
              "    .dataframe tbody tr th {\n",
              "        vertical-align: top;\n",
              "    }\n",
              "\n",
              "    .dataframe thead th {\n",
              "        text-align: right;\n",
              "    }\n",
              "</style>\n",
              "<table border=\"1\" class=\"dataframe\">\n",
              "  <thead>\n",
              "    <tr style=\"text-align: right;\">\n",
              "      <th></th>\n",
              "      <th>month</th>\n",
              "      <th>town</th>\n",
              "      <th>flat_type</th>\n",
              "      <th>block</th>\n",
              "      <th>street_name</th>\n",
              "      <th>storey_range</th>\n",
              "      <th>floor_area_sqm</th>\n",
              "      <th>flat_model</th>\n",
              "      <th>lease_commence_date</th>\n",
              "      <th>remaining_lease</th>\n",
              "      <th>resale_price</th>\n",
              "    </tr>\n",
              "  </thead>\n",
              "  <tbody>\n",
              "    <tr>\n",
              "      <th>798</th>\n",
              "      <td>2017-01</td>\n",
              "      <td>SEMBAWANG</td>\n",
              "      <td>4 ROOM</td>\n",
              "      <td>467</td>\n",
              "      <td>ADMIRALTY DR</td>\n",
              "      <td>10 TO 12</td>\n",
              "      <td>102.0</td>\n",
              "      <td>Premium Apartment</td>\n",
              "      <td>2001</td>\n",
              "      <td>83 years 06 months</td>\n",
              "      <td>365000.0</td>\n",
              "    </tr>\n",
              "    <tr>\n",
              "      <th>800</th>\n",
              "      <td>2017-01</td>\n",
              "      <td>SEMBAWANG</td>\n",
              "      <td>4 ROOM</td>\n",
              "      <td>357</td>\n",
              "      <td>ADMIRALTY DR</td>\n",
              "      <td>04 TO 06</td>\n",
              "      <td>96.0</td>\n",
              "      <td>Premium Apartment</td>\n",
              "      <td>2001</td>\n",
              "      <td>83 years 05 months</td>\n",
              "      <td>380000.0</td>\n",
              "    </tr>\n",
              "    <tr>\n",
              "      <th>806</th>\n",
              "      <td>2017-01</td>\n",
              "      <td>SEMBAWANG</td>\n",
              "      <td>5 ROOM</td>\n",
              "      <td>357A</td>\n",
              "      <td>ADMIRALTY DR</td>\n",
              "      <td>10 TO 12</td>\n",
              "      <td>110.0</td>\n",
              "      <td>Premium Apartment</td>\n",
              "      <td>2001</td>\n",
              "      <td>83 years 05 months</td>\n",
              "      <td>415000.0</td>\n",
              "    </tr>\n",
              "    <tr>\n",
              "      <th>807</th>\n",
              "      <td>2017-01</td>\n",
              "      <td>SEMBAWANG</td>\n",
              "      <td>5 ROOM</td>\n",
              "      <td>353B</td>\n",
              "      <td>ADMIRALTY DR</td>\n",
              "      <td>04 TO 06</td>\n",
              "      <td>110.0</td>\n",
              "      <td>Improved</td>\n",
              "      <td>2002</td>\n",
              "      <td>84 years</td>\n",
              "      <td>428000.0</td>\n",
              "    </tr>\n",
              "    <tr>\n",
              "      <th>1875</th>\n",
              "      <td>2017-02</td>\n",
              "      <td>SEMBAWANG</td>\n",
              "      <td>5 ROOM</td>\n",
              "      <td>357B</td>\n",
              "      <td>ADMIRALTY DR</td>\n",
              "      <td>04 TO 06</td>\n",
              "      <td>110.0</td>\n",
              "      <td>Premium Apartment</td>\n",
              "      <td>2001</td>\n",
              "      <td>83 years 04 months</td>\n",
              "      <td>410000.0</td>\n",
              "    </tr>\n",
              "  </tbody>\n",
              "</table>\n",
              "</div>\n",
              "      <button class=\"colab-df-convert\" onclick=\"convertToInteractive('df-1bf86002-0fe1-4862-b495-0cc2792a5ac7')\"\n",
              "              title=\"Convert this dataframe to an interactive table.\"\n",
              "              style=\"display:none;\">\n",
              "        \n",
              "  <svg xmlns=\"http://www.w3.org/2000/svg\" height=\"24px\"viewBox=\"0 0 24 24\"\n",
              "       width=\"24px\">\n",
              "    <path d=\"M0 0h24v24H0V0z\" fill=\"none\"/>\n",
              "    <path d=\"M18.56 5.44l.94 2.06.94-2.06 2.06-.94-2.06-.94-.94-2.06-.94 2.06-2.06.94zm-11 1L8.5 8.5l.94-2.06 2.06-.94-2.06-.94L8.5 2.5l-.94 2.06-2.06.94zm10 10l.94 2.06.94-2.06 2.06-.94-2.06-.94-.94-2.06-.94 2.06-2.06.94z\"/><path d=\"M17.41 7.96l-1.37-1.37c-.4-.4-.92-.59-1.43-.59-.52 0-1.04.2-1.43.59L10.3 9.45l-7.72 7.72c-.78.78-.78 2.05 0 2.83L4 21.41c.39.39.9.59 1.41.59.51 0 1.02-.2 1.41-.59l7.78-7.78 2.81-2.81c.8-.78.8-2.07 0-2.86zM5.41 20L4 18.59l7.72-7.72 1.47 1.35L5.41 20z\"/>\n",
              "  </svg>\n",
              "      </button>\n",
              "      \n",
              "  <style>\n",
              "    .colab-df-container {\n",
              "      display:flex;\n",
              "      flex-wrap:wrap;\n",
              "      gap: 12px;\n",
              "    }\n",
              "\n",
              "    .colab-df-convert {\n",
              "      background-color: #E8F0FE;\n",
              "      border: none;\n",
              "      border-radius: 50%;\n",
              "      cursor: pointer;\n",
              "      display: none;\n",
              "      fill: #1967D2;\n",
              "      height: 32px;\n",
              "      padding: 0 0 0 0;\n",
              "      width: 32px;\n",
              "    }\n",
              "\n",
              "    .colab-df-convert:hover {\n",
              "      background-color: #E2EBFA;\n",
              "      box-shadow: 0px 1px 2px rgba(60, 64, 67, 0.3), 0px 1px 3px 1px rgba(60, 64, 67, 0.15);\n",
              "      fill: #174EA6;\n",
              "    }\n",
              "\n",
              "    [theme=dark] .colab-df-convert {\n",
              "      background-color: #3B4455;\n",
              "      fill: #D2E3FC;\n",
              "    }\n",
              "\n",
              "    [theme=dark] .colab-df-convert:hover {\n",
              "      background-color: #434B5C;\n",
              "      box-shadow: 0px 1px 3px 1px rgba(0, 0, 0, 0.15);\n",
              "      filter: drop-shadow(0px 1px 2px rgba(0, 0, 0, 0.3));\n",
              "      fill: #FFFFFF;\n",
              "    }\n",
              "  </style>\n",
              "\n",
              "      <script>\n",
              "        const buttonEl =\n",
              "          document.querySelector('#df-1bf86002-0fe1-4862-b495-0cc2792a5ac7 button.colab-df-convert');\n",
              "        buttonEl.style.display =\n",
              "          google.colab.kernel.accessAllowed ? 'block' : 'none';\n",
              "\n",
              "        async function convertToInteractive(key) {\n",
              "          const element = document.querySelector('#df-1bf86002-0fe1-4862-b495-0cc2792a5ac7');\n",
              "          const dataTable =\n",
              "            await google.colab.kernel.invokeFunction('convertToInteractive',\n",
              "                                                     [key], {});\n",
              "          if (!dataTable) return;\n",
              "\n",
              "          const docLinkHtml = 'Like what you see? Visit the ' +\n",
              "            '<a target=\"_blank\" href=https://colab.research.google.com/notebooks/data_table.ipynb>data table notebook</a>'\n",
              "            + ' to learn more about interactive tables.';\n",
              "          element.innerHTML = '';\n",
              "          dataTable['output_type'] = 'display_data';\n",
              "          await google.colab.output.renderOutput(dataTable, element);\n",
              "          const docLink = document.createElement('div');\n",
              "          docLink.innerHTML = docLinkHtml;\n",
              "          element.appendChild(docLink);\n",
              "        }\n",
              "      </script>\n",
              "    </div>\n",
              "  </div>\n",
              "  "
            ]
          },
          "metadata": {},
          "execution_count": 48
        }
      ]
    },
    {
      "cell_type": "code",
      "source": [
        "sns.boxplot(data=admdr_price,\n",
        "            x='resale_price')\n",
        "plt.title('The behaviour of housing cost on ADMIRALTY DR street',size=15)"
      ],
      "metadata": {
        "colab": {
          "base_uri": "https://localhost:8080/",
          "height": 315
        },
        "id": "sUEdQmQZ_Wjw",
        "outputId": "466df19e-8719-4f4a-8deb-66cbac365ac0"
      },
      "execution_count": null,
      "outputs": [
        {
          "output_type": "execute_result",
          "data": {
            "text/plain": [
              "Text(0.5, 1.0, 'The behaviour of housing cost on ADMIRALTY DR street')"
            ]
          },
          "metadata": {},
          "execution_count": 102
        },
        {
          "output_type": "display_data",
          "data": {
            "text/plain": [
              "<Figure size 432x288 with 1 Axes>"
            ],
            "image/png": "[encoded data removed]"
          },
          "metadata": {
            "needs_background": "light"
          }
        }
      ]
    },
    {
      "cell_type": "markdown",
      "source": [
        "## **Conclusiones**"
      ],
      "metadata": {
        "id": "SRav0G_Un4cX"
      }
    },
    {
      "cell_type": "markdown",
      "source": [
        "Con la ayuda de esta base de datos logre comprender la situacion de vivienda en Singapore, ademas descubri que los precios de viviendas en las ciudades mas caras no han cambiando mucho con los años. Tambien descubri que durante la pandemia el precio promedio de vivienda disminuye significativamente y en el momento en que la economia comienza a mejorar despues de la pandemia los precios de la viviendas incrementa exponencialmente, haciendo que los costos sean mucho mas caros a comparacion de antes de la pandemia.  \n",
        "\n",
        "Durante esta clase aprendi a usar python para visualizar datos y crear diferente tipos de graficas y modelos lineales para predecir los valores. Ademas conoci la herramienta colab, la cual me sera de gran ayuda para el futuro. \n"
      ],
      "metadata": {
        "id": "zV4sd8jWn-c2"
      }
    },
    {
      "cell_type": "code",
      "source": [],
      "metadata": {
        "id": "r8gmbKSXJ68-"
      },
      "execution_count": null,
      "outputs": []
    }
  ]
}