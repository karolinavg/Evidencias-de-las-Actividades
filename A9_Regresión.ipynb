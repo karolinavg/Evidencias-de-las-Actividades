{
  "nbformat": 4,
  "nbformat_minor": 0,
  "metadata": {
    "colab": {
      "provenance": [],
      "include_colab_link": true
    },
    "kernelspec": {
      "name": "python3",
      "display_name": "Python 3"
    },
    "language_info": {
      "name": "python"
    }
  },
  "cells": [
    {
      "cell_type": "markdown",
      "metadata": {
        "id": "view-in-github",
        "colab_type": "text"
      },
      "source": [
        "<a href=\"https://colab.research.google.com/github/karolinavg/Evidencias-de-las-Actividades/blob/main/A9_Regresi%C3%B3n.ipynb\" target=\"_parent\"><img src=\"https://colab.research.google.com/assets/colab-badge.svg\" alt=\"Open In Colab\"/></a>"
      ]
    },
    {
      "cell_type": "code",
      "execution_count": null,
      "metadata": {
        "id": "h9yYkoyCYnIR"
      },
      "outputs": [],
      "source": [
        "import pandas as pd\n",
        "import numpy as np\n",
        "import seaborn as sns\n",
        "import matplotlib.pyplot as plt\n",
        "import statsmodels.api as sample_data\n",
        "from sklearn import linear_model as LM\n",
        "import statsmodels.api as sm\n",
        "from sklearn.model_selection import train_test_split \n",
        "from sklearn.linear_model import LinearRegression "
      ]
    },
    {
      "cell_type": "code",
      "source": [
        "data='/content/drive/MyDrive/Colab Notebooks/antropometria-dataset-2.csv'"
      ],
      "metadata": {
        "id": "xkYZGXdnYy-I"
      },
      "execution_count": null,
      "outputs": []
    },
    {
      "cell_type": "code",
      "source": [
        "from google.colab import drive\n",
        "drive.mount('/content/drive')"
      ],
      "metadata": {
        "colab": {
          "base_uri": "https://localhost:8080/"
        },
        "id": "ZBxCkT_Og_eB",
        "outputId": "6351c8f6-e7e5-4082-8f69-7d387e468166"
      },
      "execution_count": null,
      "outputs": [
        {
          "output_type": "stream",
          "name": "stdout",
          "text": [
            "Drive already mounted at /content/drive; to attempt to forcibly remount, call drive.mount(\"/content/drive\", force_remount=True).\n"
          ]
        }
      ]
    },
    {
      "cell_type": "code",
      "source": [
        "df=pd.read_csv(data)\n",
        "df.head()"
      ],
      "metadata": {
        "colab": {
          "base_uri": "https://localhost:8080/",
          "height": 317
        },
        "id": "g-5drYxuZDGF",
        "outputId": "34e1243b-1ee1-4fc3-e2e0-a12e14cc5ea3"
      },
      "execution_count": null,
      "outputs": [
        {
          "output_type": "execute_result",
          "data": {
            "text/plain": [
              "    folio  intp  entidad          desc_ent  sexo  edad  meses   peso  ropa  \\\n",
              "0  210295     2       21            PUEBLA     2    38      8  73.70     2   \n",
              "1  101655     3       10           DURANGO     2    11     11  35.65     2   \n",
              "2   10287     6        1    AGUASCALIENTES     2    18      8  54.80     1   \n",
              "3   91526     4        9  DISTRITO FEDERAL     1    10      8  33.40     2   \n",
              "4  210939     3       21            PUEBLA     2    19      3  97.95     2   \n",
              "\n",
              "   talla  ... hpresion tbrazo  htension  PrimaryLast  code_upm  est_dis  \\\n",
              "0  146.4  ...    16:30      2     16:35            1     R2101        5   \n",
              "1  145.1  ...    15:25      3     15:25            1     M1041        1   \n",
              "2  162.0  ...     9:40      1      9:40            1     M0108        5   \n",
              "3  146.5  ...     7:40      3      7:45            1     M0931        4   \n",
              "4  161.0  ...     6:00      2      6:00            1     M2123        5   \n",
              "\n",
              "  est_urb est_marg       pondef  est_var  \n",
              "0       3        1  3470.002176      215  \n",
              "1       1        1   417.946672      101  \n",
              "2       3        1   472.980811       15  \n",
              "3       3        2  1832.581391       94  \n",
              "4       3        1  7622.066564      215  \n",
              "\n",
              "[5 rows x 26 columns]"
            ],
            "text/html": [
              "\n",
              "  <div id=\"df-15931af6-e7b0-4e9d-9dbe-67294e136b86\">\n",
              "    <div class=\"colab-df-container\">\n",
              "      <div>\n",
              "<style scoped>\n",
              "    .dataframe tbody tr th:only-of-type {\n",
              "        vertical-align: middle;\n",
              "    }\n",
              "\n",
              "    .dataframe tbody tr th {\n",
              "        vertical-align: top;\n",
              "    }\n",
              "\n",
              "    .dataframe thead th {\n",
              "        text-align: right;\n",
              "    }\n",
              "</style>\n",
              "<table border=\"1\" class=\"dataframe\">\n",
              "  <thead>\n",
              "    <tr style=\"text-align: right;\">\n",
              "      <th></th>\n",
              "      <th>folio</th>\n",
              "      <th>intp</th>\n",
              "      <th>entidad</th>\n",
              "      <th>desc_ent</th>\n",
              "      <th>sexo</th>\n",
              "      <th>edad</th>\n",
              "      <th>meses</th>\n",
              "      <th>peso</th>\n",
              "      <th>ropa</th>\n",
              "      <th>talla</th>\n",
              "      <th>...</th>\n",
              "      <th>hpresion</th>\n",
              "      <th>tbrazo</th>\n",
              "      <th>htension</th>\n",
              "      <th>PrimaryLast</th>\n",
              "      <th>code_upm</th>\n",
              "      <th>est_dis</th>\n",
              "      <th>est_urb</th>\n",
              "      <th>est_marg</th>\n",
              "      <th>pondef</th>\n",
              "      <th>est_var</th>\n",
              "    </tr>\n",
              "  </thead>\n",
              "  <tbody>\n",
              "    <tr>\n",
              "      <th>0</th>\n",
              "      <td>210295</td>\n",
              "      <td>2</td>\n",
              "      <td>21</td>\n",
              "      <td>PUEBLA</td>\n",
              "      <td>2</td>\n",
              "      <td>38</td>\n",
              "      <td>8</td>\n",
              "      <td>73.70</td>\n",
              "      <td>2</td>\n",
              "      <td>146.4</td>\n",
              "      <td>...</td>\n",
              "      <td>16:30</td>\n",
              "      <td>2</td>\n",
              "      <td>16:35</td>\n",
              "      <td>1</td>\n",
              "      <td>R2101</td>\n",
              "      <td>5</td>\n",
              "      <td>3</td>\n",
              "      <td>1</td>\n",
              "      <td>3470.002176</td>\n",
              "      <td>215</td>\n",
              "    </tr>\n",
              "    <tr>\n",
              "      <th>1</th>\n",
              "      <td>101655</td>\n",
              "      <td>3</td>\n",
              "      <td>10</td>\n",
              "      <td>DURANGO</td>\n",
              "      <td>2</td>\n",
              "      <td>11</td>\n",
              "      <td>11</td>\n",
              "      <td>35.65</td>\n",
              "      <td>2</td>\n",
              "      <td>145.1</td>\n",
              "      <td>...</td>\n",
              "      <td>15:25</td>\n",
              "      <td>3</td>\n",
              "      <td>15:25</td>\n",
              "      <td>1</td>\n",
              "      <td>M1041</td>\n",
              "      <td>1</td>\n",
              "      <td>1</td>\n",
              "      <td>1</td>\n",
              "      <td>417.946672</td>\n",
              "      <td>101</td>\n",
              "    </tr>\n",
              "    <tr>\n",
              "      <th>2</th>\n",
              "      <td>10287</td>\n",
              "      <td>6</td>\n",
              "      <td>1</td>\n",
              "      <td>AGUASCALIENTES</td>\n",
              "      <td>2</td>\n",
              "      <td>18</td>\n",
              "      <td>8</td>\n",
              "      <td>54.80</td>\n",
              "      <td>1</td>\n",
              "      <td>162.0</td>\n",
              "      <td>...</td>\n",
              "      <td>9:40</td>\n",
              "      <td>1</td>\n",
              "      <td>9:40</td>\n",
              "      <td>1</td>\n",
              "      <td>M0108</td>\n",
              "      <td>5</td>\n",
              "      <td>3</td>\n",
              "      <td>1</td>\n",
              "      <td>472.980811</td>\n",
              "      <td>15</td>\n",
              "    </tr>\n",
              "    <tr>\n",
              "      <th>3</th>\n",
              "      <td>91526</td>\n",
              "      <td>4</td>\n",
              "      <td>9</td>\n",
              "      <td>DISTRITO FEDERAL</td>\n",
              "      <td>1</td>\n",
              "      <td>10</td>\n",
              "      <td>8</td>\n",
              "      <td>33.40</td>\n",
              "      <td>2</td>\n",
              "      <td>146.5</td>\n",
              "      <td>...</td>\n",
              "      <td>7:40</td>\n",
              "      <td>3</td>\n",
              "      <td>7:45</td>\n",
              "      <td>1</td>\n",
              "      <td>M0931</td>\n",
              "      <td>4</td>\n",
              "      <td>3</td>\n",
              "      <td>2</td>\n",
              "      <td>1832.581391</td>\n",
              "      <td>94</td>\n",
              "    </tr>\n",
              "    <tr>\n",
              "      <th>4</th>\n",
              "      <td>210939</td>\n",
              "      <td>3</td>\n",
              "      <td>21</td>\n",
              "      <td>PUEBLA</td>\n",
              "      <td>2</td>\n",
              "      <td>19</td>\n",
              "      <td>3</td>\n",
              "      <td>97.95</td>\n",
              "      <td>2</td>\n",
              "      <td>161.0</td>\n",
              "      <td>...</td>\n",
              "      <td>6:00</td>\n",
              "      <td>2</td>\n",
              "      <td>6:00</td>\n",
              "      <td>1</td>\n",
              "      <td>M2123</td>\n",
              "      <td>5</td>\n",
              "      <td>3</td>\n",
              "      <td>1</td>\n",
              "      <td>7622.066564</td>\n",
              "      <td>215</td>\n",
              "    </tr>\n",
              "  </tbody>\n",
              "</table>\n",
              "<p>5 rows × 26 columns</p>\n",
              "</div>\n",
              "      <button class=\"colab-df-convert\" onclick=\"convertToInteractive('df-15931af6-e7b0-4e9d-9dbe-67294e136b86')\"\n",
              "              title=\"Convert this dataframe to an interactive table.\"\n",
              "              style=\"display:none;\">\n",
              "        \n",
              "  <svg xmlns=\"http://www.w3.org/2000/svg\" height=\"24px\"viewBox=\"0 0 24 24\"\n",
              "       width=\"24px\">\n",
              "    <path d=\"M0 0h24v24H0V0z\" fill=\"none\"/>\n",
              "    <path d=\"M18.56 5.44l.94 2.06.94-2.06 2.06-.94-2.06-.94-.94-2.06-.94 2.06-2.06.94zm-11 1L8.5 8.5l.94-2.06 2.06-.94-2.06-.94L8.5 2.5l-.94 2.06-2.06.94zm10 10l.94 2.06.94-2.06 2.06-.94-2.06-.94-.94-2.06-.94 2.06-2.06.94z\"/><path d=\"M17.41 7.96l-1.37-1.37c-.4-.4-.92-.59-1.43-.59-.52 0-1.04.2-1.43.59L10.3 9.45l-7.72 7.72c-.78.78-.78 2.05 0 2.83L4 21.41c.39.39.9.59 1.41.59.51 0 1.02-.2 1.41-.59l7.78-7.78 2.81-2.81c.8-.78.8-2.07 0-2.86zM5.41 20L4 18.59l7.72-7.72 1.47 1.35L5.41 20z\"/>\n",
              "  </svg>\n",
              "      </button>\n",
              "      \n",
              "  <style>\n",
              "    .colab-df-container {\n",
              "      display:flex;\n",
              "      flex-wrap:wrap;\n",
              "      gap: 12px;\n",
              "    }\n",
              "\n",
              "    .colab-df-convert {\n",
              "      background-color: #E8F0FE;\n",
              "      border: none;\n",
              "      border-radius: 50%;\n",
              "      cursor: pointer;\n",
              "      display: none;\n",
              "      fill: #1967D2;\n",
              "      height: 32px;\n",
              "      padding: 0 0 0 0;\n",
              "      width: 32px;\n",
              "    }\n",
              "\n",
              "    .colab-df-convert:hover {\n",
              "      background-color: #E2EBFA;\n",
              "      box-shadow: 0px 1px 2px rgba(60, 64, 67, 0.3), 0px 1px 3px 1px rgba(60, 64, 67, 0.15);\n",
              "      fill: #174EA6;\n",
              "    }\n",
              "\n",
              "    [theme=dark] .colab-df-convert {\n",
              "      background-color: #3B4455;\n",
              "      fill: #D2E3FC;\n",
              "    }\n",
              "\n",
              "    [theme=dark] .colab-df-convert:hover {\n",
              "      background-color: #434B5C;\n",
              "      box-shadow: 0px 1px 3px 1px rgba(0, 0, 0, 0.15);\n",
              "      filter: drop-shadow(0px 1px 2px rgba(0, 0, 0, 0.3));\n",
              "      fill: #FFFFFF;\n",
              "    }\n",
              "  </style>\n",
              "\n",
              "      <script>\n",
              "        const buttonEl =\n",
              "          document.querySelector('#df-15931af6-e7b0-4e9d-9dbe-67294e136b86 button.colab-df-convert');\n",
              "        buttonEl.style.display =\n",
              "          google.colab.kernel.accessAllowed ? 'block' : 'none';\n",
              "\n",
              "        async function convertToInteractive(key) {\n",
              "          const element = document.querySelector('#df-15931af6-e7b0-4e9d-9dbe-67294e136b86');\n",
              "          const dataTable =\n",
              "            await google.colab.kernel.invokeFunction('convertToInteractive',\n",
              "                                                     [key], {});\n",
              "          if (!dataTable) return;\n",
              "\n",
              "          const docLinkHtml = 'Like what you see? Visit the ' +\n",
              "            '<a target=\"_blank\" href=https://colab.research.google.com/notebooks/data_table.ipynb>data table notebook</a>'\n",
              "            + ' to learn more about interactive tables.';\n",
              "          element.innerHTML = '';\n",
              "          dataTable['output_type'] = 'display_data';\n",
              "          await google.colab.output.renderOutput(dataTable, element);\n",
              "          const docLink = document.createElement('div');\n",
              "          docLink.innerHTML = docLinkHtml;\n",
              "          element.appendChild(docLink);\n",
              "        }\n",
              "      </script>\n",
              "    </div>\n",
              "  </div>\n",
              "  "
            ]
          },
          "metadata": {},
          "execution_count": 13
        }
      ]
    },
    {
      "cell_type": "code",
      "source": [
        "df.dropna(inplace = True) "
      ],
      "metadata": {
        "id": "wB2i44UbqTfU"
      },
      "execution_count": null,
      "outputs": []
    },
    {
      "cell_type": "markdown",
      "source": [
        "peso = b0 + b1*cintura"
      ],
      "metadata": {
        "id": "t6edxInTaC7o"
      }
    },
    {
      "cell_type": "code",
      "source": [
        "model1A=sm.OLS.from_formula('diastol~sistol',data=df)\n",
        "resultA=model1A.fit()\n",
        "resultA.summary()"
      ],
      "metadata": {
        "colab": {
          "base_uri": "https://localhost:8080/",
          "height": 452
        },
        "id": "VhHB8kzkZHJW",
        "outputId": "200d2e19-5341-4e6b-d4b2-0391b8d19d5c"
      },
      "execution_count": null,
      "outputs": [
        {
          "output_type": "execute_result",
          "data": {
            "text/plain": [
              "<class 'statsmodels.iolib.summary.Summary'>\n",
              "\"\"\"\n",
              "                            OLS Regression Results                            \n",
              "==============================================================================\n",
              "Dep. Variable:                diastol   R-squared:                       0.439\n",
              "Model:                            OLS   Adj. R-squared:                  0.439\n",
              "Method:                 Least Squares   F-statistic:                 1.409e+04\n",
              "Date:                Fri, 02 Dec 2022   Prob (F-statistic):               0.00\n",
              "Time:                        20:55:46   Log-Likelihood:                -64272.\n",
              "No. Observations:               18032   AIC:                         1.285e+05\n",
              "Df Residuals:                   18030   BIC:                         1.286e+05\n",
              "Df Model:                           1                                         \n",
              "Covariance Type:            nonrobust                                         \n",
              "==============================================================================\n",
              "                 coef    std err          t      P>|t|      [0.025      0.975]\n",
              "------------------------------------------------------------------------------\n",
              "Intercept     23.9991      0.440     54.564      0.000      23.137      24.861\n",
              "sistol         0.4350      0.004    118.705      0.000       0.428       0.442\n",
              "==============================================================================\n",
              "Omnibus:                     1016.455   Durbin-Watson:                   1.745\n",
              "Prob(Omnibus):                  0.000   Jarque-Bera (JB):             3973.980\n",
              "Skew:                           0.128   Prob(JB):                         0.00\n",
              "Kurtosis:                       5.286   Cond. No.                         830.\n",
              "==============================================================================\n",
              "\n",
              "Notes:\n",
              "[1] Standard Errors assume that the covariance matrix of the errors is correctly specified.\n",
              "\"\"\""
            ],
            "text/html": [
              "<table class=\"simpletable\">\n",
              "<caption>OLS Regression Results</caption>\n",
              "<tr>\n",
              "  <th>Dep. Variable:</th>         <td>diastol</td>     <th>  R-squared:         </th> <td>   0.439</td> \n",
              "</tr>\n",
              "<tr>\n",
              "  <th>Model:</th>                   <td>OLS</td>       <th>  Adj. R-squared:    </th> <td>   0.439</td> \n",
              "</tr>\n",
              "<tr>\n",
              "  <th>Method:</th>             <td>Least Squares</td>  <th>  F-statistic:       </th> <td>1.409e+04</td>\n",
              "</tr>\n",
              "<tr>\n",
              "  <th>Date:</th>             <td>Fri, 02 Dec 2022</td> <th>  Prob (F-statistic):</th>  <td>  0.00</td>  \n",
              "</tr>\n",
              "<tr>\n",
              "  <th>Time:</th>                 <td>20:55:46</td>     <th>  Log-Likelihood:    </th> <td> -64272.</td> \n",
              "</tr>\n",
              "<tr>\n",
              "  <th>No. Observations:</th>      <td> 18032</td>      <th>  AIC:               </th> <td>1.285e+05</td>\n",
              "</tr>\n",
              "<tr>\n",
              "  <th>Df Residuals:</th>          <td> 18030</td>      <th>  BIC:               </th> <td>1.286e+05</td>\n",
              "</tr>\n",
              "<tr>\n",
              "  <th>Df Model:</th>              <td>     1</td>      <th>                     </th>     <td> </td>    \n",
              "</tr>\n",
              "<tr>\n",
              "  <th>Covariance Type:</th>      <td>nonrobust</td>    <th>                     </th>     <td> </td>    \n",
              "</tr>\n",
              "</table>\n",
              "<table class=\"simpletable\">\n",
              "<tr>\n",
              "      <td></td>         <th>coef</th>     <th>std err</th>      <th>t</th>      <th>P>|t|</th>  <th>[0.025</th>    <th>0.975]</th>  \n",
              "</tr>\n",
              "<tr>\n",
              "  <th>Intercept</th> <td>   23.9991</td> <td>    0.440</td> <td>   54.564</td> <td> 0.000</td> <td>   23.137</td> <td>   24.861</td>\n",
              "</tr>\n",
              "<tr>\n",
              "  <th>sistol</th>    <td>    0.4350</td> <td>    0.004</td> <td>  118.705</td> <td> 0.000</td> <td>    0.428</td> <td>    0.442</td>\n",
              "</tr>\n",
              "</table>\n",
              "<table class=\"simpletable\">\n",
              "<tr>\n",
              "  <th>Omnibus:</th>       <td>1016.455</td> <th>  Durbin-Watson:     </th> <td>   1.745</td>\n",
              "</tr>\n",
              "<tr>\n",
              "  <th>Prob(Omnibus):</th>  <td> 0.000</td>  <th>  Jarque-Bera (JB):  </th> <td>3973.980</td>\n",
              "</tr>\n",
              "<tr>\n",
              "  <th>Skew:</th>           <td> 0.128</td>  <th>  Prob(JB):          </th> <td>    0.00</td>\n",
              "</tr>\n",
              "<tr>\n",
              "  <th>Kurtosis:</th>       <td> 5.286</td>  <th>  Cond. No.          </th> <td>    830.</td>\n",
              "</tr>\n",
              "</table><br/><br/>Notes:<br/>[1] Standard Errors assume that the covariance matrix of the errors is correctly specified."
            ]
          },
          "metadata": {},
          "execution_count": 42
        }
      ]
    },
    {
      "cell_type": "code",
      "source": [
        "#peso= -8.3137 + 0.8316*cintura\n",
        "print('El peso cuando la cintura mide _____ es :',-8.3137 + 0.8316*1)"
      ],
      "metadata": {
        "colab": {
          "base_uri": "https://localhost:8080/"
        },
        "id": "xWB0sqNeZh8q",
        "outputId": "ef884293-9767-401e-d30d-911609331918"
      },
      "execution_count": null,
      "outputs": [
        {
          "output_type": "stream",
          "name": "stdout",
          "text": [
            "El peso cuando la cintura mide _____ es : -7.482100000000001\n"
          ]
        }
      ]
    },
    {
      "cell_type": "code",
      "source": [
        "favs=['cadera','peso']\n",
        "ndf=df[favs]\n",
        "ndf.dropna(inplace=True)\n",
        "ndf"
      ],
      "metadata": {
        "colab": {
          "base_uri": "https://localhost:8080/",
          "height": 530
        },
        "id": "RokoBQTzclN3",
        "outputId": "0d9a0eda-d628-48de-99d7-ec5d013cc4b7"
      },
      "execution_count": null,
      "outputs": [
        {
          "output_type": "stream",
          "name": "stderr",
          "text": [
            "/usr/local/lib/python3.8/dist-packages/pandas/util/_decorators.py:311: SettingWithCopyWarning: \n",
            "A value is trying to be set on a copy of a slice from a DataFrame\n",
            "\n",
            "See the caveats in the documentation: https://pandas.pydata.org/pandas-docs/stable/user_guide/indexing.html#returning-a-view-versus-a-copy\n",
            "  return func(*args, **kwargs)\n"
          ]
        },
        {
          "output_type": "execute_result",
          "data": {
            "text/plain": [
              "       cadera   peso\n",
              "0       106.0  73.70\n",
              "1        75.0  35.65\n",
              "2        94.3  54.80\n",
              "3        72.2  33.40\n",
              "4       127.0  97.95\n",
              "...       ...    ...\n",
              "18635   113.0  75.80\n",
              "18636   113.7  69.40\n",
              "18637    86.0  46.75\n",
              "18638    94.8  59.05\n",
              "18639   120.0  80.00\n",
              "\n",
              "[18032 rows x 2 columns]"
            ],
            "text/html": [
              "\n",
              "  <div id=\"df-c650444a-6031-4732-ae76-880104a8fa16\">\n",
              "    <div class=\"colab-df-container\">\n",
              "      <div>\n",
              "<style scoped>\n",
              "    .dataframe tbody tr th:only-of-type {\n",
              "        vertical-align: middle;\n",
              "    }\n",
              "\n",
              "    .dataframe tbody tr th {\n",
              "        vertical-align: top;\n",
              "    }\n",
              "\n",
              "    .dataframe thead th {\n",
              "        text-align: right;\n",
              "    }\n",
              "</style>\n",
              "<table border=\"1\" class=\"dataframe\">\n",
              "  <thead>\n",
              "    <tr style=\"text-align: right;\">\n",
              "      <th></th>\n",
              "      <th>cadera</th>\n",
              "      <th>peso</th>\n",
              "    </tr>\n",
              "  </thead>\n",
              "  <tbody>\n",
              "    <tr>\n",
              "      <th>0</th>\n",
              "      <td>106.0</td>\n",
              "      <td>73.70</td>\n",
              "    </tr>\n",
              "    <tr>\n",
              "      <th>1</th>\n",
              "      <td>75.0</td>\n",
              "      <td>35.65</td>\n",
              "    </tr>\n",
              "    <tr>\n",
              "      <th>2</th>\n",
              "      <td>94.3</td>\n",
              "      <td>54.80</td>\n",
              "    </tr>\n",
              "    <tr>\n",
              "      <th>3</th>\n",
              "      <td>72.2</td>\n",
              "      <td>33.40</td>\n",
              "    </tr>\n",
              "    <tr>\n",
              "      <th>4</th>\n",
              "      <td>127.0</td>\n",
              "      <td>97.95</td>\n",
              "    </tr>\n",
              "    <tr>\n",
              "      <th>...</th>\n",
              "      <td>...</td>\n",
              "      <td>...</td>\n",
              "    </tr>\n",
              "    <tr>\n",
              "      <th>18635</th>\n",
              "      <td>113.0</td>\n",
              "      <td>75.80</td>\n",
              "    </tr>\n",
              "    <tr>\n",
              "      <th>18636</th>\n",
              "      <td>113.7</td>\n",
              "      <td>69.40</td>\n",
              "    </tr>\n",
              "    <tr>\n",
              "      <th>18637</th>\n",
              "      <td>86.0</td>\n",
              "      <td>46.75</td>\n",
              "    </tr>\n",
              "    <tr>\n",
              "      <th>18638</th>\n",
              "      <td>94.8</td>\n",
              "      <td>59.05</td>\n",
              "    </tr>\n",
              "    <tr>\n",
              "      <th>18639</th>\n",
              "      <td>120.0</td>\n",
              "      <td>80.00</td>\n",
              "    </tr>\n",
              "  </tbody>\n",
              "</table>\n",
              "<p>18032 rows × 2 columns</p>\n",
              "</div>\n",
              "      <button class=\"colab-df-convert\" onclick=\"convertToInteractive('df-c650444a-6031-4732-ae76-880104a8fa16')\"\n",
              "              title=\"Convert this dataframe to an interactive table.\"\n",
              "              style=\"display:none;\">\n",
              "        \n",
              "  <svg xmlns=\"http://www.w3.org/2000/svg\" height=\"24px\"viewBox=\"0 0 24 24\"\n",
              "       width=\"24px\">\n",
              "    <path d=\"M0 0h24v24H0V0z\" fill=\"none\"/>\n",
              "    <path d=\"M18.56 5.44l.94 2.06.94-2.06 2.06-.94-2.06-.94-.94-2.06-.94 2.06-2.06.94zm-11 1L8.5 8.5l.94-2.06 2.06-.94-2.06-.94L8.5 2.5l-.94 2.06-2.06.94zm10 10l.94 2.06.94-2.06 2.06-.94-2.06-.94-.94-2.06-.94 2.06-2.06.94z\"/><path d=\"M17.41 7.96l-1.37-1.37c-.4-.4-.92-.59-1.43-.59-.52 0-1.04.2-1.43.59L10.3 9.45l-7.72 7.72c-.78.78-.78 2.05 0 2.83L4 21.41c.39.39.9.59 1.41.59.51 0 1.02-.2 1.41-.59l7.78-7.78 2.81-2.81c.8-.78.8-2.07 0-2.86zM5.41 20L4 18.59l7.72-7.72 1.47 1.35L5.41 20z\"/>\n",
              "  </svg>\n",
              "      </button>\n",
              "      \n",
              "  <style>\n",
              "    .colab-df-container {\n",
              "      display:flex;\n",
              "      flex-wrap:wrap;\n",
              "      gap: 12px;\n",
              "    }\n",
              "\n",
              "    .colab-df-convert {\n",
              "      background-color: #E8F0FE;\n",
              "      border: none;\n",
              "      border-radius: 50%;\n",
              "      cursor: pointer;\n",
              "      display: none;\n",
              "      fill: #1967D2;\n",
              "      height: 32px;\n",
              "      padding: 0 0 0 0;\n",
              "      width: 32px;\n",
              "    }\n",
              "\n",
              "    .colab-df-convert:hover {\n",
              "      background-color: #E2EBFA;\n",
              "      box-shadow: 0px 1px 2px rgba(60, 64, 67, 0.3), 0px 1px 3px 1px rgba(60, 64, 67, 0.15);\n",
              "      fill: #174EA6;\n",
              "    }\n",
              "\n",
              "    [theme=dark] .colab-df-convert {\n",
              "      background-color: #3B4455;\n",
              "      fill: #D2E3FC;\n",
              "    }\n",
              "\n",
              "    [theme=dark] .colab-df-convert:hover {\n",
              "      background-color: #434B5C;\n",
              "      box-shadow: 0px 1px 3px 1px rgba(0, 0, 0, 0.15);\n",
              "      filter: drop-shadow(0px 1px 2px rgba(0, 0, 0, 0.3));\n",
              "      fill: #FFFFFF;\n",
              "    }\n",
              "  </style>\n",
              "\n",
              "      <script>\n",
              "        const buttonEl =\n",
              "          document.querySelector('#df-c650444a-6031-4732-ae76-880104a8fa16 button.colab-df-convert');\n",
              "        buttonEl.style.display =\n",
              "          google.colab.kernel.accessAllowed ? 'block' : 'none';\n",
              "\n",
              "        async function convertToInteractive(key) {\n",
              "          const element = document.querySelector('#df-c650444a-6031-4732-ae76-880104a8fa16');\n",
              "          const dataTable =\n",
              "            await google.colab.kernel.invokeFunction('convertToInteractive',\n",
              "                                                     [key], {});\n",
              "          if (!dataTable) return;\n",
              "\n",
              "          const docLinkHtml = 'Like what you see? Visit the ' +\n",
              "            '<a target=\"_blank\" href=https://colab.research.google.com/notebooks/data_table.ipynb>data table notebook</a>'\n",
              "            + ' to learn more about interactive tables.';\n",
              "          element.innerHTML = '';\n",
              "          dataTable['output_type'] = 'display_data';\n",
              "          await google.colab.output.renderOutput(dataTable, element);\n",
              "          const docLink = document.createElement('div');\n",
              "          docLink.innerHTML = docLinkHtml;\n",
              "          element.appendChild(docLink);\n",
              "        }\n",
              "      </script>\n",
              "    </div>\n",
              "  </div>\n",
              "  "
            ]
          },
          "metadata": {},
          "execution_count": 51
        }
      ]
    },
    {
      "cell_type": "code",
      "source": [
        "x=pd.DataFrame(ndf.cadera)\n",
        "y=pd.DataFrame(ndf.peso)"
      ],
      "metadata": {
        "id": "nVmbevPccvNo"
      },
      "execution_count": null,
      "outputs": []
    },
    {
      "cell_type": "code",
      "source": [
        "type(x)"
      ],
      "metadata": {
        "colab": {
          "base_uri": "https://localhost:8080/"
        },
        "id": "NQTHYCNpc0vd",
        "outputId": "d07affb4-8363-4073-c938-414c1d201edc"
      },
      "execution_count": null,
      "outputs": [
        {
          "output_type": "execute_result",
          "data": {
            "text/plain": [
              "pandas.core.frame.DataFrame"
            ]
          },
          "metadata": {},
          "execution_count": 53
        }
      ]
    },
    {
      "cell_type": "code",
      "source": [
        "lm=LM.LinearRegression()\n",
        "model_lm=lm.fit(x,y)\n",
        "model_lm"
      ],
      "metadata": {
        "colab": {
          "base_uri": "https://localhost:8080/"
        },
        "id": "Q-QUw29kc4YJ",
        "outputId": "d8466d5e-7aac-4617-f34d-9790a1ed80d1"
      },
      "execution_count": null,
      "outputs": [
        {
          "output_type": "execute_result",
          "data": {
            "text/plain": [
              "LinearRegression()"
            ]
          },
          "metadata": {},
          "execution_count": 54
        }
      ]
    },
    {
      "cell_type": "code",
      "source": [
        "print('Model intercept is: ',model_lm.intercept_)\n",
        "print('Model coefficient is: ',model_lm.coef_)\n",
        "model_lm.score(x,y)"
      ],
      "metadata": {
        "colab": {
          "base_uri": "https://localhost:8080/"
        },
        "id": "Fsd5Y0quc-hM",
        "outputId": "cb4f8aa3-e47d-4d9b-fed8-a4f1aaec909d"
      },
      "execution_count": null,
      "outputs": [
        {
          "output_type": "stream",
          "name": "stdout",
          "text": [
            "Model intercept is:  [-30.09720035]\n",
            "Model coefficient is:  [[0.96975238]]\n"
          ]
        },
        {
          "output_type": "execute_result",
          "data": {
            "text/plain": [
              "0.6038232783357167"
            ]
          },
          "metadata": {},
          "execution_count": 55
        }
      ]
    },
    {
      "cell_type": "code",
      "source": [
        "x_train, x_test, y_train, y_test = train_test_split(x, y, test_size=0.2, random_state=0) "
      ],
      "metadata": {
        "id": "ab-mzadkelGn"
      },
      "execution_count": null,
      "outputs": []
    },
    {
      "cell_type": "code",
      "source": [
        "regressor = LinearRegression() "
      ],
      "metadata": {
        "id": "afw-pJ-WfRsZ"
      },
      "execution_count": null,
      "outputs": []
    },
    {
      "cell_type": "code",
      "source": [
        "regressor.fit(x_train, y_train) "
      ],
      "metadata": {
        "colab": {
          "base_uri": "https://localhost:8080/"
        },
        "id": "eNuLq5gyfoTw",
        "outputId": "a7cec5b2-0c3e-474c-8277-84c613f0249f"
      },
      "execution_count": null,
      "outputs": [
        {
          "output_type": "execute_result",
          "data": {
            "text/plain": [
              "LinearRegression()"
            ]
          },
          "metadata": {},
          "execution_count": 33
        }
      ]
    },
    {
      "cell_type": "code",
      "source": [
        "y_pred = regressor.predict(x_test)"
      ],
      "metadata": {
        "id": "Dm16DjjMf6ai"
      },
      "execution_count": null,
      "outputs": []
    },
    {
      "cell_type": "code",
      "source": [
        "plt.plot(x_test, y_pred,color='k') \n",
        "plt.scatter(x_train, y_train,color='g') \n"
      ],
      "metadata": {
        "colab": {
          "base_uri": "https://localhost:8080/",
          "height": 282
        },
        "id": "j9e90eRcgJAa",
        "outputId": "2435c442-0a0f-4a84-e079-a4b82f71bc9c"
      },
      "execution_count": null,
      "outputs": [
        {
          "output_type": "execute_result",
          "data": {
            "text/plain": [
              "<matplotlib.collections.PathCollection at 0x7f91522561c0>"
            ]
          },
          "metadata": {},
          "execution_count": 35
        },
        {
          "output_type": "display_data",
          "data": {
            "text/plain": [
              "<Figure size 432x288 with 1 Axes>"
            ],
            "image/png": "[encoded data removed]"
          },
          "metadata": {
            "needs_background": "light"
          }
        }
      ]
    },
    {
      "cell_type": "code",
      "source": [
        "resultA.resid"
      ],
      "metadata": {
        "colab": {
          "base_uri": "https://localhost:8080/"
        },
        "id": "0r7D5Ov4byrq",
        "outputId": "cb159fc7-fd33-46ae-d531-b5aab175d0eb"
      },
      "execution_count": null,
      "outputs": [
        {
          "output_type": "execute_result",
          "data": {
            "text/plain": [
              "0         2.650177\n",
              "1        -4.657717\n",
              "2         2.718398\n",
              "3        -6.056739\n",
              "4         8.550740\n",
              "           ...    \n",
              "18635     8.342597\n",
              "18636    13.027603\n",
              "18637    -0.569212\n",
              "18638     0.572105\n",
              "18639    12.727437\n",
              "Length: 18032, dtype: float64"
            ]
          },
          "metadata": {},
          "execution_count": 36
        }
      ]
    },
    {
      "cell_type": "code",
      "source": [
        "model1B=sm.OLS.from_formula('diastol~sistol',data=df)\n",
        "resultB=model1B.fit()\n",
        "resultB.summary()"
      ],
      "metadata": {
        "colab": {
          "base_uri": "https://localhost:8080/",
          "height": 452
        },
        "id": "-ZDEfv8dgwaa",
        "outputId": "aab3af5e-4d30-44f2-ce82-80241f5aa31e"
      },
      "execution_count": null,
      "outputs": [
        {
          "output_type": "execute_result",
          "data": {
            "text/plain": [
              "<class 'statsmodels.iolib.summary.Summary'>\n",
              "\"\"\"\n",
              "                            OLS Regression Results                            \n",
              "==============================================================================\n",
              "Dep. Variable:                diastol   R-squared:                       0.439\n",
              "Model:                            OLS   Adj. R-squared:                  0.439\n",
              "Method:                 Least Squares   F-statistic:                 1.409e+04\n",
              "Date:                Fri, 02 Dec 2022   Prob (F-statistic):               0.00\n",
              "Time:                        20:47:07   Log-Likelihood:                -64272.\n",
              "No. Observations:               18032   AIC:                         1.285e+05\n",
              "Df Residuals:                   18030   BIC:                         1.286e+05\n",
              "Df Model:                           1                                         \n",
              "Covariance Type:            nonrobust                                         \n",
              "==============================================================================\n",
              "                 coef    std err          t      P>|t|      [0.025      0.975]\n",
              "------------------------------------------------------------------------------\n",
              "Intercept     23.9991      0.440     54.564      0.000      23.137      24.861\n",
              "sistol         0.4350      0.004    118.705      0.000       0.428       0.442\n",
              "==============================================================================\n",
              "Omnibus:                     1016.455   Durbin-Watson:                   1.745\n",
              "Prob(Omnibus):                  0.000   Jarque-Bera (JB):             3973.980\n",
              "Skew:                           0.128   Prob(JB):                         0.00\n",
              "Kurtosis:                       5.286   Cond. No.                         830.\n",
              "==============================================================================\n",
              "\n",
              "Notes:\n",
              "[1] Standard Errors assume that the covariance matrix of the errors is correctly specified.\n",
              "\"\"\""
            ],
            "text/html": [
              "<table class=\"simpletable\">\n",
              "<caption>OLS Regression Results</caption>\n",
              "<tr>\n",
              "  <th>Dep. Variable:</th>         <td>diastol</td>     <th>  R-squared:         </th> <td>   0.439</td> \n",
              "</tr>\n",
              "<tr>\n",
              "  <th>Model:</th>                   <td>OLS</td>       <th>  Adj. R-squared:    </th> <td>   0.439</td> \n",
              "</tr>\n",
              "<tr>\n",
              "  <th>Method:</th>             <td>Least Squares</td>  <th>  F-statistic:       </th> <td>1.409e+04</td>\n",
              "</tr>\n",
              "<tr>\n",
              "  <th>Date:</th>             <td>Fri, 02 Dec 2022</td> <th>  Prob (F-statistic):</th>  <td>  0.00</td>  \n",
              "</tr>\n",
              "<tr>\n",
              "  <th>Time:</th>                 <td>20:47:07</td>     <th>  Log-Likelihood:    </th> <td> -64272.</td> \n",
              "</tr>\n",
              "<tr>\n",
              "  <th>No. Observations:</th>      <td> 18032</td>      <th>  AIC:               </th> <td>1.285e+05</td>\n",
              "</tr>\n",
              "<tr>\n",
              "  <th>Df Residuals:</th>          <td> 18030</td>      <th>  BIC:               </th> <td>1.286e+05</td>\n",
              "</tr>\n",
              "<tr>\n",
              "  <th>Df Model:</th>              <td>     1</td>      <th>                     </th>     <td> </td>    \n",
              "</tr>\n",
              "<tr>\n",
              "  <th>Covariance Type:</th>      <td>nonrobust</td>    <th>                     </th>     <td> </td>    \n",
              "</tr>\n",
              "</table>\n",
              "<table class=\"simpletable\">\n",
              "<tr>\n",
              "      <td></td>         <th>coef</th>     <th>std err</th>      <th>t</th>      <th>P>|t|</th>  <th>[0.025</th>    <th>0.975]</th>  \n",
              "</tr>\n",
              "<tr>\n",
              "  <th>Intercept</th> <td>   23.9991</td> <td>    0.440</td> <td>   54.564</td> <td> 0.000</td> <td>   23.137</td> <td>   24.861</td>\n",
              "</tr>\n",
              "<tr>\n",
              "  <th>sistol</th>    <td>    0.4350</td> <td>    0.004</td> <td>  118.705</td> <td> 0.000</td> <td>    0.428</td> <td>    0.442</td>\n",
              "</tr>\n",
              "</table>\n",
              "<table class=\"simpletable\">\n",
              "<tr>\n",
              "  <th>Omnibus:</th>       <td>1016.455</td> <th>  Durbin-Watson:     </th> <td>   1.745</td>\n",
              "</tr>\n",
              "<tr>\n",
              "  <th>Prob(Omnibus):</th>  <td> 0.000</td>  <th>  Jarque-Bera (JB):  </th> <td>3973.980</td>\n",
              "</tr>\n",
              "<tr>\n",
              "  <th>Skew:</th>           <td> 0.128</td>  <th>  Prob(JB):          </th> <td>    0.00</td>\n",
              "</tr>\n",
              "<tr>\n",
              "  <th>Kurtosis:</th>       <td> 5.286</td>  <th>  Cond. No.          </th> <td>    830.</td>\n",
              "</tr>\n",
              "</table><br/><br/>Notes:<br/>[1] Standard Errors assume that the covariance matrix of the errors is correctly specified."
            ]
          },
          "metadata": {},
          "execution_count": 37
        }
      ]
    },
    {
      "cell_type": "code",
      "source": [
        "residB= resultB.resid\n",
        "residB"
      ],
      "metadata": {
        "colab": {
          "base_uri": "https://localhost:8080/"
        },
        "id": "SSJDKd1JlemW",
        "outputId": "c5d13f5c-3b59-41eb-c62f-ee31d706cdfb"
      },
      "execution_count": null,
      "outputs": [
        {
          "output_type": "execute_result",
          "data": {
            "text/plain": [
              "0         1.735293\n",
              "1        -4.451156\n",
              "2       -13.668671\n",
              "3         9.113814\n",
              "4        -1.821215\n",
              "           ...    \n",
              "18635   -24.640605\n",
              "18636   -42.684392\n",
              "18637   -58.055870\n",
              "18638   -26.231017\n",
              "18639    21.593835\n",
              "Length: 18032, dtype: float64"
            ]
          },
          "metadata": {},
          "execution_count": 38
        }
      ]
    },
    {
      "cell_type": "code",
      "source": [
        "type(residB)"
      ],
      "metadata": {
        "colab": {
          "base_uri": "https://localhost:8080/"
        },
        "id": "I29RxMevo5R6",
        "outputId": "6883c5cf-b215-48ff-c14f-1ff74a7675a3"
      },
      "execution_count": null,
      "outputs": [
        {
          "output_type": "execute_result",
          "data": {
            "text/plain": [
              "pandas.core.series.Series"
            ]
          },
          "metadata": {},
          "execution_count": 39
        }
      ]
    },
    {
      "cell_type": "code",
      "source": [
        "from scipy.ndimage.measurements import median\n",
        "residB_list = residB.tolist()\n",
        "#sum(residB_list)/len(residB_list)\n",
        "median(residB_list)"
      ],
      "metadata": {
        "colab": {
          "base_uri": "https://localhost:8080/"
        },
        "id": "fiCUy2VKpO4Z",
        "outputId": "7fe7e42b-16a4-457f-db9e-5f5a44c8d096"
      },
      "execution_count": null,
      "outputs": [
        {
          "output_type": "execute_result",
          "data": {
            "text/plain": [
              "0.011363868221820894"
            ]
          },
          "metadata": {},
          "execution_count": 40
        }
      ]
    },
    {
      "cell_type": "code",
      "source": [
        "from statsmodels.formula.api import ols\n",
        "from statsmodels.stats.stattools import durbin_watson as dwtest\n",
        "\n",
        "#Durbin-Watson test\n",
        "dwtest(resids=np.array(resultB.resid))"
      ],
      "metadata": {
        "colab": {
          "base_uri": "https://localhost:8080/"
        },
        "id": "e_NPQGwKilmI",
        "outputId": "58c4cefe-5d2e-4948-844e-9f8de8bf8268"
      },
      "execution_count": null,
      "outputs": [
        {
          "output_type": "execute_result",
          "data": {
            "text/plain": [
              "1.745053985223873"
            ]
          },
          "metadata": {},
          "execution_count": 41
        }
      ]
    },
    {
      "cell_type": "code",
      "source": [
        "print('Correlación Pearson: ', df['cadera'].corr(df['peso'], method='pearson'))\n",
        "print('Correlación spearman: ', df['cadera'].corr(df['peso'], method='spearman'))\n",
        "print('Correlación kendall: ', df['cadera'].corr(df['peso'], method='kendall'))"
      ],
      "metadata": {
        "colab": {
          "base_uri": "https://localhost:8080/"
        },
        "id": "EU-nxucEhBjZ",
        "outputId": "6adfa9b0-e032-4c9a-9d7c-77fa67341a64"
      },
      "execution_count": null,
      "outputs": [
        {
          "output_type": "stream",
          "name": "stdout",
          "text": [
            "Correlación Pearson:  0.7770606658014013\n",
            "Correlación spearman:  0.864463405769021\n",
            "Correlación kendall:  0.6907704257654824\n"
          ]
        }
      ]
    },
    {
      "cell_type": "code",
      "source": [
        "#diastol = b0+ b1*sistol + b2*edad + b3*peso + b4*cintura \n",
        "model1C=sm.OLS.from_formula('diastol~sistol + edad + peso + cintura',data=df)\n",
        "resultC=model1C.fit()\n",
        "resultC.summary()"
      ],
      "metadata": {
        "colab": {
          "base_uri": "https://localhost:8080/",
          "height": 550
        },
        "id": "hcpVhOprh-gc",
        "outputId": "eabe9d53-cfb4-4c2b-de34-67ec9e30c186"
      },
      "execution_count": null,
      "outputs": [
        {
          "output_type": "execute_result",
          "data": {
            "text/plain": [
              "<class 'statsmodels.iolib.summary.Summary'>\n",
              "\"\"\"\n",
              "                            OLS Regression Results                            \n",
              "==============================================================================\n",
              "Dep. Variable:                diastol   R-squared:                       0.458\n",
              "Model:                            OLS   Adj. R-squared:                  0.458\n",
              "Method:                 Least Squares   F-statistic:                     3812.\n",
              "Date:                Fri, 02 Dec 2022   Prob (F-statistic):               0.00\n",
              "Time:                        20:34:57   Log-Likelihood:                -63952.\n",
              "No. Observations:               18032   AIC:                         1.279e+05\n",
              "Df Residuals:                   18027   BIC:                         1.280e+05\n",
              "Df Model:                           4                                         \n",
              "Covariance Type:            nonrobust                                         \n",
              "==============================================================================\n",
              "                 coef    std err          t      P>|t|      [0.025      0.975]\n",
              "------------------------------------------------------------------------------\n",
              "Intercept     20.3297      0.520     39.089      0.000      19.310      21.349\n",
              "sistol         0.4140      0.004     94.447      0.000       0.405       0.423\n",
              "edad          -0.0272      0.004     -6.934      0.000      -0.035      -0.020\n",
              "peso           0.0825      0.006     14.154      0.000       0.071       0.094\n",
              "cintura        0.0202      0.007      3.072      0.002       0.007       0.033\n",
              "==============================================================================\n",
              "Omnibus:                     1031.138   Durbin-Watson:                   1.769\n",
              "Prob(Omnibus):                  0.000   Jarque-Bera (JB):             3722.633\n",
              "Skew:                           0.189   Prob(JB):                         0.00\n",
              "Kurtosis:                       5.194   Cond. No.                     1.39e+03\n",
              "==============================================================================\n",
              "\n",
              "Notes:\n",
              "[1] Standard Errors assume that the covariance matrix of the errors is correctly specified.\n",
              "[2] The condition number is large, 1.39e+03. This might indicate that there are\n",
              "strong multicollinearity or other numerical problems.\n",
              "\"\"\""
            ],
            "text/html": [
              "<table class=\"simpletable\">\n",
              "<caption>OLS Regression Results</caption>\n",
              "<tr>\n",
              "  <th>Dep. Variable:</th>         <td>diastol</td>     <th>  R-squared:         </th> <td>   0.458</td> \n",
              "</tr>\n",
              "<tr>\n",
              "  <th>Model:</th>                   <td>OLS</td>       <th>  Adj. R-squared:    </th> <td>   0.458</td> \n",
              "</tr>\n",
              "<tr>\n",
              "  <th>Method:</th>             <td>Least Squares</td>  <th>  F-statistic:       </th> <td>   3812.</td> \n",
              "</tr>\n",
              "<tr>\n",
              "  <th>Date:</th>             <td>Fri, 02 Dec 2022</td> <th>  Prob (F-statistic):</th>  <td>  0.00</td>  \n",
              "</tr>\n",
              "<tr>\n",
              "  <th>Time:</th>                 <td>20:34:57</td>     <th>  Log-Likelihood:    </th> <td> -63952.</td> \n",
              "</tr>\n",
              "<tr>\n",
              "  <th>No. Observations:</th>      <td> 18032</td>      <th>  AIC:               </th> <td>1.279e+05</td>\n",
              "</tr>\n",
              "<tr>\n",
              "  <th>Df Residuals:</th>          <td> 18027</td>      <th>  BIC:               </th> <td>1.280e+05</td>\n",
              "</tr>\n",
              "<tr>\n",
              "  <th>Df Model:</th>              <td>     4</td>      <th>                     </th>     <td> </td>    \n",
              "</tr>\n",
              "<tr>\n",
              "  <th>Covariance Type:</th>      <td>nonrobust</td>    <th>                     </th>     <td> </td>    \n",
              "</tr>\n",
              "</table>\n",
              "<table class=\"simpletable\">\n",
              "<tr>\n",
              "      <td></td>         <th>coef</th>     <th>std err</th>      <th>t</th>      <th>P>|t|</th>  <th>[0.025</th>    <th>0.975]</th>  \n",
              "</tr>\n",
              "<tr>\n",
              "  <th>Intercept</th> <td>   20.3297</td> <td>    0.520</td> <td>   39.089</td> <td> 0.000</td> <td>   19.310</td> <td>   21.349</td>\n",
              "</tr>\n",
              "<tr>\n",
              "  <th>sistol</th>    <td>    0.4140</td> <td>    0.004</td> <td>   94.447</td> <td> 0.000</td> <td>    0.405</td> <td>    0.423</td>\n",
              "</tr>\n",
              "<tr>\n",
              "  <th>edad</th>      <td>   -0.0272</td> <td>    0.004</td> <td>   -6.934</td> <td> 0.000</td> <td>   -0.035</td> <td>   -0.020</td>\n",
              "</tr>\n",
              "<tr>\n",
              "  <th>peso</th>      <td>    0.0825</td> <td>    0.006</td> <td>   14.154</td> <td> 0.000</td> <td>    0.071</td> <td>    0.094</td>\n",
              "</tr>\n",
              "<tr>\n",
              "  <th>cintura</th>   <td>    0.0202</td> <td>    0.007</td> <td>    3.072</td> <td> 0.002</td> <td>    0.007</td> <td>    0.033</td>\n",
              "</tr>\n",
              "</table>\n",
              "<table class=\"simpletable\">\n",
              "<tr>\n",
              "  <th>Omnibus:</th>       <td>1031.138</td> <th>  Durbin-Watson:     </th> <td>   1.769</td>\n",
              "</tr>\n",
              "<tr>\n",
              "  <th>Prob(Omnibus):</th>  <td> 0.000</td>  <th>  Jarque-Bera (JB):  </th> <td>3722.633</td>\n",
              "</tr>\n",
              "<tr>\n",
              "  <th>Skew:</th>           <td> 0.189</td>  <th>  Prob(JB):          </th> <td>    0.00</td>\n",
              "</tr>\n",
              "<tr>\n",
              "  <th>Kurtosis:</th>       <td> 5.194</td>  <th>  Cond. No.          </th> <td>1.39e+03</td>\n",
              "</tr>\n",
              "</table><br/><br/>Notes:<br/>[1] Standard Errors assume that the covariance matrix of the errors is correctly specified.<br/>[2] The condition number is large, 1.39e+03. This might indicate that there are<br/>strong multicollinearity or other numerical problems."
            ]
          },
          "metadata": {},
          "execution_count": 17
        }
      ]
    },
    {
      "cell_type": "code",
      "source": [
        "#diastol = b0+ b1*sistol + b2*edad + b3*peso + b4*cintura \n",
        "print('El valor de b2 usando el modelo C es',20.3297 + 0.4140*sistol + "
      ],
      "metadata": {
        "id": "4-n8XK7QnmaB",
        "colab": {
          "base_uri": "https://localhost:8080/",
          "height": 183
        },
        "outputId": "15715660-5adc-451f-ef74-2bbfe906bbb1"
      },
      "execution_count": null,
      "outputs": [
        {
          "output_type": "error",
          "ename": "NameError",
          "evalue": "ignored",
          "traceback": [
            "\u001b[0;31m---------------------------------------------------------------------------\u001b[0m",
            "\u001b[0;31mNameError\u001b[0m                                 Traceback (most recent call last)",
            "\u001b[0;32m<ipython-input-19-1ecc2037c9e3>\u001b[0m in \u001b[0;36m<module>\u001b[0;34m\u001b[0m\n\u001b[1;32m      1\u001b[0m \u001b[0;31m#diastol = b0+ b1*sistol + b2*edad + b3*peso + b4*cintura\u001b[0m\u001b[0;34m\u001b[0m\u001b[0;34m\u001b[0m\u001b[0;34m\u001b[0m\u001b[0m\n\u001b[0;32m----> 2\u001b[0;31m \u001b[0mprint\u001b[0m\u001b[0;34m(\u001b[0m\u001b[0;34m'El valor de b2 usando el modelo C es'\u001b[0m\u001b[0;34m,\u001b[0m\u001b[0;36m20.3297\u001b[0m \u001b[0;34m+\u001b[0m \u001b[0;36m0.4140\u001b[0m\u001b[0;34m*\u001b[0m\u001b[0msistol\u001b[0m\u001b[0;34m)\u001b[0m\u001b[0;34m\u001b[0m\u001b[0;34m\u001b[0m\u001b[0m\n\u001b[0m",
            "\u001b[0;31mNameError\u001b[0m: name 'sistol' is not defined"
          ]
        }
      ]
    },
    {
      "cell_type": "code",
      "source": [],
      "metadata": {
        "id": "I2zBIU-CjLEo"
      },
      "execution_count": null,
      "outputs": []
    }
  ]
}