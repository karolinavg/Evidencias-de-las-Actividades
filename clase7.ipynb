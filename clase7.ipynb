{
  "nbformat": 4,
  "nbformat_minor": 0,
  "metadata": {
    "colab": {
      "provenance": [],
      "authorship_tag": "ABX9TyNw/l1TZMfa4ILNZAgOsS9K",
      "include_colab_link": true
    },
    "kernelspec": {
      "name": "python3",
      "display_name": "Python 3"
    },
    "language_info": {
      "name": "python"
    }
  },
  "cells": [
    {
      "cell_type": "markdown",
      "metadata": {
        "id": "view-in-github",
        "colab_type": "text"
      },
      "source": [
        "<a href=\"https://colab.research.google.com/github/karolinavg/Evidencias-de-las-Actividades/blob/main/clase7.ipynb\" target=\"_parent\"><img src=\"https://colab.research.google.com/assets/colab-badge.svg\" alt=\"Open In Colab\"/></a>"
      ]
    },
    {
      "cell_type": "markdown",
      "source": [
        "# Regression\n",
        "25/nov/2022"
      ],
      "metadata": {
        "id": "mx-cMN97xtBt"
      }
    },
    {
      "cell_type": "code",
      "execution_count": null,
      "metadata": {
        "id": "vhjT3Fd6xa3g"
      },
      "outputs": [],
      "source": [
        "import pandas as pd\n",
        "import numpy as np\n",
        "import seaborn as sns"
      ]
    },
    {
      "cell_type": "code",
      "source": [
        "data='https://raw.githubusercontent.com/tec03/Datasets/main/datasets/reg_data.csv'"
      ],
      "metadata": {
        "id": "2n1k9CL3_E4L"
      },
      "execution_count": null,
      "outputs": []
    },
    {
      "cell_type": "code",
      "source": [
        "df=pd.read_csv(data)\n",
        "df"
      ],
      "metadata": {
        "colab": {
          "base_uri": "https://localhost:8080/",
          "height": 645
        },
        "id": "0DwCmL3p_eKG",
        "outputId": "0e344752-5bef-4994-bf21-6efbb879dcf7"
      },
      "execution_count": null,
      "outputs": [
        {
          "output_type": "execute_result",
          "data": {
            "text/plain": [
              "    Gender  Salary   Age       Place  Weight Company   Education  JoinYear\n",
              "0   Female  1300.0  35.0     Chicago    80.0     BMW    Bachelor      2008\n",
              "1   Female  1250.0  33.0     Chicago    82.5    Ford  HighSchool      2010\n",
              "2     Male  2200.0  34.0    New York   100.8     BMW    Bachelor      2004\n",
              "3     Male  2100.0  42.0    New York    90.0     BMW      Master      2000\n",
              "4   Female  1500.0  29.0     Chicago    67.0    Ford      Master      2010\n",
              "5   Female  1700.0  42.0  Washington    60.0    Ford      Master      2000\n",
              "6     Male  3000.0  50.0  Washington    77.0    Ford  HighSchool      2010\n",
              "7     Male  3000.0  55.0  Washington    77.0    Ford    Bachelor      2010\n",
              "8   Female  2800.0  31.0    New York    87.0    Ford    Bachelor      2004\n",
              "9     Male  2900.0  46.0    New York    70.0      GM      Master      2008\n",
              "10  Female  2780.0  36.0  Washington    57.0     BMW  HighSchool      2009\n",
              "11    Male  2550.0  48.0    New York    64.0      GM      Master      2004\n",
              "12  Female     NaN  31.0    New York    87.0    Ford    Bachelor      2009\n",
              "13    Male  2900.0   NaN    New York    70.0      GM      Master      2010\n",
              "14  Female  2780.0  36.0         NaN    57.0     BMW  HighSchool      2010\n",
              "15    Male  2550.0  48.0    New York     NaN      GM      Master      2000\n",
              "16    Male  2550.0  48.0    New York    64.0     NaN      Master      2000\n",
              "17    Male  2550.0  48.0    New York    64.0      GM         NaN      2000\n",
              "18     NaN  2550.0  48.0    New York    64.0      GM      Master      2009"
            ],
            "text/html": [
              "\n",
              "  <div id=\"df-408afcfd-36ee-4034-9ed4-517ed8e72278\">\n",
              "    <div class=\"colab-df-container\">\n",
              "      <div>\n",
              "<style scoped>\n",
              "    .dataframe tbody tr th:only-of-type {\n",
              "        vertical-align: middle;\n",
              "    }\n",
              "\n",
              "    .dataframe tbody tr th {\n",
              "        vertical-align: top;\n",
              "    }\n",
              "\n",
              "    .dataframe thead th {\n",
              "        text-align: right;\n",
              "    }\n",
              "</style>\n",
              "<table border=\"1\" class=\"dataframe\">\n",
              "  <thead>\n",
              "    <tr style=\"text-align: right;\">\n",
              "      <th></th>\n",
              "      <th>Gender</th>\n",
              "      <th>Salary</th>\n",
              "      <th>Age</th>\n",
              "      <th>Place</th>\n",
              "      <th>Weight</th>\n",
              "      <th>Company</th>\n",
              "      <th>Education</th>\n",
              "      <th>JoinYear</th>\n",
              "    </tr>\n",
              "  </thead>\n",
              "  <tbody>\n",
              "    <tr>\n",
              "      <th>0</th>\n",
              "      <td>Female</td>\n",
              "      <td>1300.0</td>\n",
              "      <td>35.0</td>\n",
              "      <td>Chicago</td>\n",
              "      <td>80.0</td>\n",
              "      <td>BMW</td>\n",
              "      <td>Bachelor</td>\n",
              "      <td>2008</td>\n",
              "    </tr>\n",
              "    <tr>\n",
              "      <th>1</th>\n",
              "      <td>Female</td>\n",
              "      <td>1250.0</td>\n",
              "      <td>33.0</td>\n",
              "      <td>Chicago</td>\n",
              "      <td>82.5</td>\n",
              "      <td>Ford</td>\n",
              "      <td>HighSchool</td>\n",
              "      <td>2010</td>\n",
              "    </tr>\n",
              "    <tr>\n",
              "      <th>2</th>\n",
              "      <td>Male</td>\n",
              "      <td>2200.0</td>\n",
              "      <td>34.0</td>\n",
              "      <td>New York</td>\n",
              "      <td>100.8</td>\n",
              "      <td>BMW</td>\n",
              "      <td>Bachelor</td>\n",
              "      <td>2004</td>\n",
              "    </tr>\n",
              "    <tr>\n",
              "      <th>3</th>\n",
              "      <td>Male</td>\n",
              "      <td>2100.0</td>\n",
              "      <td>42.0</td>\n",
              "      <td>New York</td>\n",
              "      <td>90.0</td>\n",
              "      <td>BMW</td>\n",
              "      <td>Master</td>\n",
              "      <td>2000</td>\n",
              "    </tr>\n",
              "    <tr>\n",
              "      <th>4</th>\n",
              "      <td>Female</td>\n",
              "      <td>1500.0</td>\n",
              "      <td>29.0</td>\n",
              "      <td>Chicago</td>\n",
              "      <td>67.0</td>\n",
              "      <td>Ford</td>\n",
              "      <td>Master</td>\n",
              "      <td>2010</td>\n",
              "    </tr>\n",
              "    <tr>\n",
              "      <th>5</th>\n",
              "      <td>Female</td>\n",
              "      <td>1700.0</td>\n",
              "      <td>42.0</td>\n",
              "      <td>Washington</td>\n",
              "      <td>60.0</td>\n",
              "      <td>Ford</td>\n",
              "      <td>Master</td>\n",
              "      <td>2000</td>\n",
              "    </tr>\n",
              "    <tr>\n",
              "      <th>6</th>\n",
              "      <td>Male</td>\n",
              "      <td>3000.0</td>\n",
              "      <td>50.0</td>\n",
              "      <td>Washington</td>\n",
              "      <td>77.0</td>\n",
              "      <td>Ford</td>\n",
              "      <td>HighSchool</td>\n",
              "      <td>2010</td>\n",
              "    </tr>\n",
              "    <tr>\n",
              "      <th>7</th>\n",
              "      <td>Male</td>\n",
              "      <td>3000.0</td>\n",
              "      <td>55.0</td>\n",
              "      <td>Washington</td>\n",
              "      <td>77.0</td>\n",
              "      <td>Ford</td>\n",
              "      <td>Bachelor</td>\n",
              "      <td>2010</td>\n",
              "    </tr>\n",
              "    <tr>\n",
              "      <th>8</th>\n",
              "      <td>Female</td>\n",
              "      <td>2800.0</td>\n",
              "      <td>31.0</td>\n",
              "      <td>New York</td>\n",
              "      <td>87.0</td>\n",
              "      <td>Ford</td>\n",
              "      <td>Bachelor</td>\n",
              "      <td>2004</td>\n",
              "    </tr>\n",
              "    <tr>\n",
              "      <th>9</th>\n",
              "      <td>Male</td>\n",
              "      <td>2900.0</td>\n",
              "      <td>46.0</td>\n",
              "      <td>New York</td>\n",
              "      <td>70.0</td>\n",
              "      <td>GM</td>\n",
              "      <td>Master</td>\n",
              "      <td>2008</td>\n",
              "    </tr>\n",
              "    <tr>\n",
              "      <th>10</th>\n",
              "      <td>Female</td>\n",
              "      <td>2780.0</td>\n",
              "      <td>36.0</td>\n",
              "      <td>Washington</td>\n",
              "      <td>57.0</td>\n",
              "      <td>BMW</td>\n",
              "      <td>HighSchool</td>\n",
              "      <td>2009</td>\n",
              "    </tr>\n",
              "    <tr>\n",
              "      <th>11</th>\n",
              "      <td>Male</td>\n",
              "      <td>2550.0</td>\n",
              "      <td>48.0</td>\n",
              "      <td>New York</td>\n",
              "      <td>64.0</td>\n",
              "      <td>GM</td>\n",
              "      <td>Master</td>\n",
              "      <td>2004</td>\n",
              "    </tr>\n",
              "    <tr>\n",
              "      <th>12</th>\n",
              "      <td>Female</td>\n",
              "      <td>NaN</td>\n",
              "      <td>31.0</td>\n",
              "      <td>New York</td>\n",
              "      <td>87.0</td>\n",
              "      <td>Ford</td>\n",
              "      <td>Bachelor</td>\n",
              "      <td>2009</td>\n",
              "    </tr>\n",
              "    <tr>\n",
              "      <th>13</th>\n",
              "      <td>Male</td>\n",
              "      <td>2900.0</td>\n",
              "      <td>NaN</td>\n",
              "      <td>New York</td>\n",
              "      <td>70.0</td>\n",
              "      <td>GM</td>\n",
              "      <td>Master</td>\n",
              "      <td>2010</td>\n",
              "    </tr>\n",
              "    <tr>\n",
              "      <th>14</th>\n",
              "      <td>Female</td>\n",
              "      <td>2780.0</td>\n",
              "      <td>36.0</td>\n",
              "      <td>NaN</td>\n",
              "      <td>57.0</td>\n",
              "      <td>BMW</td>\n",
              "      <td>HighSchool</td>\n",
              "      <td>2010</td>\n",
              "    </tr>\n",
              "    <tr>\n",
              "      <th>15</th>\n",
              "      <td>Male</td>\n",
              "      <td>2550.0</td>\n",
              "      <td>48.0</td>\n",
              "      <td>New York</td>\n",
              "      <td>NaN</td>\n",
              "      <td>GM</td>\n",
              "      <td>Master</td>\n",
              "      <td>2000</td>\n",
              "    </tr>\n",
              "    <tr>\n",
              "      <th>16</th>\n",
              "      <td>Male</td>\n",
              "      <td>2550.0</td>\n",
              "      <td>48.0</td>\n",
              "      <td>New York</td>\n",
              "      <td>64.0</td>\n",
              "      <td>NaN</td>\n",
              "      <td>Master</td>\n",
              "      <td>2000</td>\n",
              "    </tr>\n",
              "    <tr>\n",
              "      <th>17</th>\n",
              "      <td>Male</td>\n",
              "      <td>2550.0</td>\n",
              "      <td>48.0</td>\n",
              "      <td>New York</td>\n",
              "      <td>64.0</td>\n",
              "      <td>GM</td>\n",
              "      <td>NaN</td>\n",
              "      <td>2000</td>\n",
              "    </tr>\n",
              "    <tr>\n",
              "      <th>18</th>\n",
              "      <td>NaN</td>\n",
              "      <td>2550.0</td>\n",
              "      <td>48.0</td>\n",
              "      <td>New York</td>\n",
              "      <td>64.0</td>\n",
              "      <td>GM</td>\n",
              "      <td>Master</td>\n",
              "      <td>2009</td>\n",
              "    </tr>\n",
              "  </tbody>\n",
              "</table>\n",
              "</div>\n",
              "      <button class=\"colab-df-convert\" onclick=\"convertToInteractive('df-408afcfd-36ee-4034-9ed4-517ed8e72278')\"\n",
              "              title=\"Convert this dataframe to an interactive table.\"\n",
              "              style=\"display:none;\">\n",
              "        \n",
              "  <svg xmlns=\"http://www.w3.org/2000/svg\" height=\"24px\"viewBox=\"0 0 24 24\"\n",
              "       width=\"24px\">\n",
              "    <path d=\"M0 0h24v24H0V0z\" fill=\"none\"/>\n",
              "    <path d=\"M18.56 5.44l.94 2.06.94-2.06 2.06-.94-2.06-.94-.94-2.06-.94 2.06-2.06.94zm-11 1L8.5 8.5l.94-2.06 2.06-.94-2.06-.94L8.5 2.5l-.94 2.06-2.06.94zm10 10l.94 2.06.94-2.06 2.06-.94-2.06-.94-.94-2.06-.94 2.06-2.06.94z\"/><path d=\"M17.41 7.96l-1.37-1.37c-.4-.4-.92-.59-1.43-.59-.52 0-1.04.2-1.43.59L10.3 9.45l-7.72 7.72c-.78.78-.78 2.05 0 2.83L4 21.41c.39.39.9.59 1.41.59.51 0 1.02-.2 1.41-.59l7.78-7.78 2.81-2.81c.8-.78.8-2.07 0-2.86zM5.41 20L4 18.59l7.72-7.72 1.47 1.35L5.41 20z\"/>\n",
              "  </svg>\n",
              "      </button>\n",
              "      \n",
              "  <style>\n",
              "    .colab-df-container {\n",
              "      display:flex;\n",
              "      flex-wrap:wrap;\n",
              "      gap: 12px;\n",
              "    }\n",
              "\n",
              "    .colab-df-convert {\n",
              "      background-color: #E8F0FE;\n",
              "      border: none;\n",
              "      border-radius: 50%;\n",
              "      cursor: pointer;\n",
              "      display: none;\n",
              "      fill: #1967D2;\n",
              "      height: 32px;\n",
              "      padding: 0 0 0 0;\n",
              "      width: 32px;\n",
              "    }\n",
              "\n",
              "    .colab-df-convert:hover {\n",
              "      background-color: #E2EBFA;\n",
              "      box-shadow: 0px 1px 2px rgba(60, 64, 67, 0.3), 0px 1px 3px 1px rgba(60, 64, 67, 0.15);\n",
              "      fill: #174EA6;\n",
              "    }\n",
              "\n",
              "    [theme=dark] .colab-df-convert {\n",
              "      background-color: #3B4455;\n",
              "      fill: #D2E3FC;\n",
              "    }\n",
              "\n",
              "    [theme=dark] .colab-df-convert:hover {\n",
              "      background-color: #434B5C;\n",
              "      box-shadow: 0px 1px 3px 1px rgba(0, 0, 0, 0.15);\n",
              "      filter: drop-shadow(0px 1px 2px rgba(0, 0, 0, 0.3));\n",
              "      fill: #FFFFFF;\n",
              "    }\n",
              "  </style>\n",
              "\n",
              "      <script>\n",
              "        const buttonEl =\n",
              "          document.querySelector('#df-408afcfd-36ee-4034-9ed4-517ed8e72278 button.colab-df-convert');\n",
              "        buttonEl.style.display =\n",
              "          google.colab.kernel.accessAllowed ? 'block' : 'none';\n",
              "\n",
              "        async function convertToInteractive(key) {\n",
              "          const element = document.querySelector('#df-408afcfd-36ee-4034-9ed4-517ed8e72278');\n",
              "          const dataTable =\n",
              "            await google.colab.kernel.invokeFunction('convertToInteractive',\n",
              "                                                     [key], {});\n",
              "          if (!dataTable) return;\n",
              "\n",
              "          const docLinkHtml = 'Like what you see? Visit the ' +\n",
              "            '<a target=\"_blank\" href=https://colab.research.google.com/notebooks/data_table.ipynb>data table notebook</a>'\n",
              "            + ' to learn more about interactive tables.';\n",
              "          element.innerHTML = '';\n",
              "          dataTable['output_type'] = 'display_data';\n",
              "          await google.colab.output.renderOutput(dataTable, element);\n",
              "          const docLink = document.createElement('div');\n",
              "          docLink.innerHTML = docLinkHtml;\n",
              "          element.appendChild(docLink);\n",
              "        }\n",
              "      </script>\n",
              "    </div>\n",
              "  </div>\n",
              "  "
            ]
          },
          "metadata": {},
          "execution_count": 3
        }
      ]
    },
    {
      "cell_type": "markdown",
      "source": [
        "## Description of the variables\n",
        "*   Gender: gives information about the gender of each employees. It is a categorical variable.\n",
        "\n"
      ],
      "metadata": {
        "id": "vE0cLCBCAuEL"
      }
    },
    {
      "cell_type": "code",
      "source": [
        "ndf=df.copy()\n",
        "ndf.dropna(inplace=True)"
      ],
      "metadata": {
        "id": "sgK5DWgKBAEp"
      },
      "execution_count": null,
      "outputs": []
    },
    {
      "cell_type": "code",
      "source": [
        "ndf"
      ],
      "metadata": {
        "colab": {
          "base_uri": "https://localhost:8080/",
          "height": 426
        },
        "id": "a2z8QiwiDwF5",
        "outputId": "b90d8637-21e0-4d29-bf82-0fcf8fe6a3e9"
      },
      "execution_count": null,
      "outputs": [
        {
          "output_type": "execute_result",
          "data": {
            "text/plain": [
              "    Gender  Salary   Age       Place  Weight Company   Education  JoinYear\n",
              "0   Female  1300.0  35.0     Chicago    80.0     BMW    Bachelor      2008\n",
              "1   Female  1250.0  33.0     Chicago    82.5    Ford  HighSchool      2010\n",
              "2     Male  2200.0  34.0    New York   100.8     BMW    Bachelor      2004\n",
              "3     Male  2100.0  42.0    New York    90.0     BMW      Master      2000\n",
              "4   Female  1500.0  29.0     Chicago    67.0    Ford      Master      2010\n",
              "5   Female  1700.0  42.0  Washington    60.0    Ford      Master      2000\n",
              "6     Male  3000.0  50.0  Washington    77.0    Ford  HighSchool      2010\n",
              "7     Male  3000.0  55.0  Washington    77.0    Ford    Bachelor      2010\n",
              "8   Female  2800.0  31.0    New York    87.0    Ford    Bachelor      2004\n",
              "9     Male  2900.0  46.0    New York    70.0      GM      Master      2008\n",
              "10  Female  2780.0  36.0  Washington    57.0     BMW  HighSchool      2009\n",
              "11    Male  2550.0  48.0    New York    64.0      GM      Master      2004"
            ],
            "text/html": [
              "\n",
              "  <div id=\"df-2956e598-c68e-458c-bd54-2cc5af21983e\">\n",
              "    <div class=\"colab-df-container\">\n",
              "      <div>\n",
              "<style scoped>\n",
              "    .dataframe tbody tr th:only-of-type {\n",
              "        vertical-align: middle;\n",
              "    }\n",
              "\n",
              "    .dataframe tbody tr th {\n",
              "        vertical-align: top;\n",
              "    }\n",
              "\n",
              "    .dataframe thead th {\n",
              "        text-align: right;\n",
              "    }\n",
              "</style>\n",
              "<table border=\"1\" class=\"dataframe\">\n",
              "  <thead>\n",
              "    <tr style=\"text-align: right;\">\n",
              "      <th></th>\n",
              "      <th>Gender</th>\n",
              "      <th>Salary</th>\n",
              "      <th>Age</th>\n",
              "      <th>Place</th>\n",
              "      <th>Weight</th>\n",
              "      <th>Company</th>\n",
              "      <th>Education</th>\n",
              "      <th>JoinYear</th>\n",
              "    </tr>\n",
              "  </thead>\n",
              "  <tbody>\n",
              "    <tr>\n",
              "      <th>0</th>\n",
              "      <td>Female</td>\n",
              "      <td>1300.0</td>\n",
              "      <td>35.0</td>\n",
              "      <td>Chicago</td>\n",
              "      <td>80.0</td>\n",
              "      <td>BMW</td>\n",
              "      <td>Bachelor</td>\n",
              "      <td>2008</td>\n",
              "    </tr>\n",
              "    <tr>\n",
              "      <th>1</th>\n",
              "      <td>Female</td>\n",
              "      <td>1250.0</td>\n",
              "      <td>33.0</td>\n",
              "      <td>Chicago</td>\n",
              "      <td>82.5</td>\n",
              "      <td>Ford</td>\n",
              "      <td>HighSchool</td>\n",
              "      <td>2010</td>\n",
              "    </tr>\n",
              "    <tr>\n",
              "      <th>2</th>\n",
              "      <td>Male</td>\n",
              "      <td>2200.0</td>\n",
              "      <td>34.0</td>\n",
              "      <td>New York</td>\n",
              "      <td>100.8</td>\n",
              "      <td>BMW</td>\n",
              "      <td>Bachelor</td>\n",
              "      <td>2004</td>\n",
              "    </tr>\n",
              "    <tr>\n",
              "      <th>3</th>\n",
              "      <td>Male</td>\n",
              "      <td>2100.0</td>\n",
              "      <td>42.0</td>\n",
              "      <td>New York</td>\n",
              "      <td>90.0</td>\n",
              "      <td>BMW</td>\n",
              "      <td>Master</td>\n",
              "      <td>2000</td>\n",
              "    </tr>\n",
              "    <tr>\n",
              "      <th>4</th>\n",
              "      <td>Female</td>\n",
              "      <td>1500.0</td>\n",
              "      <td>29.0</td>\n",
              "      <td>Chicago</td>\n",
              "      <td>67.0</td>\n",
              "      <td>Ford</td>\n",
              "      <td>Master</td>\n",
              "      <td>2010</td>\n",
              "    </tr>\n",
              "    <tr>\n",
              "      <th>5</th>\n",
              "      <td>Female</td>\n",
              "      <td>1700.0</td>\n",
              "      <td>42.0</td>\n",
              "      <td>Washington</td>\n",
              "      <td>60.0</td>\n",
              "      <td>Ford</td>\n",
              "      <td>Master</td>\n",
              "      <td>2000</td>\n",
              "    </tr>\n",
              "    <tr>\n",
              "      <th>6</th>\n",
              "      <td>Male</td>\n",
              "      <td>3000.0</td>\n",
              "      <td>50.0</td>\n",
              "      <td>Washington</td>\n",
              "      <td>77.0</td>\n",
              "      <td>Ford</td>\n",
              "      <td>HighSchool</td>\n",
              "      <td>2010</td>\n",
              "    </tr>\n",
              "    <tr>\n",
              "      <th>7</th>\n",
              "      <td>Male</td>\n",
              "      <td>3000.0</td>\n",
              "      <td>55.0</td>\n",
              "      <td>Washington</td>\n",
              "      <td>77.0</td>\n",
              "      <td>Ford</td>\n",
              "      <td>Bachelor</td>\n",
              "      <td>2010</td>\n",
              "    </tr>\n",
              "    <tr>\n",
              "      <th>8</th>\n",
              "      <td>Female</td>\n",
              "      <td>2800.0</td>\n",
              "      <td>31.0</td>\n",
              "      <td>New York</td>\n",
              "      <td>87.0</td>\n",
              "      <td>Ford</td>\n",
              "      <td>Bachelor</td>\n",
              "      <td>2004</td>\n",
              "    </tr>\n",
              "    <tr>\n",
              "      <th>9</th>\n",
              "      <td>Male</td>\n",
              "      <td>2900.0</td>\n",
              "      <td>46.0</td>\n",
              "      <td>New York</td>\n",
              "      <td>70.0</td>\n",
              "      <td>GM</td>\n",
              "      <td>Master</td>\n",
              "      <td>2008</td>\n",
              "    </tr>\n",
              "    <tr>\n",
              "      <th>10</th>\n",
              "      <td>Female</td>\n",
              "      <td>2780.0</td>\n",
              "      <td>36.0</td>\n",
              "      <td>Washington</td>\n",
              "      <td>57.0</td>\n",
              "      <td>BMW</td>\n",
              "      <td>HighSchool</td>\n",
              "      <td>2009</td>\n",
              "    </tr>\n",
              "    <tr>\n",
              "      <th>11</th>\n",
              "      <td>Male</td>\n",
              "      <td>2550.0</td>\n",
              "      <td>48.0</td>\n",
              "      <td>New York</td>\n",
              "      <td>64.0</td>\n",
              "      <td>GM</td>\n",
              "      <td>Master</td>\n",
              "      <td>2004</td>\n",
              "    </tr>\n",
              "  </tbody>\n",
              "</table>\n",
              "</div>\n",
              "      <button class=\"colab-df-convert\" onclick=\"convertToInteractive('df-2956e598-c68e-458c-bd54-2cc5af21983e')\"\n",
              "              title=\"Convert this dataframe to an interactive table.\"\n",
              "              style=\"display:none;\">\n",
              "        \n",
              "  <svg xmlns=\"http://www.w3.org/2000/svg\" height=\"24px\"viewBox=\"0 0 24 24\"\n",
              "       width=\"24px\">\n",
              "    <path d=\"M0 0h24v24H0V0z\" fill=\"none\"/>\n",
              "    <path d=\"M18.56 5.44l.94 2.06.94-2.06 2.06-.94-2.06-.94-.94-2.06-.94 2.06-2.06.94zm-11 1L8.5 8.5l.94-2.06 2.06-.94-2.06-.94L8.5 2.5l-.94 2.06-2.06.94zm10 10l.94 2.06.94-2.06 2.06-.94-2.06-.94-.94-2.06-.94 2.06-2.06.94z\"/><path d=\"M17.41 7.96l-1.37-1.37c-.4-.4-.92-.59-1.43-.59-.52 0-1.04.2-1.43.59L10.3 9.45l-7.72 7.72c-.78.78-.78 2.05 0 2.83L4 21.41c.39.39.9.59 1.41.59.51 0 1.02-.2 1.41-.59l7.78-7.78 2.81-2.81c.8-.78.8-2.07 0-2.86zM5.41 20L4 18.59l7.72-7.72 1.47 1.35L5.41 20z\"/>\n",
              "  </svg>\n",
              "      </button>\n",
              "      \n",
              "  <style>\n",
              "    .colab-df-container {\n",
              "      display:flex;\n",
              "      flex-wrap:wrap;\n",
              "      gap: 12px;\n",
              "    }\n",
              "\n",
              "    .colab-df-convert {\n",
              "      background-color: #E8F0FE;\n",
              "      border: none;\n",
              "      border-radius: 50%;\n",
              "      cursor: pointer;\n",
              "      display: none;\n",
              "      fill: #1967D2;\n",
              "      height: 32px;\n",
              "      padding: 0 0 0 0;\n",
              "      width: 32px;\n",
              "    }\n",
              "\n",
              "    .colab-df-convert:hover {\n",
              "      background-color: #E2EBFA;\n",
              "      box-shadow: 0px 1px 2px rgba(60, 64, 67, 0.3), 0px 1px 3px 1px rgba(60, 64, 67, 0.15);\n",
              "      fill: #174EA6;\n",
              "    }\n",
              "\n",
              "    [theme=dark] .colab-df-convert {\n",
              "      background-color: #3B4455;\n",
              "      fill: #D2E3FC;\n",
              "    }\n",
              "\n",
              "    [theme=dark] .colab-df-convert:hover {\n",
              "      background-color: #434B5C;\n",
              "      box-shadow: 0px 1px 3px 1px rgba(0, 0, 0, 0.15);\n",
              "      filter: drop-shadow(0px 1px 2px rgba(0, 0, 0, 0.3));\n",
              "      fill: #FFFFFF;\n",
              "    }\n",
              "  </style>\n",
              "\n",
              "      <script>\n",
              "        const buttonEl =\n",
              "          document.querySelector('#df-2956e598-c68e-458c-bd54-2cc5af21983e button.colab-df-convert');\n",
              "        buttonEl.style.display =\n",
              "          google.colab.kernel.accessAllowed ? 'block' : 'none';\n",
              "\n",
              "        async function convertToInteractive(key) {\n",
              "          const element = document.querySelector('#df-2956e598-c68e-458c-bd54-2cc5af21983e');\n",
              "          const dataTable =\n",
              "            await google.colab.kernel.invokeFunction('convertToInteractive',\n",
              "                                                     [key], {});\n",
              "          if (!dataTable) return;\n",
              "\n",
              "          const docLinkHtml = 'Like what you see? Visit the ' +\n",
              "            '<a target=\"_blank\" href=https://colab.research.google.com/notebooks/data_table.ipynb>data table notebook</a>'\n",
              "            + ' to learn more about interactive tables.';\n",
              "          element.innerHTML = '';\n",
              "          dataTable['output_type'] = 'display_data';\n",
              "          await google.colab.output.renderOutput(dataTable, element);\n",
              "          const docLink = document.createElement('div');\n",
              "          docLink.innerHTML = docLinkHtml;\n",
              "          element.appendChild(docLink);\n",
              "        }\n",
              "      </script>\n",
              "    </div>\n",
              "  </div>\n",
              "  "
            ]
          },
          "metadata": {},
          "execution_count": 5
        }
      ]
    },
    {
      "cell_type": "markdown",
      "source": [
        "### Salary of a person with age 33?\n",
        "Salary=b0+b1*Age"
      ],
      "metadata": {
        "id": "_0ftTJjLDx_d"
      }
    },
    {
      "cell_type": "code",
      "source": [
        "import statsmodels.api as sm"
      ],
      "metadata": {
        "id": "gCoLyShYcZR5"
      },
      "execution_count": null,
      "outputs": []
    },
    {
      "cell_type": "code",
      "source": [
        "favs=['Salary','Age']\n",
        "ndf=df[favs]\n",
        "ndf.dropna(inplace=True)\n",
        "ndf"
      ],
      "metadata": {
        "colab": {
          "base_uri": "https://localhost:8080/",
          "height": 669
        },
        "id": "YGJx3FhBD5BB",
        "outputId": "64af54a1-af6c-4ed2-b780-60a3879ef108"
      },
      "execution_count": null,
      "outputs": [
        {
          "output_type": "stream",
          "name": "stderr",
          "text": [
            "/usr/local/lib/python3.7/dist-packages/pandas/util/_decorators.py:311: SettingWithCopyWarning: \n",
            "A value is trying to be set on a copy of a slice from a DataFrame\n",
            "\n",
            "See the caveats in the documentation: https://pandas.pydata.org/pandas-docs/stable/user_guide/indexing.html#returning-a-view-versus-a-copy\n",
            "  return func(*args, **kwargs)\n"
          ]
        },
        {
          "output_type": "execute_result",
          "data": {
            "text/plain": [
              "    Salary   Age\n",
              "0   1300.0  35.0\n",
              "1   1250.0  33.0\n",
              "2   2200.0  34.0\n",
              "3   2100.0  42.0\n",
              "4   1500.0  29.0\n",
              "5   1700.0  42.0\n",
              "6   3000.0  50.0\n",
              "7   3000.0  55.0\n",
              "8   2800.0  31.0\n",
              "9   2900.0  46.0\n",
              "10  2780.0  36.0\n",
              "11  2550.0  48.0\n",
              "14  2780.0  36.0\n",
              "15  2550.0  48.0\n",
              "16  2550.0  48.0\n",
              "17  2550.0  48.0\n",
              "18  2550.0  48.0"
            ],
            "text/html": [
              "\n",
              "  <div id=\"df-4e11bae4-fe1b-43a7-b816-f77037370d55\">\n",
              "    <div class=\"colab-df-container\">\n",
              "      <div>\n",
              "<style scoped>\n",
              "    .dataframe tbody tr th:only-of-type {\n",
              "        vertical-align: middle;\n",
              "    }\n",
              "\n",
              "    .dataframe tbody tr th {\n",
              "        vertical-align: top;\n",
              "    }\n",
              "\n",
              "    .dataframe thead th {\n",
              "        text-align: right;\n",
              "    }\n",
              "</style>\n",
              "<table border=\"1\" class=\"dataframe\">\n",
              "  <thead>\n",
              "    <tr style=\"text-align: right;\">\n",
              "      <th></th>\n",
              "      <th>Salary</th>\n",
              "      <th>Age</th>\n",
              "    </tr>\n",
              "  </thead>\n",
              "  <tbody>\n",
              "    <tr>\n",
              "      <th>0</th>\n",
              "      <td>1300.0</td>\n",
              "      <td>35.0</td>\n",
              "    </tr>\n",
              "    <tr>\n",
              "      <th>1</th>\n",
              "      <td>1250.0</td>\n",
              "      <td>33.0</td>\n",
              "    </tr>\n",
              "    <tr>\n",
              "      <th>2</th>\n",
              "      <td>2200.0</td>\n",
              "      <td>34.0</td>\n",
              "    </tr>\n",
              "    <tr>\n",
              "      <th>3</th>\n",
              "      <td>2100.0</td>\n",
              "      <td>42.0</td>\n",
              "    </tr>\n",
              "    <tr>\n",
              "      <th>4</th>\n",
              "      <td>1500.0</td>\n",
              "      <td>29.0</td>\n",
              "    </tr>\n",
              "    <tr>\n",
              "      <th>5</th>\n",
              "      <td>1700.0</td>\n",
              "      <td>42.0</td>\n",
              "    </tr>\n",
              "    <tr>\n",
              "      <th>6</th>\n",
              "      <td>3000.0</td>\n",
              "      <td>50.0</td>\n",
              "    </tr>\n",
              "    <tr>\n",
              "      <th>7</th>\n",
              "      <td>3000.0</td>\n",
              "      <td>55.0</td>\n",
              "    </tr>\n",
              "    <tr>\n",
              "      <th>8</th>\n",
              "      <td>2800.0</td>\n",
              "      <td>31.0</td>\n",
              "    </tr>\n",
              "    <tr>\n",
              "      <th>9</th>\n",
              "      <td>2900.0</td>\n",
              "      <td>46.0</td>\n",
              "    </tr>\n",
              "    <tr>\n",
              "      <th>10</th>\n",
              "      <td>2780.0</td>\n",
              "      <td>36.0</td>\n",
              "    </tr>\n",
              "    <tr>\n",
              "      <th>11</th>\n",
              "      <td>2550.0</td>\n",
              "      <td>48.0</td>\n",
              "    </tr>\n",
              "    <tr>\n",
              "      <th>14</th>\n",
              "      <td>2780.0</td>\n",
              "      <td>36.0</td>\n",
              "    </tr>\n",
              "    <tr>\n",
              "      <th>15</th>\n",
              "      <td>2550.0</td>\n",
              "      <td>48.0</td>\n",
              "    </tr>\n",
              "    <tr>\n",
              "      <th>16</th>\n",
              "      <td>2550.0</td>\n",
              "      <td>48.0</td>\n",
              "    </tr>\n",
              "    <tr>\n",
              "      <th>17</th>\n",
              "      <td>2550.0</td>\n",
              "      <td>48.0</td>\n",
              "    </tr>\n",
              "    <tr>\n",
              "      <th>18</th>\n",
              "      <td>2550.0</td>\n",
              "      <td>48.0</td>\n",
              "    </tr>\n",
              "  </tbody>\n",
              "</table>\n",
              "</div>\n",
              "      <button class=\"colab-df-convert\" onclick=\"convertToInteractive('df-4e11bae4-fe1b-43a7-b816-f77037370d55')\"\n",
              "              title=\"Convert this dataframe to an interactive table.\"\n",
              "              style=\"display:none;\">\n",
              "        \n",
              "  <svg xmlns=\"http://www.w3.org/2000/svg\" height=\"24px\"viewBox=\"0 0 24 24\"\n",
              "       width=\"24px\">\n",
              "    <path d=\"M0 0h24v24H0V0z\" fill=\"none\"/>\n",
              "    <path d=\"M18.56 5.44l.94 2.06.94-2.06 2.06-.94-2.06-.94-.94-2.06-.94 2.06-2.06.94zm-11 1L8.5 8.5l.94-2.06 2.06-.94-2.06-.94L8.5 2.5l-.94 2.06-2.06.94zm10 10l.94 2.06.94-2.06 2.06-.94-2.06-.94-.94-2.06-.94 2.06-2.06.94z\"/><path d=\"M17.41 7.96l-1.37-1.37c-.4-.4-.92-.59-1.43-.59-.52 0-1.04.2-1.43.59L10.3 9.45l-7.72 7.72c-.78.78-.78 2.05 0 2.83L4 21.41c.39.39.9.59 1.41.59.51 0 1.02-.2 1.41-.59l7.78-7.78 2.81-2.81c.8-.78.8-2.07 0-2.86zM5.41 20L4 18.59l7.72-7.72 1.47 1.35L5.41 20z\"/>\n",
              "  </svg>\n",
              "      </button>\n",
              "      \n",
              "  <style>\n",
              "    .colab-df-container {\n",
              "      display:flex;\n",
              "      flex-wrap:wrap;\n",
              "      gap: 12px;\n",
              "    }\n",
              "\n",
              "    .colab-df-convert {\n",
              "      background-color: #E8F0FE;\n",
              "      border: none;\n",
              "      border-radius: 50%;\n",
              "      cursor: pointer;\n",
              "      display: none;\n",
              "      fill: #1967D2;\n",
              "      height: 32px;\n",
              "      padding: 0 0 0 0;\n",
              "      width: 32px;\n",
              "    }\n",
              "\n",
              "    .colab-df-convert:hover {\n",
              "      background-color: #E2EBFA;\n",
              "      box-shadow: 0px 1px 2px rgba(60, 64, 67, 0.3), 0px 1px 3px 1px rgba(60, 64, 67, 0.15);\n",
              "      fill: #174EA6;\n",
              "    }\n",
              "\n",
              "    [theme=dark] .colab-df-convert {\n",
              "      background-color: #3B4455;\n",
              "      fill: #D2E3FC;\n",
              "    }\n",
              "\n",
              "    [theme=dark] .colab-df-convert:hover {\n",
              "      background-color: #434B5C;\n",
              "      box-shadow: 0px 1px 3px 1px rgba(0, 0, 0, 0.15);\n",
              "      filter: drop-shadow(0px 1px 2px rgba(0, 0, 0, 0.3));\n",
              "      fill: #FFFFFF;\n",
              "    }\n",
              "  </style>\n",
              "\n",
              "      <script>\n",
              "        const buttonEl =\n",
              "          document.querySelector('#df-4e11bae4-fe1b-43a7-b816-f77037370d55 button.colab-df-convert');\n",
              "        buttonEl.style.display =\n",
              "          google.colab.kernel.accessAllowed ? 'block' : 'none';\n",
              "\n",
              "        async function convertToInteractive(key) {\n",
              "          const element = document.querySelector('#df-4e11bae4-fe1b-43a7-b816-f77037370d55');\n",
              "          const dataTable =\n",
              "            await google.colab.kernel.invokeFunction('convertToInteractive',\n",
              "                                                     [key], {});\n",
              "          if (!dataTable) return;\n",
              "\n",
              "          const docLinkHtml = 'Like what you see? Visit the ' +\n",
              "            '<a target=\"_blank\" href=https://colab.research.google.com/notebooks/data_table.ipynb>data table notebook</a>'\n",
              "            + ' to learn more about interactive tables.';\n",
              "          element.innerHTML = '';\n",
              "          dataTable['output_type'] = 'display_data';\n",
              "          await google.colab.output.renderOutput(dataTable, element);\n",
              "          const docLink = document.createElement('div');\n",
              "          docLink.innerHTML = docLinkHtml;\n",
              "          element.appendChild(docLink);\n",
              "        }\n",
              "      </script>\n",
              "    </div>\n",
              "  </div>\n",
              "  "
            ]
          },
          "metadata": {},
          "execution_count": 7
        }
      ]
    },
    {
      "cell_type": "code",
      "source": [
        "import statsmodels.api as sample_data\n",
        "from sklearn import linear_model as LM"
      ],
      "metadata": {
        "id": "DiwIEfBuE40l"
      },
      "execution_count": null,
      "outputs": []
    },
    {
      "cell_type": "code",
      "source": [
        "#Salary=b0+b1*Age\n",
        "x=pd.DataFrame(ndf.Age)\n",
        "y=pd.DataFrame(ndf.Salary)"
      ],
      "metadata": {
        "id": "fMg5G7JOFCR_"
      },
      "execution_count": null,
      "outputs": []
    },
    {
      "cell_type": "code",
      "source": [
        "type(x)"
      ],
      "metadata": {
        "colab": {
          "base_uri": "https://localhost:8080/"
        },
        "id": "KefMI1yEFQlR",
        "outputId": "6352d39c-7902-4057-eef6-e50c95a33e8d"
      },
      "execution_count": null,
      "outputs": [
        {
          "output_type": "execute_result",
          "data": {
            "text/plain": [
              "pandas.core.frame.DataFrame"
            ]
          },
          "metadata": {},
          "execution_count": 10
        }
      ]
    },
    {
      "cell_type": "code",
      "source": [
        "type(y)"
      ],
      "metadata": {
        "colab": {
          "base_uri": "https://localhost:8080/"
        },
        "id": "zlPMc2lsFReI",
        "outputId": "801da81a-a820-495b-a5e8-c00d6173c98c"
      },
      "execution_count": null,
      "outputs": [
        {
          "output_type": "execute_result",
          "data": {
            "text/plain": [
              "pandas.core.frame.DataFrame"
            ]
          },
          "metadata": {},
          "execution_count": 11
        }
      ]
    },
    {
      "cell_type": "code",
      "source": [
        "lm=LM.LinearRegression()\n",
        "model_lm=lm.fit(x,y)\n",
        "model_lm"
      ],
      "metadata": {
        "colab": {
          "base_uri": "https://localhost:8080/"
        },
        "id": "lm7HIXG0FTmV",
        "outputId": "4aebfcea-02cf-4e3f-c3b0-d938d7d988e3"
      },
      "execution_count": null,
      "outputs": [
        {
          "output_type": "execute_result",
          "data": {
            "text/plain": [
              "LinearRegression()"
            ]
          },
          "metadata": {},
          "execution_count": 12
        }
      ]
    },
    {
      "cell_type": "code",
      "source": [
        "print('Model intercept is: ',model_lm.intercept_)\n",
        "print('Model coefficient is: ',model_lm.coef_)\n",
        "model_lm.score(x,y)"
      ],
      "metadata": {
        "colab": {
          "base_uri": "https://localhost:8080/"
        },
        "id": "4SSVIHsLGAm-",
        "outputId": "e2be7382-3d7a-4e4a-cccc-f15783d1ffbd"
      },
      "execution_count": null,
      "outputs": [
        {
          "output_type": "stream",
          "name": "stdout",
          "text": [
            "Model intercept is:  [606.34509569]\n",
            "Model coefficient is:  [[41.96351675]]\n"
          ]
        },
        {
          "output_type": "execute_result",
          "data": {
            "text/plain": [
              "0.31711161647425"
            ]
          },
          "metadata": {},
          "execution_count": 13
        }
      ]
    },
    {
      "cell_type": "markdown",
      "source": [
        "### What is the impact of Age in salary?\n",
        "salary=b0 + b1*age\n",
        "\n"
      ],
      "metadata": {
        "id": "v2lst7n0asEH"
      }
    },
    {
      "cell_type": "code",
      "source": [
        "model1A=sm.OLS.from_formula('Salary~Age',data=df)\n",
        "resultA=model1A.fit()\n",
        "resultA.summary()"
      ],
      "metadata": {
        "id": "PH7vu8SyGrrP",
        "colab": {
          "base_uri": "https://localhost:8080/",
          "height": 486
        },
        "outputId": "41e7b0f9-cd81-4de8-855b-97f249f613e1"
      },
      "execution_count": null,
      "outputs": [
        {
          "output_type": "stream",
          "name": "stderr",
          "text": [
            "/usr/local/lib/python3.7/dist-packages/scipy/stats/stats.py:1542: UserWarning: kurtosistest only valid for n>=20 ... continuing anyway, n=17\n",
            "  \"anyway, n=%i\" % int(n))\n"
          ]
        },
        {
          "output_type": "execute_result",
          "data": {
            "text/plain": [
              "<class 'statsmodels.iolib.summary.Summary'>\n",
              "\"\"\"\n",
              "                            OLS Regression Results                            \n",
              "==============================================================================\n",
              "Dep. Variable:                 Salary   R-squared:                       0.317\n",
              "Model:                            OLS   Adj. R-squared:                  0.272\n",
              "Method:                 Least Squares   F-statistic:                     6.966\n",
              "Date:                Tue, 29 Nov 2022   Prob (F-statistic):             0.0186\n",
              "Time:                        18:09:26   Log-Likelihood:                -128.66\n",
              "No. Observations:                  17   AIC:                             261.3\n",
              "Df Residuals:                      15   BIC:                             263.0\n",
              "Df Model:                           1                                         \n",
              "Covariance Type:            nonrobust                                         \n",
              "==============================================================================\n",
              "                 coef    std err          t      P>|t|      [0.025      0.975]\n",
              "------------------------------------------------------------------------------\n",
              "Intercept    606.3451    674.058      0.900      0.383    -830.376    2043.066\n",
              "Age           41.9635     15.900      2.639      0.019       8.074      75.853\n",
              "==============================================================================\n",
              "Omnibus:                        0.097   Durbin-Watson:                   1.273\n",
              "Prob(Omnibus):                  0.953   Jarque-Bera (JB):                0.315\n",
              "Skew:                           0.084   Prob(JB):                        0.854\n",
              "Kurtosis:                       2.354   Cond. No.                         236.\n",
              "==============================================================================\n",
              "\n",
              "Notes:\n",
              "[1] Standard Errors assume that the covariance matrix of the errors is correctly specified.\n",
              "\"\"\""
            ],
            "text/html": [
              "<table class=\"simpletable\">\n",
              "<caption>OLS Regression Results</caption>\n",
              "<tr>\n",
              "  <th>Dep. Variable:</th>         <td>Salary</td>      <th>  R-squared:         </th> <td>   0.317</td>\n",
              "</tr>\n",
              "<tr>\n",
              "  <th>Model:</th>                   <td>OLS</td>       <th>  Adj. R-squared:    </th> <td>   0.272</td>\n",
              "</tr>\n",
              "<tr>\n",
              "  <th>Method:</th>             <td>Least Squares</td>  <th>  F-statistic:       </th> <td>   6.966</td>\n",
              "</tr>\n",
              "<tr>\n",
              "  <th>Date:</th>             <td>Tue, 29 Nov 2022</td> <th>  Prob (F-statistic):</th>  <td>0.0186</td> \n",
              "</tr>\n",
              "<tr>\n",
              "  <th>Time:</th>                 <td>18:09:26</td>     <th>  Log-Likelihood:    </th> <td> -128.66</td>\n",
              "</tr>\n",
              "<tr>\n",
              "  <th>No. Observations:</th>      <td>    17</td>      <th>  AIC:               </th> <td>   261.3</td>\n",
              "</tr>\n",
              "<tr>\n",
              "  <th>Df Residuals:</th>          <td>    15</td>      <th>  BIC:               </th> <td>   263.0</td>\n",
              "</tr>\n",
              "<tr>\n",
              "  <th>Df Model:</th>              <td>     1</td>      <th>                     </th>     <td> </td>   \n",
              "</tr>\n",
              "<tr>\n",
              "  <th>Covariance Type:</th>      <td>nonrobust</td>    <th>                     </th>     <td> </td>   \n",
              "</tr>\n",
              "</table>\n",
              "<table class=\"simpletable\">\n",
              "<tr>\n",
              "      <td></td>         <th>coef</th>     <th>std err</th>      <th>t</th>      <th>P>|t|</th>  <th>[0.025</th>    <th>0.975]</th>  \n",
              "</tr>\n",
              "<tr>\n",
              "  <th>Intercept</th> <td>  606.3451</td> <td>  674.058</td> <td>    0.900</td> <td> 0.383</td> <td> -830.376</td> <td> 2043.066</td>\n",
              "</tr>\n",
              "<tr>\n",
              "  <th>Age</th>       <td>   41.9635</td> <td>   15.900</td> <td>    2.639</td> <td> 0.019</td> <td>    8.074</td> <td>   75.853</td>\n",
              "</tr>\n",
              "</table>\n",
              "<table class=\"simpletable\">\n",
              "<tr>\n",
              "  <th>Omnibus:</th>       <td> 0.097</td> <th>  Durbin-Watson:     </th> <td>   1.273</td>\n",
              "</tr>\n",
              "<tr>\n",
              "  <th>Prob(Omnibus):</th> <td> 0.953</td> <th>  Jarque-Bera (JB):  </th> <td>   0.315</td>\n",
              "</tr>\n",
              "<tr>\n",
              "  <th>Skew:</th>          <td> 0.084</td> <th>  Prob(JB):          </th> <td>   0.854</td>\n",
              "</tr>\n",
              "<tr>\n",
              "  <th>Kurtosis:</th>      <td> 2.354</td> <th>  Cond. No.          </th> <td>    236.</td>\n",
              "</tr>\n",
              "</table><br/><br/>Notes:<br/>[1] Standard Errors assume that the covariance matrix of the errors is correctly specified."
            ]
          },
          "metadata": {},
          "execution_count": 26
        }
      ]
    },
    {
      "cell_type": "markdown",
      "source": [
        "### Salary =b0 + b1*age\n",
        "### Salary =606.3451 + 41.9635*age"
      ],
      "metadata": {
        "id": "JCfCKNfmd8p0"
      }
    },
    {
      "cell_type": "code",
      "source": [
        "print('Salary of a person with age 33 is',606.3451 + 41.9635*33)"
      ],
      "metadata": {
        "colab": {
          "base_uri": "https://localhost:8080/"
        },
        "id": "b3Oun1dkb7iU",
        "outputId": "fb8bc773-4f71-4d59-c78b-6b853dc2eece"
      },
      "execution_count": null,
      "outputs": [
        {
          "output_type": "stream",
          "name": "stdout",
          "text": [
            "Salary of a person with age 33 is 1991.1406000000002\n"
          ]
        }
      ]
    },
    {
      "cell_type": "code",
      "source": [
        "ndf"
      ],
      "metadata": {
        "colab": {
          "base_uri": "https://localhost:8080/",
          "height": 582
        },
        "id": "B7BIoTolei5s",
        "outputId": "2d20f4ae-0037-48c7-e75e-cb4f13399d33"
      },
      "execution_count": null,
      "outputs": [
        {
          "output_type": "execute_result",
          "data": {
            "text/plain": [
              "    Salary   Age\n",
              "0   1300.0  35.0\n",
              "1   1250.0  33.0\n",
              "2   2200.0  34.0\n",
              "3   2100.0  42.0\n",
              "4   1500.0  29.0\n",
              "5   1700.0  42.0\n",
              "6   3000.0  50.0\n",
              "7   3000.0  55.0\n",
              "8   2800.0  31.0\n",
              "9   2900.0  46.0\n",
              "10  2780.0  36.0\n",
              "11  2550.0  48.0\n",
              "14  2780.0  36.0\n",
              "15  2550.0  48.0\n",
              "16  2550.0  48.0\n",
              "17  2550.0  48.0\n",
              "18  2550.0  48.0"
            ],
            "text/html": [
              "\n",
              "  <div id=\"df-08faa9ef-f4d9-47d3-b28a-c36ea4ac99e9\">\n",
              "    <div class=\"colab-df-container\">\n",
              "      <div>\n",
              "<style scoped>\n",
              "    .dataframe tbody tr th:only-of-type {\n",
              "        vertical-align: middle;\n",
              "    }\n",
              "\n",
              "    .dataframe tbody tr th {\n",
              "        vertical-align: top;\n",
              "    }\n",
              "\n",
              "    .dataframe thead th {\n",
              "        text-align: right;\n",
              "    }\n",
              "</style>\n",
              "<table border=\"1\" class=\"dataframe\">\n",
              "  <thead>\n",
              "    <tr style=\"text-align: right;\">\n",
              "      <th></th>\n",
              "      <th>Salary</th>\n",
              "      <th>Age</th>\n",
              "    </tr>\n",
              "  </thead>\n",
              "  <tbody>\n",
              "    <tr>\n",
              "      <th>0</th>\n",
              "      <td>1300.0</td>\n",
              "      <td>35.0</td>\n",
              "    </tr>\n",
              "    <tr>\n",
              "      <th>1</th>\n",
              "      <td>1250.0</td>\n",
              "      <td>33.0</td>\n",
              "    </tr>\n",
              "    <tr>\n",
              "      <th>2</th>\n",
              "      <td>2200.0</td>\n",
              "      <td>34.0</td>\n",
              "    </tr>\n",
              "    <tr>\n",
              "      <th>3</th>\n",
              "      <td>2100.0</td>\n",
              "      <td>42.0</td>\n",
              "    </tr>\n",
              "    <tr>\n",
              "      <th>4</th>\n",
              "      <td>1500.0</td>\n",
              "      <td>29.0</td>\n",
              "    </tr>\n",
              "    <tr>\n",
              "      <th>5</th>\n",
              "      <td>1700.0</td>\n",
              "      <td>42.0</td>\n",
              "    </tr>\n",
              "    <tr>\n",
              "      <th>6</th>\n",
              "      <td>3000.0</td>\n",
              "      <td>50.0</td>\n",
              "    </tr>\n",
              "    <tr>\n",
              "      <th>7</th>\n",
              "      <td>3000.0</td>\n",
              "      <td>55.0</td>\n",
              "    </tr>\n",
              "    <tr>\n",
              "      <th>8</th>\n",
              "      <td>2800.0</td>\n",
              "      <td>31.0</td>\n",
              "    </tr>\n",
              "    <tr>\n",
              "      <th>9</th>\n",
              "      <td>2900.0</td>\n",
              "      <td>46.0</td>\n",
              "    </tr>\n",
              "    <tr>\n",
              "      <th>10</th>\n",
              "      <td>2780.0</td>\n",
              "      <td>36.0</td>\n",
              "    </tr>\n",
              "    <tr>\n",
              "      <th>11</th>\n",
              "      <td>2550.0</td>\n",
              "      <td>48.0</td>\n",
              "    </tr>\n",
              "    <tr>\n",
              "      <th>14</th>\n",
              "      <td>2780.0</td>\n",
              "      <td>36.0</td>\n",
              "    </tr>\n",
              "    <tr>\n",
              "      <th>15</th>\n",
              "      <td>2550.0</td>\n",
              "      <td>48.0</td>\n",
              "    </tr>\n",
              "    <tr>\n",
              "      <th>16</th>\n",
              "      <td>2550.0</td>\n",
              "      <td>48.0</td>\n",
              "    </tr>\n",
              "    <tr>\n",
              "      <th>17</th>\n",
              "      <td>2550.0</td>\n",
              "      <td>48.0</td>\n",
              "    </tr>\n",
              "    <tr>\n",
              "      <th>18</th>\n",
              "      <td>2550.0</td>\n",
              "      <td>48.0</td>\n",
              "    </tr>\n",
              "  </tbody>\n",
              "</table>\n",
              "</div>\n",
              "      <button class=\"colab-df-convert\" onclick=\"convertToInteractive('df-08faa9ef-f4d9-47d3-b28a-c36ea4ac99e9')\"\n",
              "              title=\"Convert this dataframe to an interactive table.\"\n",
              "              style=\"display:none;\">\n",
              "        \n",
              "  <svg xmlns=\"http://www.w3.org/2000/svg\" height=\"24px\"viewBox=\"0 0 24 24\"\n",
              "       width=\"24px\">\n",
              "    <path d=\"M0 0h24v24H0V0z\" fill=\"none\"/>\n",
              "    <path d=\"M18.56 5.44l.94 2.06.94-2.06 2.06-.94-2.06-.94-.94-2.06-.94 2.06-2.06.94zm-11 1L8.5 8.5l.94-2.06 2.06-.94-2.06-.94L8.5 2.5l-.94 2.06-2.06.94zm10 10l.94 2.06.94-2.06 2.06-.94-2.06-.94-.94-2.06-.94 2.06-2.06.94z\"/><path d=\"M17.41 7.96l-1.37-1.37c-.4-.4-.92-.59-1.43-.59-.52 0-1.04.2-1.43.59L10.3 9.45l-7.72 7.72c-.78.78-.78 2.05 0 2.83L4 21.41c.39.39.9.59 1.41.59.51 0 1.02-.2 1.41-.59l7.78-7.78 2.81-2.81c.8-.78.8-2.07 0-2.86zM5.41 20L4 18.59l7.72-7.72 1.47 1.35L5.41 20z\"/>\n",
              "  </svg>\n",
              "      </button>\n",
              "      \n",
              "  <style>\n",
              "    .colab-df-container {\n",
              "      display:flex;\n",
              "      flex-wrap:wrap;\n",
              "      gap: 12px;\n",
              "    }\n",
              "\n",
              "    .colab-df-convert {\n",
              "      background-color: #E8F0FE;\n",
              "      border: none;\n",
              "      border-radius: 50%;\n",
              "      cursor: pointer;\n",
              "      display: none;\n",
              "      fill: #1967D2;\n",
              "      height: 32px;\n",
              "      padding: 0 0 0 0;\n",
              "      width: 32px;\n",
              "    }\n",
              "\n",
              "    .colab-df-convert:hover {\n",
              "      background-color: #E2EBFA;\n",
              "      box-shadow: 0px 1px 2px rgba(60, 64, 67, 0.3), 0px 1px 3px 1px rgba(60, 64, 67, 0.15);\n",
              "      fill: #174EA6;\n",
              "    }\n",
              "\n",
              "    [theme=dark] .colab-df-convert {\n",
              "      background-color: #3B4455;\n",
              "      fill: #D2E3FC;\n",
              "    }\n",
              "\n",
              "    [theme=dark] .colab-df-convert:hover {\n",
              "      background-color: #434B5C;\n",
              "      box-shadow: 0px 1px 3px 1px rgba(0, 0, 0, 0.15);\n",
              "      filter: drop-shadow(0px 1px 2px rgba(0, 0, 0, 0.3));\n",
              "      fill: #FFFFFF;\n",
              "    }\n",
              "  </style>\n",
              "\n",
              "      <script>\n",
              "        const buttonEl =\n",
              "          document.querySelector('#df-08faa9ef-f4d9-47d3-b28a-c36ea4ac99e9 button.colab-df-convert');\n",
              "        buttonEl.style.display =\n",
              "          google.colab.kernel.accessAllowed ? 'block' : 'none';\n",
              "\n",
              "        async function convertToInteractive(key) {\n",
              "          const element = document.querySelector('#df-08faa9ef-f4d9-47d3-b28a-c36ea4ac99e9');\n",
              "          const dataTable =\n",
              "            await google.colab.kernel.invokeFunction('convertToInteractive',\n",
              "                                                     [key], {});\n",
              "          if (!dataTable) return;\n",
              "\n",
              "          const docLinkHtml = 'Like what you see? Visit the ' +\n",
              "            '<a target=\"_blank\" href=https://colab.research.google.com/notebooks/data_table.ipynb>data table notebook</a>'\n",
              "            + ' to learn more about interactive tables.';\n",
              "          element.innerHTML = '';\n",
              "          dataTable['output_type'] = 'display_data';\n",
              "          await google.colab.output.renderOutput(dataTable, element);\n",
              "          const docLink = document.createElement('div');\n",
              "          docLink.innerHTML = docLinkHtml;\n",
              "          element.appendChild(docLink);\n",
              "        }\n",
              "      </script>\n",
              "    </div>\n",
              "  </div>\n",
              "  "
            ]
          },
          "metadata": {},
          "execution_count": 16
        }
      ]
    },
    {
      "cell_type": "code",
      "source": [
        "resultA.resid"
      ],
      "metadata": {
        "colab": {
          "base_uri": "https://localhost:8080/"
        },
        "id": "TAwyUcx3eoi4",
        "outputId": "43979c1c-22b5-4aff-feae-99a706feec63"
      },
      "execution_count": null,
      "outputs": [
        {
          "output_type": "execute_result",
          "data": {
            "text/plain": [
              "0    -775.068182\n",
              "1    -741.141148\n",
              "2     166.895335\n",
              "3    -268.812799\n",
              "4    -323.287081\n",
              "5    -668.812799\n",
              "6     295.479067\n",
              "7      85.661483\n",
              "8     892.785885\n",
              "9     363.333134\n",
              "10    662.968301\n",
              "11    -70.593900\n",
              "14    662.968301\n",
              "15    -70.593900\n",
              "16    -70.593900\n",
              "17    -70.593900\n",
              "18    -70.593900\n",
              "dtype: float64"
            ]
          },
          "metadata": {},
          "execution_count": 17
        }
      ]
    },
    {
      "cell_type": "markdown",
      "source": [
        "### How the age and gender impact de salary?\n",
        "Salary=b0 + b1*age, b2 * gender"
      ],
      "metadata": {
        "id": "Oxjqo1iZhPnp"
      }
    },
    {
      "cell_type": "code",
      "source": [
        "model1B=sm.OLS.from_formula('Salary~ Age + Gender',data=df)\n",
        "resultB=model1B.fit()\n",
        "resultB.summary()"
      ],
      "metadata": {
        "colab": {
          "base_uri": "https://localhost:8080/",
          "height": 508
        },
        "id": "Zl9Zjv5shUkS",
        "outputId": "d5da4b49-c377-40be-fafb-084884c91753"
      },
      "execution_count": null,
      "outputs": [
        {
          "output_type": "stream",
          "name": "stderr",
          "text": [
            "/usr/local/lib/python3.7/dist-packages/scipy/stats/stats.py:1542: UserWarning: kurtosistest only valid for n>=20 ... continuing anyway, n=16\n",
            "  \"anyway, n=%i\" % int(n))\n"
          ]
        },
        {
          "output_type": "execute_result",
          "data": {
            "text/plain": [
              "<class 'statsmodels.iolib.summary.Summary'>\n",
              "\"\"\"\n",
              "                            OLS Regression Results                            \n",
              "==============================================================================\n",
              "Dep. Variable:                 Salary   R-squared:                       0.323\n",
              "Model:                            OLS   Adj. R-squared:                  0.219\n",
              "Method:                 Least Squares   F-statistic:                     3.108\n",
              "Date:                Tue, 29 Nov 2022   Prob (F-statistic):             0.0789\n",
              "Time:                        18:17:17   Log-Likelihood:                -121.44\n",
              "No. Observations:                  16   AIC:                             248.9\n",
              "Df Residuals:                      13   BIC:                             251.2\n",
              "Df Model:                           2                                         \n",
              "Covariance Type:            nonrobust                                         \n",
              "==================================================================================\n",
              "                     coef    std err          t      P>|t|      [0.025      0.975]\n",
              "----------------------------------------------------------------------------------\n",
              "Intercept        874.7433    968.174      0.903      0.383   -1216.869    2966.355\n",
              "Gender[T.Male]   188.7701    423.620      0.446      0.663    -726.406    1103.946\n",
              "Age               33.0033     27.396      1.205      0.250     -26.183      92.189\n",
              "==============================================================================\n",
              "Omnibus:                        0.559   Durbin-Watson:                   1.244\n",
              "Prob(Omnibus):                  0.756   Jarque-Bera (JB):                0.623\n",
              "Skew:                           0.295   Prob(JB):                        0.732\n",
              "Kurtosis:                       2.234   Cond. No.                         320.\n",
              "==============================================================================\n",
              "\n",
              "Notes:\n",
              "[1] Standard Errors assume that the covariance matrix of the errors is correctly specified.\n",
              "\"\"\""
            ],
            "text/html": [
              "<table class=\"simpletable\">\n",
              "<caption>OLS Regression Results</caption>\n",
              "<tr>\n",
              "  <th>Dep. Variable:</th>         <td>Salary</td>      <th>  R-squared:         </th> <td>   0.323</td>\n",
              "</tr>\n",
              "<tr>\n",
              "  <th>Model:</th>                   <td>OLS</td>       <th>  Adj. R-squared:    </th> <td>   0.219</td>\n",
              "</tr>\n",
              "<tr>\n",
              "  <th>Method:</th>             <td>Least Squares</td>  <th>  F-statistic:       </th> <td>   3.108</td>\n",
              "</tr>\n",
              "<tr>\n",
              "  <th>Date:</th>             <td>Tue, 29 Nov 2022</td> <th>  Prob (F-statistic):</th>  <td>0.0789</td> \n",
              "</tr>\n",
              "<tr>\n",
              "  <th>Time:</th>                 <td>18:17:17</td>     <th>  Log-Likelihood:    </th> <td> -121.44</td>\n",
              "</tr>\n",
              "<tr>\n",
              "  <th>No. Observations:</th>      <td>    16</td>      <th>  AIC:               </th> <td>   248.9</td>\n",
              "</tr>\n",
              "<tr>\n",
              "  <th>Df Residuals:</th>          <td>    13</td>      <th>  BIC:               </th> <td>   251.2</td>\n",
              "</tr>\n",
              "<tr>\n",
              "  <th>Df Model:</th>              <td>     2</td>      <th>                     </th>     <td> </td>   \n",
              "</tr>\n",
              "<tr>\n",
              "  <th>Covariance Type:</th>      <td>nonrobust</td>    <th>                     </th>     <td> </td>   \n",
              "</tr>\n",
              "</table>\n",
              "<table class=\"simpletable\">\n",
              "<tr>\n",
              "         <td></td>           <th>coef</th>     <th>std err</th>      <th>t</th>      <th>P>|t|</th>  <th>[0.025</th>    <th>0.975]</th>  \n",
              "</tr>\n",
              "<tr>\n",
              "  <th>Intercept</th>      <td>  874.7433</td> <td>  968.174</td> <td>    0.903</td> <td> 0.383</td> <td>-1216.869</td> <td> 2966.355</td>\n",
              "</tr>\n",
              "<tr>\n",
              "  <th>Gender[T.Male]</th> <td>  188.7701</td> <td>  423.620</td> <td>    0.446</td> <td> 0.663</td> <td> -726.406</td> <td> 1103.946</td>\n",
              "</tr>\n",
              "<tr>\n",
              "  <th>Age</th>            <td>   33.0033</td> <td>   27.396</td> <td>    1.205</td> <td> 0.250</td> <td>  -26.183</td> <td>   92.189</td>\n",
              "</tr>\n",
              "</table>\n",
              "<table class=\"simpletable\">\n",
              "<tr>\n",
              "  <th>Omnibus:</th>       <td> 0.559</td> <th>  Durbin-Watson:     </th> <td>   1.244</td>\n",
              "</tr>\n",
              "<tr>\n",
              "  <th>Prob(Omnibus):</th> <td> 0.756</td> <th>  Jarque-Bera (JB):  </th> <td>   0.623</td>\n",
              "</tr>\n",
              "<tr>\n",
              "  <th>Skew:</th>          <td> 0.295</td> <th>  Prob(JB):          </th> <td>   0.732</td>\n",
              "</tr>\n",
              "<tr>\n",
              "  <th>Kurtosis:</th>      <td> 2.234</td> <th>  Cond. No.          </th> <td>    320.</td>\n",
              "</tr>\n",
              "</table><br/><br/>Notes:<br/>[1] Standard Errors assume that the covariance matrix of the errors is correctly specified."
            ]
          },
          "metadata": {},
          "execution_count": 32
        }
      ]
    },
    {
      "cell_type": "markdown",
      "source": [
        "Salary=b0 + b1*age, b2 * gender\n",
        "\n",
        "Salary = 874.7433 + 188.7701*gender + 33.0033*age "
      ],
      "metadata": {
        "id": "Pv5NWrhljcoM"
      }
    },
    {
      "cell_type": "code",
      "source": [
        "print('Salary of a female with age 33 is',874.7433 + 188.7701*0 + 33.0033*33)"
      ],
      "metadata": {
        "colab": {
          "base_uri": "https://localhost:8080/"
        },
        "id": "iZdCEoHwlALF",
        "outputId": "49abff72-f118-4438-a2a8-e30f88cb01fa"
      },
      "execution_count": null,
      "outputs": [
        {
          "output_type": "stream",
          "name": "stdout",
          "text": [
            "Salary of a female with age 33 is 1963.8522000000003\n"
          ]
        }
      ]
    },
    {
      "cell_type": "markdown",
      "source": [
        "###Salary of a female with age 33 working in BMW is"
      ],
      "metadata": {
        "id": "lnLh4w-hnAmI"
      }
    },
    {
      "cell_type": "code",
      "source": [
        "model1C=sm.OLS.from_formula('Salary~ Age + Gender + Company',data=df)\n",
        "resultC=model1C.fit()\n",
        "resultC.summary()"
      ],
      "metadata": {
        "colab": {
          "base_uri": "https://localhost:8080/",
          "height": 550
        },
        "id": "BjzPlQDdmuQw",
        "outputId": "28846308-49ff-4980-90e1-bf284a974d01"
      },
      "execution_count": null,
      "outputs": [
        {
          "output_type": "stream",
          "name": "stderr",
          "text": [
            "/usr/local/lib/python3.7/dist-packages/scipy/stats/stats.py:1542: UserWarning: kurtosistest only valid for n>=20 ... continuing anyway, n=15\n",
            "  \"anyway, n=%i\" % int(n))\n"
          ]
        },
        {
          "output_type": "execute_result",
          "data": {
            "text/plain": [
              "<class 'statsmodels.iolib.summary.Summary'>\n",
              "\"\"\"\n",
              "                            OLS Regression Results                            \n",
              "==============================================================================\n",
              "Dep. Variable:                 Salary   R-squared:                       0.329\n",
              "Model:                            OLS   Adj. R-squared:                  0.060\n",
              "Method:                 Least Squares   F-statistic:                     1.225\n",
              "Date:                Tue, 29 Nov 2022   Prob (F-statistic):              0.360\n",
              "Time:                        18:17:12   Log-Likelihood:                -114.21\n",
              "No. Observations:                  15   AIC:                             238.4\n",
              "Df Residuals:                      10   BIC:                             242.0\n",
              "Df Model:                           4                                         \n",
              "Covariance Type:            nonrobust                                         \n",
              "===================================================================================\n",
              "                      coef    std err          t      P>|t|      [0.025      0.975]\n",
              "-----------------------------------------------------------------------------------\n",
              "Intercept         783.6221   1129.351      0.694      0.504   -1732.729    3299.974\n",
              "Gender[T.Male]    143.1703    528.628      0.271      0.792   -1034.686    1321.027\n",
              "Company[T.Ford]  -143.3508    390.332     -0.367      0.721   -1013.065     726.364\n",
              "Company[T.GM]     -94.6944    484.605     -0.195      0.849   -1174.461     985.072\n",
              "Age                38.0085     33.731      1.127      0.286     -37.149     113.166\n",
              "==============================================================================\n",
              "Omnibus:                        0.350   Durbin-Watson:                   1.205\n",
              "Prob(Omnibus):                  0.839   Jarque-Bera (JB):                0.476\n",
              "Skew:                           0.255   Prob(JB):                        0.788\n",
              "Kurtosis:                       2.293   Cond. No.                         318.\n",
              "==============================================================================\n",
              "\n",
              "Notes:\n",
              "[1] Standard Errors assume that the covariance matrix of the errors is correctly specified.\n",
              "\"\"\""
            ],
            "text/html": [
              "<table class=\"simpletable\">\n",
              "<caption>OLS Regression Results</caption>\n",
              "<tr>\n",
              "  <th>Dep. Variable:</th>         <td>Salary</td>      <th>  R-squared:         </th> <td>   0.329</td>\n",
              "</tr>\n",
              "<tr>\n",
              "  <th>Model:</th>                   <td>OLS</td>       <th>  Adj. R-squared:    </th> <td>   0.060</td>\n",
              "</tr>\n",
              "<tr>\n",
              "  <th>Method:</th>             <td>Least Squares</td>  <th>  F-statistic:       </th> <td>   1.225</td>\n",
              "</tr>\n",
              "<tr>\n",
              "  <th>Date:</th>             <td>Tue, 29 Nov 2022</td> <th>  Prob (F-statistic):</th>  <td> 0.360</td> \n",
              "</tr>\n",
              "<tr>\n",
              "  <th>Time:</th>                 <td>18:17:12</td>     <th>  Log-Likelihood:    </th> <td> -114.21</td>\n",
              "</tr>\n",
              "<tr>\n",
              "  <th>No. Observations:</th>      <td>    15</td>      <th>  AIC:               </th> <td>   238.4</td>\n",
              "</tr>\n",
              "<tr>\n",
              "  <th>Df Residuals:</th>          <td>    10</td>      <th>  BIC:               </th> <td>   242.0</td>\n",
              "</tr>\n",
              "<tr>\n",
              "  <th>Df Model:</th>              <td>     4</td>      <th>                     </th>     <td> </td>   \n",
              "</tr>\n",
              "<tr>\n",
              "  <th>Covariance Type:</th>      <td>nonrobust</td>    <th>                     </th>     <td> </td>   \n",
              "</tr>\n",
              "</table>\n",
              "<table class=\"simpletable\">\n",
              "<tr>\n",
              "         <td></td>            <th>coef</th>     <th>std err</th>      <th>t</th>      <th>P>|t|</th>  <th>[0.025</th>    <th>0.975]</th>  \n",
              "</tr>\n",
              "<tr>\n",
              "  <th>Intercept</th>       <td>  783.6221</td> <td> 1129.351</td> <td>    0.694</td> <td> 0.504</td> <td>-1732.729</td> <td> 3299.974</td>\n",
              "</tr>\n",
              "<tr>\n",
              "  <th>Gender[T.Male]</th>  <td>  143.1703</td> <td>  528.628</td> <td>    0.271</td> <td> 0.792</td> <td>-1034.686</td> <td> 1321.027</td>\n",
              "</tr>\n",
              "<tr>\n",
              "  <th>Company[T.Ford]</th> <td> -143.3508</td> <td>  390.332</td> <td>   -0.367</td> <td> 0.721</td> <td>-1013.065</td> <td>  726.364</td>\n",
              "</tr>\n",
              "<tr>\n",
              "  <th>Company[T.GM]</th>   <td>  -94.6944</td> <td>  484.605</td> <td>   -0.195</td> <td> 0.849</td> <td>-1174.461</td> <td>  985.072</td>\n",
              "</tr>\n",
              "<tr>\n",
              "  <th>Age</th>             <td>   38.0085</td> <td>   33.731</td> <td>    1.127</td> <td> 0.286</td> <td>  -37.149</td> <td>  113.166</td>\n",
              "</tr>\n",
              "</table>\n",
              "<table class=\"simpletable\">\n",
              "<tr>\n",
              "  <th>Omnibus:</th>       <td> 0.350</td> <th>  Durbin-Watson:     </th> <td>   1.205</td>\n",
              "</tr>\n",
              "<tr>\n",
              "  <th>Prob(Omnibus):</th> <td> 0.839</td> <th>  Jarque-Bera (JB):  </th> <td>   0.476</td>\n",
              "</tr>\n",
              "<tr>\n",
              "  <th>Skew:</th>          <td> 0.255</td> <th>  Prob(JB):          </th> <td>   0.788</td>\n",
              "</tr>\n",
              "<tr>\n",
              "  <th>Kurtosis:</th>      <td> 2.293</td> <th>  Cond. No.          </th> <td>    318.</td>\n",
              "</tr>\n",
              "</table><br/><br/>Notes:<br/>[1] Standard Errors assume that the covariance matrix of the errors is correctly specified."
            ]
          },
          "metadata": {},
          "execution_count": 31
        }
      ]
    },
    {
      "cell_type": "markdown",
      "source": [
        "**SALARY = b0 + b1*gender + b2*age + b3*company(ford) + b4*company(GM)**\n",
        "* SALARY = 783.6221 + 143.1703*gender + 38.0085*age - 143.3508*company(ford) - 94.6944*company(GM)"
      ],
      "metadata": {
        "id": "vUyzJ9VanOdV"
      }
    },
    {
      "cell_type": "code",
      "source": [
        "print('Salary of a female with age 33 working in BMW is', 783.6221 + 143.1703*0 + 38.0085*33 - 143.3508*0 - 94.6944*0)"
      ],
      "metadata": {
        "colab": {
          "base_uri": "https://localhost:8080/"
        },
        "id": "AMVQjslmmx6d",
        "outputId": "6516f06d-3637-43bc-9ae4-1779ff97745b"
      },
      "execution_count": null,
      "outputs": [
        {
          "output_type": "stream",
          "name": "stdout",
          "text": [
            "Salary of a female with age 33 working in BMW is 2037.9026\n"
          ]
        }
      ]
    },
    {
      "cell_type": "code",
      "source": [
        "print('Salary of a female with age 33 working in Ford is', 783.6221 + 143.1703*0 + 38.0085*33 - 143.3508*1 - 94.6944*0)"
      ],
      "metadata": {
        "colab": {
          "base_uri": "https://localhost:8080/"
        },
        "id": "4jp2LYj1oURe",
        "outputId": "76e8acd9-9c2c-4628-8a76-54c59e2bc677"
      },
      "execution_count": null,
      "outputs": [
        {
          "output_type": "stream",
          "name": "stdout",
          "text": [
            "Salary of a female with age 33 working in BMW is 1894.5518\n"
          ]
        }
      ]
    },
    {
      "cell_type": "markdown",
      "source": [
        "### Salary of a female with age 33 working in Ford joined 2009"
      ],
      "metadata": {
        "id": "E9XVCzD-q4Yn"
      }
    },
    {
      "cell_type": "code",
      "source": [
        "model1D=sm.OLS.from_formula('Salary~ Age + Gender + Company + JoinYear',data=df)\n",
        "resultD=model1D.fit()\n",
        "resultD.summary()"
      ],
      "metadata": {
        "colab": {
          "base_uri": "https://localhost:8080/",
          "height": 606
        },
        "id": "dT56DqlYq9dg",
        "outputId": "cfc59710-52b1-4aae-d9ce-7aa17fc48ad4"
      },
      "execution_count": null,
      "outputs": [
        {
          "output_type": "stream",
          "name": "stderr",
          "text": [
            "/usr/local/lib/python3.7/dist-packages/scipy/stats/stats.py:1542: UserWarning: kurtosistest only valid for n>=20 ... continuing anyway, n=15\n",
            "  \"anyway, n=%i\" % int(n))\n"
          ]
        },
        {
          "output_type": "execute_result",
          "data": {
            "text/plain": [
              "<class 'statsmodels.iolib.summary.Summary'>\n",
              "\"\"\"\n",
              "                            OLS Regression Results                            \n",
              "==============================================================================\n",
              "Dep. Variable:                 Salary   R-squared:                       0.374\n",
              "Model:                            OLS   Adj. R-squared:                  0.026\n",
              "Method:                 Least Squares   F-statistic:                     1.074\n",
              "Date:                Tue, 29 Nov 2022   Prob (F-statistic):              0.435\n",
              "Time:                        18:35:52   Log-Likelihood:                -113.70\n",
              "No. Observations:                  15   AIC:                             239.4\n",
              "Df Residuals:                       9   BIC:                             243.6\n",
              "Df Model:                           5                                         \n",
              "Covariance Type:            nonrobust                                         \n",
              "===================================================================================\n",
              "                      coef    std err          t      P>|t|      [0.025      0.975]\n",
              "-----------------------------------------------------------------------------------\n",
              "Intercept       -6.864e+04   8.65e+04     -0.793      0.448   -2.64e+05    1.27e+05\n",
              "Gender[T.Male]    212.7294    545.242      0.390      0.705   -1020.695    1446.154\n",
              "Company[T.Ford]  -169.4085    398.803     -0.425      0.681   -1071.563     732.746\n",
              "Company[T.GM]       1.8537    507.937      0.004      0.997   -1147.180    1150.887\n",
              "Age                35.4906     34.492      1.029      0.330     -42.535     113.516\n",
              "JoinYear           34.6373     43.172      0.802      0.443     -63.026     132.300\n",
              "==============================================================================\n",
              "Omnibus:                        1.431   Durbin-Watson:                   1.281\n",
              "Prob(Omnibus):                  0.489   Jarque-Bera (JB):                0.355\n",
              "Skew:                           0.355   Prob(JB):                        0.837\n",
              "Kurtosis:                       3.253   Cond. No.                     1.10e+06\n",
              "==============================================================================\n",
              "\n",
              "Notes:\n",
              "[1] Standard Errors assume that the covariance matrix of the errors is correctly specified.\n",
              "[2] The condition number is large, 1.1e+06. This might indicate that there are\n",
              "strong multicollinearity or other numerical problems.\n",
              "\"\"\""
            ],
            "text/html": [
              "<table class=\"simpletable\">\n",
              "<caption>OLS Regression Results</caption>\n",
              "<tr>\n",
              "  <th>Dep. Variable:</th>         <td>Salary</td>      <th>  R-squared:         </th> <td>   0.374</td>\n",
              "</tr>\n",
              "<tr>\n",
              "  <th>Model:</th>                   <td>OLS</td>       <th>  Adj. R-squared:    </th> <td>   0.026</td>\n",
              "</tr>\n",
              "<tr>\n",
              "  <th>Method:</th>             <td>Least Squares</td>  <th>  F-statistic:       </th> <td>   1.074</td>\n",
              "</tr>\n",
              "<tr>\n",
              "  <th>Date:</th>             <td>Tue, 29 Nov 2022</td> <th>  Prob (F-statistic):</th>  <td> 0.435</td> \n",
              "</tr>\n",
              "<tr>\n",
              "  <th>Time:</th>                 <td>18:35:52</td>     <th>  Log-Likelihood:    </th> <td> -113.70</td>\n",
              "</tr>\n",
              "<tr>\n",
              "  <th>No. Observations:</th>      <td>    15</td>      <th>  AIC:               </th> <td>   239.4</td>\n",
              "</tr>\n",
              "<tr>\n",
              "  <th>Df Residuals:</th>          <td>     9</td>      <th>  BIC:               </th> <td>   243.6</td>\n",
              "</tr>\n",
              "<tr>\n",
              "  <th>Df Model:</th>              <td>     5</td>      <th>                     </th>     <td> </td>   \n",
              "</tr>\n",
              "<tr>\n",
              "  <th>Covariance Type:</th>      <td>nonrobust</td>    <th>                     </th>     <td> </td>   \n",
              "</tr>\n",
              "</table>\n",
              "<table class=\"simpletable\">\n",
              "<tr>\n",
              "         <td></td>            <th>coef</th>     <th>std err</th>      <th>t</th>      <th>P>|t|</th>  <th>[0.025</th>    <th>0.975]</th>  \n",
              "</tr>\n",
              "<tr>\n",
              "  <th>Intercept</th>       <td>-6.864e+04</td> <td> 8.65e+04</td> <td>   -0.793</td> <td> 0.448</td> <td>-2.64e+05</td> <td> 1.27e+05</td>\n",
              "</tr>\n",
              "<tr>\n",
              "  <th>Gender[T.Male]</th>  <td>  212.7294</td> <td>  545.242</td> <td>    0.390</td> <td> 0.705</td> <td>-1020.695</td> <td> 1446.154</td>\n",
              "</tr>\n",
              "<tr>\n",
              "  <th>Company[T.Ford]</th> <td> -169.4085</td> <td>  398.803</td> <td>   -0.425</td> <td> 0.681</td> <td>-1071.563</td> <td>  732.746</td>\n",
              "</tr>\n",
              "<tr>\n",
              "  <th>Company[T.GM]</th>   <td>    1.8537</td> <td>  507.937</td> <td>    0.004</td> <td> 0.997</td> <td>-1147.180</td> <td> 1150.887</td>\n",
              "</tr>\n",
              "<tr>\n",
              "  <th>Age</th>             <td>   35.4906</td> <td>   34.492</td> <td>    1.029</td> <td> 0.330</td> <td>  -42.535</td> <td>  113.516</td>\n",
              "</tr>\n",
              "<tr>\n",
              "  <th>JoinYear</th>        <td>   34.6373</td> <td>   43.172</td> <td>    0.802</td> <td> 0.443</td> <td>  -63.026</td> <td>  132.300</td>\n",
              "</tr>\n",
              "</table>\n",
              "<table class=\"simpletable\">\n",
              "<tr>\n",
              "  <th>Omnibus:</th>       <td> 1.431</td> <th>  Durbin-Watson:     </th> <td>   1.281</td>\n",
              "</tr>\n",
              "<tr>\n",
              "  <th>Prob(Omnibus):</th> <td> 0.489</td> <th>  Jarque-Bera (JB):  </th> <td>   0.355</td>\n",
              "</tr>\n",
              "<tr>\n",
              "  <th>Skew:</th>          <td> 0.355</td> <th>  Prob(JB):          </th> <td>   0.837</td>\n",
              "</tr>\n",
              "<tr>\n",
              "  <th>Kurtosis:</th>      <td> 3.253</td> <th>  Cond. No.          </th> <td>1.10e+06</td>\n",
              "</tr>\n",
              "</table><br/><br/>Notes:<br/>[1] Standard Errors assume that the covariance matrix of the errors is correctly specified.<br/>[2] The condition number is large, 1.1e+06. This might indicate that there are<br/>strong multicollinearity or other numerical problems."
            ]
          },
          "metadata": {},
          "execution_count": 37
        }
      ]
    },
    {
      "cell_type": "markdown",
      "source": [
        "**SALARY = b0 + b1*gender + b2*age + b3*company(ford) + b4*company(GM) * B5*JoinYear**\n",
        "* SALARY = -6.864e+04\t + 212.7294\t*gender[male] + 35.4906*age - 169.4085*company[Ford] + \t1.8537*company[GM] + 34.6373*JoinYear **texto en negrita**"
      ],
      "metadata": {
        "id": "mFObWVKHrkpm"
      }
    },
    {
      "cell_type": "code",
      "source": [
        "print('The salary of a 33 year old female working in FORD since 2009 is',-6.864e+04\t + 212.7294\t*0 + 35.4906*33 - 169.4085*1 + \t1.8537*0 + 34.6373*2010)"
      ],
      "metadata": {
        "colab": {
          "base_uri": "https://localhost:8080/"
        },
        "id": "6XWsQbqNrI09",
        "outputId": "909bc4a8-8847-428a-a4b5-0e7d5f10616f"
      },
      "execution_count": null,
      "outputs": [
        {
          "output_type": "stream",
          "name": "stdout",
          "text": [
            "The salary of a 33 year old female working in FORD since 2009 is 1982.7543000000005\n"
          ]
        }
      ]
    },
    {
      "cell_type": "code",
      "source": [
        "df.dtypes"
      ],
      "metadata": {
        "colab": {
          "base_uri": "https://localhost:8080/"
        },
        "id": "xNT7r7BCriXL",
        "outputId": "ba865c88-946f-42dd-9853-304ce20eec86"
      },
      "execution_count": null,
      "outputs": [
        {
          "output_type": "execute_result",
          "data": {
            "text/plain": [
              "Gender        object\n",
              "Salary       float64\n",
              "Age          float64\n",
              "Place         object\n",
              "Weight       float64\n",
              "Company       object\n",
              "Education     object\n",
              "JoinYear       int64\n",
              "dtype: object"
            ]
          },
          "metadata": {},
          "execution_count": 46
        }
      ]
    },
    {
      "cell_type": "code",
      "source": [
        "df.JoinYear.unique()"
      ],
      "metadata": {
        "colab": {
          "base_uri": "https://localhost:8080/"
        },
        "id": "7lyf2qV5s9Rp",
        "outputId": "531e7a08-2c50-4175-99cc-8a94c35fa523"
      },
      "execution_count": null,
      "outputs": [
        {
          "output_type": "execute_result",
          "data": {
            "text/plain": [
              "array([2008, 2010, 2004, 2000, 2009])"
            ]
          },
          "metadata": {},
          "execution_count": 48
        }
      ]
    },
    {
      "cell_type": "code",
      "source": [
        "# LA VARIABLE JOIN YEAR ES CATEGORICA PERO PYTHON NO LO SABE, ENTONCES TENEMOS QUE CAMBIARLA \n",
        "df.JoinYear=df.JoinYear.astype('str')\n"
      ],
      "metadata": {
        "id": "apySZbl1tPyV"
      },
      "execution_count": null,
      "outputs": []
    },
    {
      "cell_type": "code",
      "source": [
        "model1E=sm.OLS.from_formula('Salary~ Age + Gender + Company + JoinYear',data=df)\n",
        "resultE=model1E.fit()\n",
        "resultE.summary()"
      ],
      "metadata": {
        "colab": {
          "base_uri": "https://localhost:8080/",
          "height": 636
        },
        "id": "MNEI-V4TuDAN",
        "outputId": "1329ee84-9282-49eb-93d3-82c82352c0eb"
      },
      "execution_count": null,
      "outputs": [
        {
          "output_type": "stream",
          "name": "stderr",
          "text": [
            "/usr/local/lib/python3.7/dist-packages/scipy/stats/stats.py:1542: UserWarning: kurtosistest only valid for n>=20 ... continuing anyway, n=15\n",
            "  \"anyway, n=%i\" % int(n))\n"
          ]
        },
        {
          "output_type": "execute_result",
          "data": {
            "text/plain": [
              "<class 'statsmodels.iolib.summary.Summary'>\n",
              "\"\"\"\n",
              "                            OLS Regression Results                            \n",
              "==============================================================================\n",
              "Dep. Variable:                 Salary   R-squared:                       0.571\n",
              "Model:                            OLS   Adj. R-squared:                 -0.001\n",
              "Method:                 Least Squares   F-statistic:                    0.9985\n",
              "Date:                Tue, 29 Nov 2022   Prob (F-statistic):              0.516\n",
              "Time:                        18:49:02   Log-Likelihood:                -110.86\n",
              "No. Observations:                  15   AIC:                             239.7\n",
              "Df Residuals:                       6   BIC:                             246.1\n",
              "Df Model:                           8                                         \n",
              "Covariance Type:            nonrobust                                         \n",
              "====================================================================================\n",
              "                       coef    std err          t      P>|t|      [0.025      0.975]\n",
              "------------------------------------------------------------------------------------\n",
              "Intercept         -110.7400   1431.430     -0.077      0.941   -3613.324    3391.844\n",
              "Gender[T.Male]      62.5265    660.624      0.095      0.928   -1553.963    1679.016\n",
              "Company[T.Ford]   -149.2487    508.569     -0.293      0.779   -1393.672    1095.174\n",
              "Company[T.GM]       76.3867    537.625      0.142      0.892   -1239.135    1391.909\n",
              "JoinYear[T.2004]   694.8991    539.822      1.287      0.245    -625.999    2015.797\n",
              "JoinYear[T.2008]    82.1158    564.640      0.145      0.889   -1299.510    1463.741\n",
              "JoinYear[T.2009]  1060.3688    802.089      1.322      0.234    -902.273    3023.011\n",
              "JoinYear[T.2010]   446.8765    494.418      0.904      0.401    -762.921    1656.674\n",
              "Age                 50.8436     41.630      1.221      0.268     -51.022     152.709\n",
              "==============================================================================\n",
              "Omnibus:                        0.333   Durbin-Watson:                   1.595\n",
              "Prob(Omnibus):                  0.847   Jarque-Bera (JB):                0.329\n",
              "Skew:                           0.281   Prob(JB):                        0.848\n",
              "Kurtosis:                       2.540   Cond. No.                         403.\n",
              "==============================================================================\n",
              "\n",
              "Notes:\n",
              "[1] Standard Errors assume that the covariance matrix of the errors is correctly specified.\n",
              "\"\"\""
            ],
            "text/html": [
              "<table class=\"simpletable\">\n",
              "<caption>OLS Regression Results</caption>\n",
              "<tr>\n",
              "  <th>Dep. Variable:</th>         <td>Salary</td>      <th>  R-squared:         </th> <td>   0.571</td>\n",
              "</tr>\n",
              "<tr>\n",
              "  <th>Model:</th>                   <td>OLS</td>       <th>  Adj. R-squared:    </th> <td>  -0.001</td>\n",
              "</tr>\n",
              "<tr>\n",
              "  <th>Method:</th>             <td>Least Squares</td>  <th>  F-statistic:       </th> <td>  0.9985</td>\n",
              "</tr>\n",
              "<tr>\n",
              "  <th>Date:</th>             <td>Tue, 29 Nov 2022</td> <th>  Prob (F-statistic):</th>  <td> 0.516</td> \n",
              "</tr>\n",
              "<tr>\n",
              "  <th>Time:</th>                 <td>18:49:02</td>     <th>  Log-Likelihood:    </th> <td> -110.86</td>\n",
              "</tr>\n",
              "<tr>\n",
              "  <th>No. Observations:</th>      <td>    15</td>      <th>  AIC:               </th> <td>   239.7</td>\n",
              "</tr>\n",
              "<tr>\n",
              "  <th>Df Residuals:</th>          <td>     6</td>      <th>  BIC:               </th> <td>   246.1</td>\n",
              "</tr>\n",
              "<tr>\n",
              "  <th>Df Model:</th>              <td>     8</td>      <th>                     </th>     <td> </td>   \n",
              "</tr>\n",
              "<tr>\n",
              "  <th>Covariance Type:</th>      <td>nonrobust</td>    <th>                     </th>     <td> </td>   \n",
              "</tr>\n",
              "</table>\n",
              "<table class=\"simpletable\">\n",
              "<tr>\n",
              "          <td></td>            <th>coef</th>     <th>std err</th>      <th>t</th>      <th>P>|t|</th>  <th>[0.025</th>    <th>0.975]</th>  \n",
              "</tr>\n",
              "<tr>\n",
              "  <th>Intercept</th>        <td> -110.7400</td> <td> 1431.430</td> <td>   -0.077</td> <td> 0.941</td> <td>-3613.324</td> <td> 3391.844</td>\n",
              "</tr>\n",
              "<tr>\n",
              "  <th>Gender[T.Male]</th>   <td>   62.5265</td> <td>  660.624</td> <td>    0.095</td> <td> 0.928</td> <td>-1553.963</td> <td> 1679.016</td>\n",
              "</tr>\n",
              "<tr>\n",
              "  <th>Company[T.Ford]</th>  <td> -149.2487</td> <td>  508.569</td> <td>   -0.293</td> <td> 0.779</td> <td>-1393.672</td> <td> 1095.174</td>\n",
              "</tr>\n",
              "<tr>\n",
              "  <th>Company[T.GM]</th>    <td>   76.3867</td> <td>  537.625</td> <td>    0.142</td> <td> 0.892</td> <td>-1239.135</td> <td> 1391.909</td>\n",
              "</tr>\n",
              "<tr>\n",
              "  <th>JoinYear[T.2004]</th> <td>  694.8991</td> <td>  539.822</td> <td>    1.287</td> <td> 0.245</td> <td> -625.999</td> <td> 2015.797</td>\n",
              "</tr>\n",
              "<tr>\n",
              "  <th>JoinYear[T.2008]</th> <td>   82.1158</td> <td>  564.640</td> <td>    0.145</td> <td> 0.889</td> <td>-1299.510</td> <td> 1463.741</td>\n",
              "</tr>\n",
              "<tr>\n",
              "  <th>JoinYear[T.2009]</th> <td> 1060.3688</td> <td>  802.089</td> <td>    1.322</td> <td> 0.234</td> <td> -902.273</td> <td> 3023.011</td>\n",
              "</tr>\n",
              "<tr>\n",
              "  <th>JoinYear[T.2010]</th> <td>  446.8765</td> <td>  494.418</td> <td>    0.904</td> <td> 0.401</td> <td> -762.921</td> <td> 1656.674</td>\n",
              "</tr>\n",
              "<tr>\n",
              "  <th>Age</th>              <td>   50.8436</td> <td>   41.630</td> <td>    1.221</td> <td> 0.268</td> <td>  -51.022</td> <td>  152.709</td>\n",
              "</tr>\n",
              "</table>\n",
              "<table class=\"simpletable\">\n",
              "<tr>\n",
              "  <th>Omnibus:</th>       <td> 0.333</td> <th>  Durbin-Watson:     </th> <td>   1.595</td>\n",
              "</tr>\n",
              "<tr>\n",
              "  <th>Prob(Omnibus):</th> <td> 0.847</td> <th>  Jarque-Bera (JB):  </th> <td>   0.329</td>\n",
              "</tr>\n",
              "<tr>\n",
              "  <th>Skew:</th>          <td> 0.281</td> <th>  Prob(JB):          </th> <td>   0.848</td>\n",
              "</tr>\n",
              "<tr>\n",
              "  <th>Kurtosis:</th>      <td> 2.540</td> <th>  Cond. No.          </th> <td>    403.</td>\n",
              "</tr>\n",
              "</table><br/><br/>Notes:<br/>[1] Standard Errors assume that the covariance matrix of the errors is correctly specified."
            ]
          },
          "metadata": {},
          "execution_count": 50
        }
      ]
    },
    {
      "cell_type": "markdown",
      "source": [
        "**SALARY = b0 + b1*gender + b2*age + b3*company(ford) + b4*company(GM) * b5*JoinYear[2004] + b6*JoinYear[2008] + b7*JoinYear[2009] + b8*JoinYear[2010]**\n",
        "* SALARY = \t-110.7400 + 62.5265*gender[male] + 50.8436*age - 149.2487*company[Ford] +\t76.3867*company[GM] + 34.6373*JoinYear[2004] **texto en negrita**"
      ],
      "metadata": {
        "id": "2ONvogW0uapP"
      }
    },
    {
      "cell_type": "code",
      "source": [],
      "metadata": {
        "id": "NSrjVp-quJ3d"
      },
      "execution_count": null,
      "outputs": []
    }
  ]
}